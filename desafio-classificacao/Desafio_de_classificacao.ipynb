{
  "cells": [
    {
      "cell_type": "markdown",
      "metadata": {
        "id": "ovycVNTPxaFS"
      },
      "source": [
        "# **Desafio de Classificação:**\n",
        "\n",
        "**Nome:** Gustavo Bartholomeu Trad Souza\n",
        "\n",
        "**Nº USP:** 11219216\n",
        "\n",
        "**Disciplina:** SCC0277 - Competições de Ciências de Dados\n",
        "\n",
        "**Docente:** Fernando Pereira dos Santos\n",
        "\n",
        "**Universidade de São Paulo (USP)**\n",
        "\n",
        "Utilizando a metodologia básica de um projeto para ciência de dados, implemente possíveis soluções para o seguinte estudo de caso (https://www.kaggle.com/datasets/ahsan81/hotel-reservations-classification-dataset?resource=download). Desenvolva e implemente métodos que se propõem a responder a questão: **Será que um hóspede irá cancelar sua reserva?**\n",
        "\n",
        "Em seu projeto deverá constar uma análise detalhada do dataset e descrição das transformações de dados realizadas com suas respectivas justificativas. Adicionalmente, crie um baseline com as técnicas contidas nesta aula. Como forma de superar este baseline, pesquise por métodos e técnicas mais complexas. Você deverá entregar um relatório com os seguintes itens:\n",
        "\n",
        "1. Descrição do problema e análise dos dados\n",
        "2. Descrição das técnicas utilizadas\n",
        "3. Interpretação dos resultados obtidos\n",
        "4. Conclusão\n",
        "5. Apêndice (descrição das técnicas de Classificação apresentadas pelos colegas durante os seminários)"
      ]
    },
    {
      "cell_type": "code",
      "execution_count": null,
      "metadata": {
        "id": "r8F9DUUKxaFh"
      },
      "outputs": [],
      "source": [
        "# Importação das bibliotecas\n",
        "\n",
        "import pandas as pd\n",
        "import matplotlib.pyplot as plt\n",
        "import numpy as np\n",
        "from sklearn.model_selection import KFold, cross_val_score, train_test_split\n",
        "from sklearn.neighbors import KNeighborsClassifier\n",
        "from sklearn.linear_model import LogisticRegression\n",
        "from sklearn.svm import SVC\n",
        "from sklearn import tree\n",
        "from sklearn.ensemble import RandomForestClassifier\n",
        "from sklearn.neural_network import MLPClassifier\n",
        "from imblearn.combine import SMOTEENN\n",
        "from sklearn.metrics import confusion_matrix\n",
        "\n",
        "import math\n",
        "\n",
        "np.random.seed(seed=42)"
      ]
    },
    {
      "cell_type": "markdown",
      "metadata": {
        "id": "36K6h2zGxaFk"
      },
      "source": [
        "---\n",
        "## **1. Descrição do problema e análise dos dados**\n",
        "\n",
        "Os canais online de reserva de hotéis mudaram drasticamente as possibilidades de reserva e o comportamento dos clientes em relação à reserva de vagas. Um número significativo de reservas em hotéis é cancelado e os motivos típicos para cancelamentos incluem mudança de planos, conflitos de agendamento, etc. Uma forma de evitar grandes despesas por parte dos hotéis é tentar prever a possibilidade do cancelamento de acordo com informações fornecidas durante a reserva, dessa forma, quando um cliente \n",
        "\n",
        "### Descrição dos dados\n",
        "\n",
        "O dataset é estruturado e é composto de 19 colunas com informações sobre reservas realizadas por clientes e algumas informações sobre o cliente que realizou a reserva. As colunas do dataset são:\n",
        "\n",
        "* **Booking_ID:** Identificador único de cada reserva.\n",
        "* **no_of_adults:** Quantidade de adultos.\n",
        "* **no_of_children:** Quantidade de crianças.\n",
        "* **no_of_weekend_nights:** Quantidade de noites de fim de semana (sábado ou domingo) que o hóspede reservou.\n",
        "* **no_of_week_nights:** Quantidade de noites de dias de semana (segunda a sexta) que o hóspede reservou.\n",
        "* **type_of_meal_plan:** Tipo de plano de refeição reservado pelo cliente.\n",
        "* **required_car_parking_space:** Necessita de vaga no estacionamento? *(0-Não, 1-Sim)*.\n",
        "* **room_type_reserved:** Tipo de quarto reservado pelo cliente. Os valores são cifrados (codificados) pela INN Hotels.\n",
        "* **lead_time:** Quantidade de dias entre a data da reserva e a data de chegada.\n",
        "* **arrival_year:** Ano da reserva.\n",
        "* **arrival_month:** Mês da reserva.\n",
        "* **arrival_date:** Dia do mês da reserva.\n",
        "* **market_segment_type:** Designação do segmento de mercado.\n",
        "* **repeated_guest:** O cliente ja se hospedou no hotel antes? *(0-Não, 1-Sim)*.\n",
        "* **no_of_previous_cancellations:** Número de reservas anteriores que foram canceladas pelo cliente antes da reserva atual.\n",
        "* **no_of_previous_bookings_not_canceled:** Número de reservas anteriores que não foram canceladas pelo cliente antes da reserva atual.\n",
        "* **avg_price_per_room:** Preço médio por dia da reserva; os preços dos quartos são dinâmicos. *(em euros)*.\n",
        "* **no_of_special_requests:** Número total de solicitações especiais feitas pelo cliente *(por exemplo, número do andar, vista do quarto, etc.)*.\n",
        "* **booking_status:** Flag indicando se a reserva foi cancelada ou não."
      ]
    },
    {
      "cell_type": "code",
      "execution_count": null,
      "metadata": {
        "id": "6_-MvjkvxaFo",
        "colab": {
          "base_uri": "https://localhost:8080/"
        },
        "outputId": "95a1a730-97a8-4524-a5da-cccffb471aaf"
      },
      "outputs": [
        {
          "output_type": "stream",
          "name": "stdout",
          "text": [
            "<class 'pandas.core.frame.DataFrame'>\n",
            "RangeIndex: 36275 entries, 0 to 36274\n",
            "Data columns (total 19 columns):\n",
            " #   Column                                Non-Null Count  Dtype  \n",
            "---  ------                                --------------  -----  \n",
            " 0   Booking_ID                            36275 non-null  object \n",
            " 1   no_of_adults                          36275 non-null  int64  \n",
            " 2   no_of_children                        36275 non-null  int64  \n",
            " 3   no_of_weekend_nights                  36275 non-null  int64  \n",
            " 4   no_of_week_nights                     36275 non-null  int64  \n",
            " 5   type_of_meal_plan                     36275 non-null  object \n",
            " 6   required_car_parking_space            36275 non-null  int64  \n",
            " 7   room_type_reserved                    36275 non-null  object \n",
            " 8   lead_time                             36275 non-null  int64  \n",
            " 9   arrival_year                          36275 non-null  int64  \n",
            " 10  arrival_month                         36275 non-null  int64  \n",
            " 11  arrival_date                          36275 non-null  int64  \n",
            " 12  market_segment_type                   36275 non-null  object \n",
            " 13  repeated_guest                        36275 non-null  int64  \n",
            " 14  no_of_previous_cancellations          36275 non-null  int64  \n",
            " 15  no_of_previous_bookings_not_canceled  36275 non-null  int64  \n",
            " 16  avg_price_per_room                    36275 non-null  float64\n",
            " 17  no_of_special_requests                36275 non-null  int64  \n",
            " 18  booking_status                        36275 non-null  object \n",
            "dtypes: float64(1), int64(13), object(5)\n",
            "memory usage: 5.3+ MB\n"
          ]
        }
      ],
      "source": [
        "data = pd.read_csv('hotel_reservations.csv')\n",
        "data.info()"
      ]
    },
    {
      "cell_type": "markdown",
      "metadata": {
        "id": "3UJ5IVuYxaFs"
      },
      "source": [
        "### Atributos quantitativos e categóricos\n",
        "\n",
        "O dataset possui 36275 entradas distintas e **sem valores faltantes** com informações de reservas realizadas por clientes em diferentes hotéis. Dos 19 atributos presentes na tabela, 11 são quantitativos, sendo eles: **no_of_adults, no_of_children, no_of_weekend_nights, no_of_week_nights, lead_time, no_of_previous_cancellations, arrival_month, arrival_date, no_of_previous_bookings_not_canceled, avg_price_per_room, no_of_special_requests** e 6 atributos qualitativos, sendo eles: **type_of_meal_plan, required_car_parking_space, room_type_reserved, market_segment_type, repeated_guest e booking_status**. O atributo de identificação **Booking_ID** não é elevado em conta pois identifica univocadamente cada entrada da tabela e, portanto, não traz informações relevantes para a análise dos dados. O atributo **arrival_year** também será removido pois não traz informações que permitam prever o cancelamento de uma reserva uma vez que não se repete em dados futuros (de outros anos). O atributo binário **booking_status** é o atributo alvo que deve ser predito pelos algorpitmos de classificação que serão utilizados. Cada um dos atributo qualitativos possuem o seguinte número de valores únicos:"
      ]
    },
    {
      "cell_type": "code",
      "execution_count": null,
      "metadata": {
        "id": "58QEPmObxaFt",
        "colab": {
          "base_uri": "https://localhost:8080/"
        },
        "outputId": "657d69b1-0ea7-4f75-fc6c-9e6ba761ebd0"
      },
      "outputs": [
        {
          "output_type": "stream",
          "name": "stdout",
          "text": [
            "Numero de valores faltantes: \n",
            "\n"
          ]
        },
        {
          "output_type": "execute_result",
          "data": {
            "text/plain": [
              "no_of_adults                            0\n",
              "no_of_children                          0\n",
              "no_of_weekend_nights                    0\n",
              "no_of_week_nights                       0\n",
              "type_of_meal_plan                       0\n",
              "required_car_parking_space              0\n",
              "room_type_reserved                      0\n",
              "lead_time                               0\n",
              "arrival_month                           0\n",
              "arrival_date                            0\n",
              "market_segment_type                     0\n",
              "repeated_guest                          0\n",
              "no_of_previous_cancellations            0\n",
              "no_of_previous_bookings_not_canceled    0\n",
              "avg_price_per_room                      0\n",
              "no_of_special_requests                  0\n",
              "booking_status                          0\n",
              "dtype: int64"
            ]
          },
          "metadata": {},
          "execution_count": 3
        }
      ],
      "source": [
        "data = data.drop(columns=['Booking_ID', 'arrival_year'])\n",
        "print('Numero de valores faltantes: \\n')\n",
        "data.isna().sum()"
      ]
    },
    {
      "cell_type": "code",
      "execution_count": null,
      "metadata": {
        "id": "kB78ZJW0xaFu",
        "colab": {
          "base_uri": "https://localhost:8080/"
        },
        "outputId": "047d0bb8-f443-4b48-990e-a2714edbcfe7"
      },
      "outputs": [
        {
          "output_type": "stream",
          "name": "stdout",
          "text": [
            "Número de valores únicos nas colunas qualitativas:\n",
            "\n",
            "type_of_meal_plan : 4\n",
            "\t ['Meal Plan 1' 'Not Selected' 'Meal Plan 2' 'Meal Plan 3'] \n",
            "\n",
            "room_type_reserved : 7\n",
            "\t ['Room_Type 1' 'Room_Type 4' 'Room_Type 2' 'Room_Type 6' 'Room_Type 5'\n",
            " 'Room_Type 7' 'Room_Type 3'] \n",
            "\n",
            "market_segment_type : 5\n",
            "\t ['Offline' 'Online' 'Corporate' 'Aviation' 'Complementary'] \n",
            "\n",
            "required_car_parking_space : 2\n",
            "\t [0 1] \n",
            "\n",
            "repeated_guest : 2\n",
            "\t [0 1] \n",
            "\n",
            "booking_status : 2\n",
            "\t ['Not_Canceled' 'Canceled'] \n",
            "\n"
          ]
        }
      ],
      "source": [
        "# colunas quantitativas\n",
        "quant = ['no_of_adults', 'no_of_children', 'no_of_weekend_nights', 'no_of_week_nights', 'lead_time', 'no_of_previous_cancellations', \n",
        "         'no_of_previous_bookings_not_canceled', 'avg_price_per_room', 'no_of_special_requests', 'arrival_month', 'arrival_date',]\n",
        "\n",
        "# colunas categóricas\n",
        "categ = ['type_of_meal_plan', 'room_type_reserved', 'market_segment_type']\n",
        "\n",
        "# colunas binárias\n",
        "bin_vars = ['required_car_parking_space', 'repeated_guest']\n",
        "\n",
        "# valor alvo\n",
        "target = ['booking_status']\n",
        "\n",
        "print('Número de valores únicos nas colunas qualitativas:\\n')\n",
        "for col in categ + bin_vars+ target:\n",
        "    print(col, ':', data[col].nunique())\n",
        "    print('\\t', data[col].unique(), '\\n')\n"
      ]
    },
    {
      "cell_type": "markdown",
      "metadata": {
        "id": "EGWmUMIkxaFw"
      },
      "source": [
        "### Correlação entre atributos quantitativos"
      ]
    },
    {
      "cell_type": "code",
      "execution_count": null,
      "metadata": {
        "id": "8KNUNvY9xaFx",
        "colab": {
          "base_uri": "https://localhost:8080/"
        },
        "outputId": "9e04cdf2-e683-42b2-c133-fd290704dd99"
      },
      "outputs": [
        {
          "output_type": "stream",
          "name": "stdout",
          "text": [
            "Atributos quantitativos com alta correlação:\n",
            "[]\n"
          ]
        }
      ],
      "source": [
        "max_corr = 0.8 # valor de correlação máxima\n",
        "\n",
        "corr = data[quant].corr()\n",
        "matrizSuperior = np.triu(np.ones(corr.shape),k=1).astype(bool)\n",
        "correlacaoSuperior = corr.where(matrizSuperior)\n",
        "atributos = [col for col in correlacaoSuperior.columns if any(abs(correlacaoSuperior[col]) >= max_corr)]\n",
        "print(\"Atributos quantitativos com alta correlação:\")\n",
        "print(atributos)\n"
      ]
    },
    {
      "cell_type": "code",
      "source": [
        "corr.style.background_gradient(cmap='coolwarm').set_precision(2)"
      ],
      "metadata": {
        "colab": {
          "base_uri": "https://localhost:8080/",
          "height": 449
        },
        "id": "pikMTcpM0L7V",
        "outputId": "ad4407be-893f-43f6-d10d-742437f6137e"
      },
      "execution_count": null,
      "outputs": [
        {
          "output_type": "stream",
          "name": "stderr",
          "text": [
            "<ipython-input-6-ce9744728a5b>:1: FutureWarning: this method is deprecated in favour of `Styler.format(precision=..)`\n",
            "  corr.style.background_gradient(cmap='coolwarm').set_precision(2)\n"
          ]
        },
        {
          "output_type": "execute_result",
          "data": {
            "text/plain": [
              "<pandas.io.formats.style.Styler at 0x7f2861f276d0>"
            ],
            "text/html": [
              "<style type=\"text/css\">\n",
              "#T_21082_row0_col0, #T_21082_row1_col1, #T_21082_row2_col2, #T_21082_row3_col3, #T_21082_row4_col4, #T_21082_row5_col5, #T_21082_row6_col6, #T_21082_row7_col7, #T_21082_row8_col8, #T_21082_row9_col9, #T_21082_row10_col10 {\n",
              "  background-color: #b40426;\n",
              "  color: #f1f1f1;\n",
              "}\n",
              "#T_21082_row0_col1, #T_21082_row6_col1 {\n",
              "  background-color: #4257c9;\n",
              "  color: #f1f1f1;\n",
              "}\n",
              "#T_21082_row0_col2, #T_21082_row9_col0 {\n",
              "  background-color: #6282ea;\n",
              "  color: #f1f1f1;\n",
              "}\n",
              "#T_21082_row0_col3, #T_21082_row2_col8, #T_21082_row8_col9 {\n",
              "  background-color: #688aef;\n",
              "  color: #f1f1f1;\n",
              "}\n",
              "#T_21082_row0_col4 {\n",
              "  background-color: #7597f6;\n",
              "  color: #f1f1f1;\n",
              "}\n",
              "#T_21082_row0_col5 {\n",
              "  background-color: #3e51c5;\n",
              "  color: #f1f1f1;\n",
              "}\n",
              "#T_21082_row0_col6, #T_21082_row4_col1, #T_21082_row4_col8, #T_21082_row6_col0, #T_21082_row6_col2, #T_21082_row6_col3, #T_21082_row6_col7, #T_21082_row7_col5, #T_21082_row8_col4, #T_21082_row9_col10, #T_21082_row10_col9 {\n",
              "  background-color: #3b4cc0;\n",
              "  color: #f1f1f1;\n",
              "}\n",
              "#T_21082_row0_col7, #T_21082_row7_col1 {\n",
              "  background-color: #b6cefa;\n",
              "  color: #000000;\n",
              "}\n",
              "#T_21082_row0_col8 {\n",
              "  background-color: #92b4fe;\n",
              "  color: #000000;\n",
              "}\n",
              "#T_21082_row0_col9, #T_21082_row3_col6, #T_21082_row8_col10 {\n",
              "  background-color: #4c66d6;\n",
              "  color: #f1f1f1;\n",
              "}\n",
              "#T_21082_row0_col10, #T_21082_row1_col10, #T_21082_row5_col0 {\n",
              "  background-color: #4e68d8;\n",
              "  color: #f1f1f1;\n",
              "}\n",
              "#T_21082_row1_col0, #T_21082_row1_col6, #T_21082_row5_col8 {\n",
              "  background-color: #5572df;\n",
              "  color: #f1f1f1;\n",
              "}\n",
              "#T_21082_row1_col2, #T_21082_row10_col2 {\n",
              "  background-color: #4a63d3;\n",
              "  color: #f1f1f1;\n",
              "}\n",
              "#T_21082_row1_col3, #T_21082_row2_col10, #T_21082_row3_col1, #T_21082_row7_col3, #T_21082_row10_col1 {\n",
              "  background-color: #4f69d9;\n",
              "  color: #f1f1f1;\n",
              "}\n",
              "#T_21082_row1_col4, #T_21082_row4_col10, #T_21082_row5_col4, #T_21082_row10_col5 {\n",
              "  background-color: #4961d2;\n",
              "  color: #f1f1f1;\n",
              "}\n",
              "#T_21082_row1_col5, #T_21082_row4_col7, #T_21082_row5_col7 {\n",
              "  background-color: #485fd1;\n",
              "  color: #f1f1f1;\n",
              "}\n",
              "#T_21082_row1_col7 {\n",
              "  background-color: #c1d4f4;\n",
              "  color: #000000;\n",
              "}\n",
              "#T_21082_row1_col8 {\n",
              "  background-color: #7da0f9;\n",
              "  color: #f1f1f1;\n",
              "}\n",
              "#T_21082_row1_col9, #T_21082_row4_col6, #T_21082_row7_col4, #T_21082_row10_col3 {\n",
              "  background-color: #455cce;\n",
              "  color: #f1f1f1;\n",
              "}\n",
              "#T_21082_row2_col0 {\n",
              "  background-color: #7a9df8;\n",
              "  color: #f1f1f1;\n",
              "}\n",
              "#T_21082_row2_col1, #T_21082_row4_col2 {\n",
              "  background-color: #506bda;\n",
              "  color: #f1f1f1;\n",
              "}\n",
              "#T_21082_row2_col3, #T_21082_row9_col4 {\n",
              "  background-color: #81a4fb;\n",
              "  color: #f1f1f1;\n",
              "}\n",
              "#T_21082_row2_col4, #T_21082_row3_col8 {\n",
              "  background-color: #6485ec;\n",
              "  color: #f1f1f1;\n",
              "}\n",
              "#T_21082_row2_col5, #T_21082_row6_col10, #T_21082_row9_col1 {\n",
              "  background-color: #465ecf;\n",
              "  color: #f1f1f1;\n",
              "}\n",
              "#T_21082_row2_col6, #T_21082_row8_col2, #T_21082_row9_col3 {\n",
              "  background-color: #5470de;\n",
              "  color: #f1f1f1;\n",
              "}\n",
              "#T_21082_row2_col7, #T_21082_row10_col4 {\n",
              "  background-color: #5977e3;\n",
              "  color: #f1f1f1;\n",
              "}\n",
              "#T_21082_row2_col9, #T_21082_row3_col5, #T_21082_row3_col10 {\n",
              "  background-color: #445acc;\n",
              "  color: #f1f1f1;\n",
              "}\n",
              "#T_21082_row3_col0, #T_21082_row3_col2 {\n",
              "  background-color: #7b9ff9;\n",
              "  color: #f1f1f1;\n",
              "}\n",
              "#T_21082_row3_col4 {\n",
              "  background-color: #85a8fc;\n",
              "  color: #f1f1f1;\n",
              "}\n",
              "#T_21082_row3_col7 {\n",
              "  background-color: #6180e9;\n",
              "  color: #f1f1f1;\n",
              "}\n",
              "#T_21082_row3_col9 {\n",
              "  background-color: #516ddb;\n",
              "  color: #f1f1f1;\n",
              "}\n",
              "#T_21082_row4_col0, #T_21082_row9_col8 {\n",
              "  background-color: #799cf8;\n",
              "  color: #f1f1f1;\n",
              "}\n",
              "#T_21082_row4_col3 {\n",
              "  background-color: #779af7;\n",
              "  color: #f1f1f1;\n",
              "}\n",
              "#T_21082_row4_col5, #T_21082_row5_col3, #T_21082_row9_col2 {\n",
              "  background-color: #3f53c6;\n",
              "  color: #f1f1f1;\n",
              "}\n",
              "#T_21082_row4_col9 {\n",
              "  background-color: #7295f4;\n",
              "  color: #f1f1f1;\n",
              "}\n",
              "#T_21082_row5_col1, #T_21082_row5_col10, #T_21082_row6_col9 {\n",
              "  background-color: #4358cb;\n",
              "  color: #f1f1f1;\n",
              "}\n",
              "#T_21082_row5_col2, #T_21082_row5_col9, #T_21082_row7_col6 {\n",
              "  background-color: #3c4ec2;\n",
              "  color: #f1f1f1;\n",
              "}\n",
              "#T_21082_row5_col6 {\n",
              "  background-color: #e3d9d3;\n",
              "  color: #000000;\n",
              "}\n",
              "#T_21082_row6_col4, #T_21082_row7_col2, #T_21082_row9_col5 {\n",
              "  background-color: #4055c8;\n",
              "  color: #f1f1f1;\n",
              "}\n",
              "#T_21082_row6_col5 {\n",
              "  background-color: #dcdddd;\n",
              "  color: #000000;\n",
              "}\n",
              "#T_21082_row6_col8 {\n",
              "  background-color: #5e7de7;\n",
              "  color: #f1f1f1;\n",
              "}\n",
              "#T_21082_row7_col0 {\n",
              "  background-color: #b7cff9;\n",
              "  color: #000000;\n",
              "}\n",
              "#T_21082_row7_col8 {\n",
              "  background-color: #90b2fe;\n",
              "  color: #000000;\n",
              "}\n",
              "#T_21082_row7_col9, #T_21082_row8_col3 {\n",
              "  background-color: #5673e0;\n",
              "  color: #f1f1f1;\n",
              "}\n",
              "#T_21082_row7_col10, #T_21082_row8_col5 {\n",
              "  background-color: #4b64d5;\n",
              "  color: #f1f1f1;\n",
              "}\n",
              "#T_21082_row8_col0 {\n",
              "  background-color: #96b7ff;\n",
              "  color: #000000;\n",
              "}\n",
              "#T_21082_row8_col1 {\n",
              "  background-color: #6e90f2;\n",
              "  color: #f1f1f1;\n",
              "}\n",
              "#T_21082_row8_col6, #T_21082_row10_col0 {\n",
              "  background-color: #6384eb;\n",
              "  color: #f1f1f1;\n",
              "}\n",
              "#T_21082_row8_col7 {\n",
              "  background-color: #93b5fe;\n",
              "  color: #000000;\n",
              "}\n",
              "#T_21082_row9_col6 {\n",
              "  background-color: #5875e1;\n",
              "  color: #f1f1f1;\n",
              "}\n",
              "#T_21082_row9_col7 {\n",
              "  background-color: #6a8bef;\n",
              "  color: #f1f1f1;\n",
              "}\n",
              "#T_21082_row10_col6 {\n",
              "  background-color: #5a78e4;\n",
              "  color: #f1f1f1;\n",
              "}\n",
              "#T_21082_row10_col7 {\n",
              "  background-color: #5f7fe8;\n",
              "  color: #f1f1f1;\n",
              "}\n",
              "#T_21082_row10_col8 {\n",
              "  background-color: #5b7ae5;\n",
              "  color: #f1f1f1;\n",
              "}\n",
              "</style>\n",
              "<table id=\"T_21082\" class=\"dataframe\">\n",
              "  <thead>\n",
              "    <tr>\n",
              "      <th class=\"blank level0\" >&nbsp;</th>\n",
              "      <th id=\"T_21082_level0_col0\" class=\"col_heading level0 col0\" >no_of_adults</th>\n",
              "      <th id=\"T_21082_level0_col1\" class=\"col_heading level0 col1\" >no_of_children</th>\n",
              "      <th id=\"T_21082_level0_col2\" class=\"col_heading level0 col2\" >no_of_weekend_nights</th>\n",
              "      <th id=\"T_21082_level0_col3\" class=\"col_heading level0 col3\" >no_of_week_nights</th>\n",
              "      <th id=\"T_21082_level0_col4\" class=\"col_heading level0 col4\" >lead_time</th>\n",
              "      <th id=\"T_21082_level0_col5\" class=\"col_heading level0 col5\" >no_of_previous_cancellations</th>\n",
              "      <th id=\"T_21082_level0_col6\" class=\"col_heading level0 col6\" >no_of_previous_bookings_not_canceled</th>\n",
              "      <th id=\"T_21082_level0_col7\" class=\"col_heading level0 col7\" >avg_price_per_room</th>\n",
              "      <th id=\"T_21082_level0_col8\" class=\"col_heading level0 col8\" >no_of_special_requests</th>\n",
              "      <th id=\"T_21082_level0_col9\" class=\"col_heading level0 col9\" >arrival_month</th>\n",
              "      <th id=\"T_21082_level0_col10\" class=\"col_heading level0 col10\" >arrival_date</th>\n",
              "    </tr>\n",
              "  </thead>\n",
              "  <tbody>\n",
              "    <tr>\n",
              "      <th id=\"T_21082_level0_row0\" class=\"row_heading level0 row0\" >no_of_adults</th>\n",
              "      <td id=\"T_21082_row0_col0\" class=\"data row0 col0\" >1.00</td>\n",
              "      <td id=\"T_21082_row0_col1\" class=\"data row0 col1\" >-0.02</td>\n",
              "      <td id=\"T_21082_row0_col2\" class=\"data row0 col2\" >0.10</td>\n",
              "      <td id=\"T_21082_row0_col3\" class=\"data row0 col3\" >0.11</td>\n",
              "      <td id=\"T_21082_row0_col4\" class=\"data row0 col4\" >0.10</td>\n",
              "      <td id=\"T_21082_row0_col5\" class=\"data row0 col5\" >-0.05</td>\n",
              "      <td id=\"T_21082_row0_col6\" class=\"data row0 col6\" >-0.12</td>\n",
              "      <td id=\"T_21082_row0_col7\" class=\"data row0 col7\" >0.30</td>\n",
              "      <td id=\"T_21082_row0_col8\" class=\"data row0 col8\" >0.19</td>\n",
              "      <td id=\"T_21082_row0_col9\" class=\"data row0 col9\" >0.02</td>\n",
              "      <td id=\"T_21082_row0_col10\" class=\"data row0 col10\" >0.03</td>\n",
              "    </tr>\n",
              "    <tr>\n",
              "      <th id=\"T_21082_level0_row1\" class=\"row_heading level0 row1\" >no_of_children</th>\n",
              "      <td id=\"T_21082_row1_col0\" class=\"data row1 col0\" >-0.02</td>\n",
              "      <td id=\"T_21082_row1_col1\" class=\"data row1 col1\" >1.00</td>\n",
              "      <td id=\"T_21082_row1_col2\" class=\"data row1 col2\" >0.03</td>\n",
              "      <td id=\"T_21082_row1_col3\" class=\"data row1 col3\" >0.02</td>\n",
              "      <td id=\"T_21082_row1_col4\" class=\"data row1 col4\" >-0.05</td>\n",
              "      <td id=\"T_21082_row1_col5\" class=\"data row1 col5\" >-0.02</td>\n",
              "      <td id=\"T_21082_row1_col6\" class=\"data row1 col6\" >-0.02</td>\n",
              "      <td id=\"T_21082_row1_col7\" class=\"data row1 col7\" >0.34</td>\n",
              "      <td id=\"T_21082_row1_col8\" class=\"data row1 col8\" >0.12</td>\n",
              "      <td id=\"T_21082_row1_col9\" class=\"data row1 col9\" >-0.00</td>\n",
              "      <td id=\"T_21082_row1_col10\" class=\"data row1 col10\" >0.03</td>\n",
              "    </tr>\n",
              "    <tr>\n",
              "      <th id=\"T_21082_level0_row2\" class=\"row_heading level0 row2\" >no_of_weekend_nights</th>\n",
              "      <td id=\"T_21082_row2_col0\" class=\"data row2 col0\" >0.10</td>\n",
              "      <td id=\"T_21082_row2_col1\" class=\"data row2 col1\" >0.03</td>\n",
              "      <td id=\"T_21082_row2_col2\" class=\"data row2 col2\" >1.00</td>\n",
              "      <td id=\"T_21082_row2_col3\" class=\"data row2 col3\" >0.18</td>\n",
              "      <td id=\"T_21082_row2_col4\" class=\"data row2 col4\" >0.05</td>\n",
              "      <td id=\"T_21082_row2_col5\" class=\"data row2 col5\" >-0.02</td>\n",
              "      <td id=\"T_21082_row2_col6\" class=\"data row2 col6\" >-0.03</td>\n",
              "      <td id=\"T_21082_row2_col7\" class=\"data row2 col7\" >-0.00</td>\n",
              "      <td id=\"T_21082_row2_col8\" class=\"data row2 col8\" >0.06</td>\n",
              "      <td id=\"T_21082_row2_col9\" class=\"data row2 col9\" >-0.01</td>\n",
              "      <td id=\"T_21082_row2_col10\" class=\"data row2 col10\" >0.03</td>\n",
              "    </tr>\n",
              "    <tr>\n",
              "      <th id=\"T_21082_level0_row3\" class=\"row_heading level0 row3\" >no_of_week_nights</th>\n",
              "      <td id=\"T_21082_row3_col0\" class=\"data row3 col0\" >0.11</td>\n",
              "      <td id=\"T_21082_row3_col1\" class=\"data row3 col1\" >0.02</td>\n",
              "      <td id=\"T_21082_row3_col2\" class=\"data row3 col2\" >0.18</td>\n",
              "      <td id=\"T_21082_row3_col3\" class=\"data row3 col3\" >1.00</td>\n",
              "      <td id=\"T_21082_row3_col4\" class=\"data row3 col4\" >0.15</td>\n",
              "      <td id=\"T_21082_row3_col5\" class=\"data row3 col5\" >-0.03</td>\n",
              "      <td id=\"T_21082_row3_col6\" class=\"data row3 col6\" >-0.05</td>\n",
              "      <td id=\"T_21082_row3_col7\" class=\"data row3 col7\" >0.02</td>\n",
              "      <td id=\"T_21082_row3_col8\" class=\"data row3 col8\" >0.05</td>\n",
              "      <td id=\"T_21082_row3_col9\" class=\"data row3 col9\" >0.04</td>\n",
              "      <td id=\"T_21082_row3_col10\" class=\"data row3 col10\" >-0.01</td>\n",
              "    </tr>\n",
              "    <tr>\n",
              "      <th id=\"T_21082_level0_row4\" class=\"row_heading level0 row4\" >lead_time</th>\n",
              "      <td id=\"T_21082_row4_col0\" class=\"data row4 col0\" >0.10</td>\n",
              "      <td id=\"T_21082_row4_col1\" class=\"data row4 col1\" >-0.05</td>\n",
              "      <td id=\"T_21082_row4_col2\" class=\"data row4 col2\" >0.05</td>\n",
              "      <td id=\"T_21082_row4_col3\" class=\"data row4 col3\" >0.15</td>\n",
              "      <td id=\"T_21082_row4_col4\" class=\"data row4 col4\" >1.00</td>\n",
              "      <td id=\"T_21082_row4_col5\" class=\"data row4 col5\" >-0.05</td>\n",
              "      <td id=\"T_21082_row4_col6\" class=\"data row4 col6\" >-0.08</td>\n",
              "      <td id=\"T_21082_row4_col7\" class=\"data row4 col7\" >-0.06</td>\n",
              "      <td id=\"T_21082_row4_col8\" class=\"data row4 col8\" >-0.10</td>\n",
              "      <td id=\"T_21082_row4_col9\" class=\"data row4 col9\" >0.14</td>\n",
              "      <td id=\"T_21082_row4_col10\" class=\"data row4 col10\" >0.01</td>\n",
              "    </tr>\n",
              "    <tr>\n",
              "      <th id=\"T_21082_level0_row5\" class=\"row_heading level0 row5\" >no_of_previous_cancellations</th>\n",
              "      <td id=\"T_21082_row5_col0\" class=\"data row5 col0\" >-0.05</td>\n",
              "      <td id=\"T_21082_row5_col1\" class=\"data row5 col1\" >-0.02</td>\n",
              "      <td id=\"T_21082_row5_col2\" class=\"data row5 col2\" >-0.02</td>\n",
              "      <td id=\"T_21082_row5_col3\" class=\"data row5 col3\" >-0.03</td>\n",
              "      <td id=\"T_21082_row5_col4\" class=\"data row5 col4\" >-0.05</td>\n",
              "      <td id=\"T_21082_row5_col5\" class=\"data row5 col5\" >1.00</td>\n",
              "      <td id=\"T_21082_row5_col6\" class=\"data row5 col6\" >0.47</td>\n",
              "      <td id=\"T_21082_row5_col7\" class=\"data row5 col7\" >-0.06</td>\n",
              "      <td id=\"T_21082_row5_col8\" class=\"data row5 col8\" >-0.00</td>\n",
              "      <td id=\"T_21082_row5_col9\" class=\"data row5 col9\" >-0.04</td>\n",
              "      <td id=\"T_21082_row5_col10\" class=\"data row5 col10\" >-0.01</td>\n",
              "    </tr>\n",
              "    <tr>\n",
              "      <th id=\"T_21082_level0_row6\" class=\"row_heading level0 row6\" >no_of_previous_bookings_not_canceled</th>\n",
              "      <td id=\"T_21082_row6_col0\" class=\"data row6 col0\" >-0.12</td>\n",
              "      <td id=\"T_21082_row6_col1\" class=\"data row6 col1\" >-0.02</td>\n",
              "      <td id=\"T_21082_row6_col2\" class=\"data row6 col2\" >-0.03</td>\n",
              "      <td id=\"T_21082_row6_col3\" class=\"data row6 col3\" >-0.05</td>\n",
              "      <td id=\"T_21082_row6_col4\" class=\"data row6 col4\" >-0.08</td>\n",
              "      <td id=\"T_21082_row6_col5\" class=\"data row6 col5\" >0.47</td>\n",
              "      <td id=\"T_21082_row6_col6\" class=\"data row6 col6\" >1.00</td>\n",
              "      <td id=\"T_21082_row6_col7\" class=\"data row6 col7\" >-0.11</td>\n",
              "      <td id=\"T_21082_row6_col8\" class=\"data row6 col8\" >0.03</td>\n",
              "      <td id=\"T_21082_row6_col9\" class=\"data row6 col9\" >-0.01</td>\n",
              "      <td id=\"T_21082_row6_col10\" class=\"data row6 col10\" >-0.00</td>\n",
              "    </tr>\n",
              "    <tr>\n",
              "      <th id=\"T_21082_level0_row7\" class=\"row_heading level0 row7\" >avg_price_per_room</th>\n",
              "      <td id=\"T_21082_row7_col0\" class=\"data row7 col0\" >0.30</td>\n",
              "      <td id=\"T_21082_row7_col1\" class=\"data row7 col1\" >0.34</td>\n",
              "      <td id=\"T_21082_row7_col2\" class=\"data row7 col2\" >-0.00</td>\n",
              "      <td id=\"T_21082_row7_col3\" class=\"data row7 col3\" >0.02</td>\n",
              "      <td id=\"T_21082_row7_col4\" class=\"data row7 col4\" >-0.06</td>\n",
              "      <td id=\"T_21082_row7_col5\" class=\"data row7 col5\" >-0.06</td>\n",
              "      <td id=\"T_21082_row7_col6\" class=\"data row7 col6\" >-0.11</td>\n",
              "      <td id=\"T_21082_row7_col7\" class=\"data row7 col7\" >1.00</td>\n",
              "      <td id=\"T_21082_row7_col8\" class=\"data row7 col8\" >0.18</td>\n",
              "      <td id=\"T_21082_row7_col9\" class=\"data row7 col9\" >0.05</td>\n",
              "      <td id=\"T_21082_row7_col10\" class=\"data row7 col10\" >0.02</td>\n",
              "    </tr>\n",
              "    <tr>\n",
              "      <th id=\"T_21082_level0_row8\" class=\"row_heading level0 row8\" >no_of_special_requests</th>\n",
              "      <td id=\"T_21082_row8_col0\" class=\"data row8 col0\" >0.19</td>\n",
              "      <td id=\"T_21082_row8_col1\" class=\"data row8 col1\" >0.12</td>\n",
              "      <td id=\"T_21082_row8_col2\" class=\"data row8 col2\" >0.06</td>\n",
              "      <td id=\"T_21082_row8_col3\" class=\"data row8 col3\" >0.05</td>\n",
              "      <td id=\"T_21082_row8_col4\" class=\"data row8 col4\" >-0.10</td>\n",
              "      <td id=\"T_21082_row8_col5\" class=\"data row8 col5\" >-0.00</td>\n",
              "      <td id=\"T_21082_row8_col6\" class=\"data row8 col6\" >0.03</td>\n",
              "      <td id=\"T_21082_row8_col7\" class=\"data row8 col7\" >0.18</td>\n",
              "      <td id=\"T_21082_row8_col8\" class=\"data row8 col8\" >1.00</td>\n",
              "      <td id=\"T_21082_row8_col9\" class=\"data row8 col9\" >0.11</td>\n",
              "      <td id=\"T_21082_row8_col10\" class=\"data row8 col10\" >0.02</td>\n",
              "    </tr>\n",
              "    <tr>\n",
              "      <th id=\"T_21082_level0_row9\" class=\"row_heading level0 row9\" >arrival_month</th>\n",
              "      <td id=\"T_21082_row9_col0\" class=\"data row9 col0\" >0.02</td>\n",
              "      <td id=\"T_21082_row9_col1\" class=\"data row9 col1\" >-0.00</td>\n",
              "      <td id=\"T_21082_row9_col2\" class=\"data row9 col2\" >-0.01</td>\n",
              "      <td id=\"T_21082_row9_col3\" class=\"data row9 col3\" >0.04</td>\n",
              "      <td id=\"T_21082_row9_col4\" class=\"data row9 col4\" >0.14</td>\n",
              "      <td id=\"T_21082_row9_col5\" class=\"data row9 col5\" >-0.04</td>\n",
              "      <td id=\"T_21082_row9_col6\" class=\"data row9 col6\" >-0.01</td>\n",
              "      <td id=\"T_21082_row9_col7\" class=\"data row9 col7\" >0.05</td>\n",
              "      <td id=\"T_21082_row9_col8\" class=\"data row9 col8\" >0.11</td>\n",
              "      <td id=\"T_21082_row9_col9\" class=\"data row9 col9\" >1.00</td>\n",
              "      <td id=\"T_21082_row9_col10\" class=\"data row9 col10\" >-0.04</td>\n",
              "    </tr>\n",
              "    <tr>\n",
              "      <th id=\"T_21082_level0_row10\" class=\"row_heading level0 row10\" >arrival_date</th>\n",
              "      <td id=\"T_21082_row10_col0\" class=\"data row10 col0\" >0.03</td>\n",
              "      <td id=\"T_21082_row10_col1\" class=\"data row10 col1\" >0.03</td>\n",
              "      <td id=\"T_21082_row10_col2\" class=\"data row10 col2\" >0.03</td>\n",
              "      <td id=\"T_21082_row10_col3\" class=\"data row10 col3\" >-0.01</td>\n",
              "      <td id=\"T_21082_row10_col4\" class=\"data row10 col4\" >0.01</td>\n",
              "      <td id=\"T_21082_row10_col5\" class=\"data row10 col5\" >-0.01</td>\n",
              "      <td id=\"T_21082_row10_col6\" class=\"data row10 col6\" >-0.00</td>\n",
              "      <td id=\"T_21082_row10_col7\" class=\"data row10 col7\" >0.02</td>\n",
              "      <td id=\"T_21082_row10_col8\" class=\"data row10 col8\" >0.02</td>\n",
              "      <td id=\"T_21082_row10_col9\" class=\"data row10 col9\" >-0.04</td>\n",
              "      <td id=\"T_21082_row10_col10\" class=\"data row10 col10\" >1.00</td>\n",
              "    </tr>\n",
              "  </tbody>\n",
              "</table>\n"
            ]
          },
          "metadata": {},
          "execution_count": 6
        }
      ]
    },
    {
      "cell_type": "markdown",
      "metadata": {
        "id": "yJOZ_4WKxaFz"
      },
      "source": [
        "Os atributos quantitativos possuem uma correlação muito baixa, sendo a maior correlação entre os atributos **no_of_previous_cancellations** e **no_of_previous_bookings_not_canceled** com o valor de 0.468147, portanto todos os valores serão mantidos."
      ]
    },
    {
      "cell_type": "markdown",
      "metadata": {
        "id": "PsfZukAMOp3g"
      },
      "source": [
        "### Balanceamento dos dados"
      ]
    },
    {
      "cell_type": "code",
      "execution_count": null,
      "metadata": {
        "id": "yLtzxvmu3DDt",
        "colab": {
          "base_uri": "https://localhost:8080/",
          "height": 669
        },
        "outputId": "3f1b0cd5-7b24-4cf7-a489-b4dfdc646747"
      },
      "outputs": [
        {
          "output_type": "display_data",
          "data": {
            "text/plain": [
              "<Figure size 2000x700 with 4 Axes>"
            ],
            "image/png": "[encoded data removed]"
          },
          "metadata": {}
        }
      ],
      "source": [
        "lin = math.ceil(math.sqrt(len(categ)))\n",
        "col = math.ceil(math.sqrt(len(categ)))\n",
        "\n",
        "fig, axs = plt.subplots(lin, col, figsize=(20, 7))\n",
        "axs = axs.ravel() \n",
        "fig.suptitle('Histograma dos atributos categóricos')\n",
        "for i, col in enumerate(categ):\n",
        "    axs[i].hist(data[col])\n",
        "    axs[i].set_title(col)"
      ]
    },
    {
      "cell_type": "code",
      "execution_count": null,
      "metadata": {
        "id": "LGvY7cPJWDAk",
        "colab": {
          "base_uri": "https://localhost:8080/",
          "height": 669
        },
        "outputId": "1a9c405b-bb3b-44b6-aaba-d725f1aabf02"
      },
      "outputs": [
        {
          "output_type": "display_data",
          "data": {
            "text/plain": [
              "<Figure size 2000x700 with 4 Axes>"
            ],
            "image/png": "[encoded data removed]"
          },
          "metadata": {}
        }
      ],
      "source": [
        "lin = math.ceil(math.sqrt(len(bin_vars + target)))\n",
        "col = math.ceil(math.sqrt(len(bin_vars + target)))\n",
        "\n",
        "fig, axs = plt.subplots(lin, col, figsize=(20, 7))\n",
        "axs = axs.ravel() \n",
        "fig.suptitle('Histograma dos atributos binários')\n",
        "for i, col in enumerate(bin_vars + target):\n",
        "    axs[i].hist(data[col])\n",
        "    axs[i].set_title(col)"
      ]
    },
    {
      "cell_type": "code",
      "execution_count": null,
      "metadata": {
        "id": "9tOKSL5ZVc-X",
        "colab": {
          "base_uri": "https://localhost:8080/"
        },
        "outputId": "e6c9386d-e288-4369-b864-e76efeb0ee3e"
      },
      "outputs": [
        {
          "output_type": "stream",
          "name": "stdout",
          "text": [
            "Canceled : 11885\n",
            "Not_Canceled : 24390\n"
          ]
        }
      ],
      "source": [
        "(unique, counts) = np.unique(data[target], return_counts=True)\n",
        "for label, count in zip(unique, counts):\n",
        "  print(label, ':', count)"
      ]
    },
    {
      "cell_type": "markdown",
      "metadata": {
        "id": "-BHOQ4-KVQLH"
      },
      "source": [
        "Os dados categóricos possuem muito desbalanceamento, com grande maioria dos atributos possuindo valores discrepantes entre a quantidade de elementos em algumas classes. Os valores alvo possuem uma classe (Not_Canceled) com o dobro de elementos da outra (Canceled) portanto será utilizado o SMOTE para gerar mais exemplos da classe menos presente.\n"
      ]
    },
    {
      "cell_type": "markdown",
      "metadata": {
        "id": "S_mgmRuHPEP8"
      },
      "source": [
        "### Normalização dos dados quantitaivos\n",
        "\n",
        "Será aplicada a normalização min-max nas colunas quantitativas de forma que os valores ficarão entre 0 e 1."
      ]
    },
    {
      "cell_type": "code",
      "execution_count": null,
      "metadata": {
        "id": "hUWa7br5PkHC",
        "colab": {
          "base_uri": "https://localhost:8080/",
          "height": 584
        },
        "outputId": "39a19505-e4a7-4071-b6e9-6a5c8c73d3ab"
      },
      "outputs": [
        {
          "output_type": "execute_result",
          "data": {
            "text/plain": [
              "    no_of_adults  no_of_children  no_of_weekend_nights  no_of_week_nights  \\\n",
              "0           0.50             0.0              0.142857           0.117647   \n",
              "1           0.50             0.0              0.285714           0.176471   \n",
              "2           0.25             0.0              0.285714           0.058824   \n",
              "3           0.50             0.0              0.000000           0.117647   \n",
              "4           0.50             0.0              0.142857           0.058824   \n",
              "5           0.50             0.0              0.000000           0.117647   \n",
              "6           0.50             0.0              0.142857           0.176471   \n",
              "7           0.50             0.0              0.142857           0.176471   \n",
              "8           0.75             0.0              0.000000           0.235294   \n",
              "9           0.50             0.0              0.000000           0.294118   \n",
              "10          0.25             0.0              0.142857           0.000000   \n",
              "11          0.25             0.0              0.285714           0.058824   \n",
              "12          0.50             0.0              0.285714           0.058824   \n",
              "13          0.25             0.0              0.285714           0.000000   \n",
              "14          0.50             0.0              0.000000           0.117647   \n",
              "\n",
              "   type_of_meal_plan  required_car_parking_space room_type_reserved  \\\n",
              "0        Meal Plan 1                           0        Room_Type 1   \n",
              "1       Not Selected                           0        Room_Type 1   \n",
              "2        Meal Plan 1                           0        Room_Type 1   \n",
              "3        Meal Plan 1                           0        Room_Type 1   \n",
              "4       Not Selected                           0        Room_Type 1   \n",
              "5        Meal Plan 2                           0        Room_Type 1   \n",
              "6        Meal Plan 1                           0        Room_Type 1   \n",
              "7        Meal Plan 1                           0        Room_Type 4   \n",
              "8        Meal Plan 1                           0        Room_Type 1   \n",
              "9        Meal Plan 1                           0        Room_Type 4   \n",
              "10      Not Selected                           0        Room_Type 1   \n",
              "11       Meal Plan 1                           0        Room_Type 4   \n",
              "12      Not Selected                           0        Room_Type 1   \n",
              "13       Meal Plan 1                           0        Room_Type 1   \n",
              "14       Meal Plan 1                           0        Room_Type 1   \n",
              "\n",
              "    lead_time  arrival_month  arrival_date market_segment_type  \\\n",
              "0    0.505643       0.818182      0.033333             Offline   \n",
              "1    0.011287       0.909091      0.166667              Online   \n",
              "2    0.002257       0.090909      0.900000              Online   \n",
              "3    0.476298       0.363636      0.633333              Online   \n",
              "4    0.108352       0.272727      0.333333              Online   \n",
              "5    0.781038       0.727273      0.400000              Online   \n",
              "6    0.076749       0.818182      0.466667              Online   \n",
              "7    0.187359       1.000000      0.833333              Online   \n",
              "8    0.273138       0.545455      0.166667             Offline   \n",
              "9    0.099323       0.818182      0.566667              Online   \n",
              "10   0.000000       0.727273      0.333333              Online   \n",
              "11   0.079007       0.272727      0.966667              Online   \n",
              "12   0.067720       0.909091      0.833333              Online   \n",
              "13   0.214447       0.909091      0.633333              Online   \n",
              "14   0.106095       0.818182      0.633333              Online   \n",
              "\n",
              "    repeated_guest  no_of_previous_cancellations  \\\n",
              "0                0                           0.0   \n",
              "1                0                           0.0   \n",
              "2                0                           0.0   \n",
              "3                0                           0.0   \n",
              "4                0                           0.0   \n",
              "5                0                           0.0   \n",
              "6                0                           0.0   \n",
              "7                0                           0.0   \n",
              "8                0                           0.0   \n",
              "9                0                           0.0   \n",
              "10               0                           0.0   \n",
              "11               0                           0.0   \n",
              "12               0                           0.0   \n",
              "13               0                           0.0   \n",
              "14               0                           0.0   \n",
              "\n",
              "    no_of_previous_bookings_not_canceled  avg_price_per_room  \\\n",
              "0                                    0.0            0.120370   \n",
              "1                                    0.0            0.197556   \n",
              "2                                    0.0            0.111111   \n",
              "3                                    0.0            0.185185   \n",
              "4                                    0.0            0.175000   \n",
              "5                                    0.0            0.212963   \n",
              "6                                    0.0            0.199167   \n",
              "7                                    0.0            0.195574   \n",
              "8                                    0.0            0.179444   \n",
              "9                                    0.0            0.247111   \n",
              "10                                   0.0            0.157463   \n",
              "11                                   0.0            0.260000   \n",
              "12                                   0.0            0.162963   \n",
              "13                                   0.0            0.166667   \n",
              "14                                   0.0            0.175000   \n",
              "\n",
              "    no_of_special_requests booking_status  \n",
              "0                      0.0   Not_Canceled  \n",
              "1                      0.2   Not_Canceled  \n",
              "2                      0.0       Canceled  \n",
              "3                      0.0       Canceled  \n",
              "4                      0.0       Canceled  \n",
              "5                      0.2       Canceled  \n",
              "6                      0.2   Not_Canceled  \n",
              "7                      0.2   Not_Canceled  \n",
              "8                      0.2   Not_Canceled  \n",
              "9                      0.6   Not_Canceled  \n",
              "10                     0.0   Not_Canceled  \n",
              "11                     0.2   Not_Canceled  \n",
              "12                     0.0       Canceled  \n",
              "13                     0.4       Canceled  \n",
              "14                     0.4   Not_Canceled  "
            ],
            "text/html": [
              "\n",
              "  <div id=\"df-ad53b302-8fb4-4762-830e-94aab605bfde\">\n",
              "    <div class=\"colab-df-container\">\n",
              "      <div>\n",
              "<style scoped>\n",
              "    .dataframe tbody tr th:only-of-type {\n",
              "        vertical-align: middle;\n",
              "    }\n",
              "\n",
              "    .dataframe tbody tr th {\n",
              "        vertical-align: top;\n",
              "    }\n",
              "\n",
              "    .dataframe thead th {\n",
              "        text-align: right;\n",
              "    }\n",
              "</style>\n",
              "<table border=\"1\" class=\"dataframe\">\n",
              "  <thead>\n",
              "    <tr style=\"text-align: right;\">\n",
              "      <th></th>\n",
              "      <th>no_of_adults</th>\n",
              "      <th>no_of_children</th>\n",
              "      <th>no_of_weekend_nights</th>\n",
              "      <th>no_of_week_nights</th>\n",
              "      <th>type_of_meal_plan</th>\n",
              "      <th>required_car_parking_space</th>\n",
              "      <th>room_type_reserved</th>\n",
              "      <th>lead_time</th>\n",
              "      <th>arrival_month</th>\n",
              "      <th>arrival_date</th>\n",
              "      <th>market_segment_type</th>\n",
              "      <th>repeated_guest</th>\n",
              "      <th>no_of_previous_cancellations</th>\n",
              "      <th>no_of_previous_bookings_not_canceled</th>\n",
              "      <th>avg_price_per_room</th>\n",
              "      <th>no_of_special_requests</th>\n",
              "      <th>booking_status</th>\n",
              "    </tr>\n",
              "  </thead>\n",
              "  <tbody>\n",
              "    <tr>\n",
              "      <th>0</th>\n",
              "      <td>0.50</td>\n",
              "      <td>0.0</td>\n",
              "      <td>0.142857</td>\n",
              "      <td>0.117647</td>\n",
              "      <td>Meal Plan 1</td>\n",
              "      <td>0</td>\n",
              "      <td>Room_Type 1</td>\n",
              "      <td>0.505643</td>\n",
              "      <td>0.818182</td>\n",
              "      <td>0.033333</td>\n",
              "      <td>Offline</td>\n",
              "      <td>0</td>\n",
              "      <td>0.0</td>\n",
              "      <td>0.0</td>\n",
              "      <td>0.120370</td>\n",
              "      <td>0.0</td>\n",
              "      <td>Not_Canceled</td>\n",
              "    </tr>\n",
              "    <tr>\n",
              "      <th>1</th>\n",
              "      <td>0.50</td>\n",
              "      <td>0.0</td>\n",
              "      <td>0.285714</td>\n",
              "      <td>0.176471</td>\n",
              "      <td>Not Selected</td>\n",
              "      <td>0</td>\n",
              "      <td>Room_Type 1</td>\n",
              "      <td>0.011287</td>\n",
              "      <td>0.909091</td>\n",
              "      <td>0.166667</td>\n",
              "      <td>Online</td>\n",
              "      <td>0</td>\n",
              "      <td>0.0</td>\n",
              "      <td>0.0</td>\n",
              "      <td>0.197556</td>\n",
              "      <td>0.2</td>\n",
              "      <td>Not_Canceled</td>\n",
              "    </tr>\n",
              "    <tr>\n",
              "      <th>2</th>\n",
              "      <td>0.25</td>\n",
              "      <td>0.0</td>\n",
              "      <td>0.285714</td>\n",
              "      <td>0.058824</td>\n",
              "      <td>Meal Plan 1</td>\n",
              "      <td>0</td>\n",
              "      <td>Room_Type 1</td>\n",
              "      <td>0.002257</td>\n",
              "      <td>0.090909</td>\n",
              "      <td>0.900000</td>\n",
              "      <td>Online</td>\n",
              "      <td>0</td>\n",
              "      <td>0.0</td>\n",
              "      <td>0.0</td>\n",
              "      <td>0.111111</td>\n",
              "      <td>0.0</td>\n",
              "      <td>Canceled</td>\n",
              "    </tr>\n",
              "    <tr>\n",
              "      <th>3</th>\n",
              "      <td>0.50</td>\n",
              "      <td>0.0</td>\n",
              "      <td>0.000000</td>\n",
              "      <td>0.117647</td>\n",
              "      <td>Meal Plan 1</td>\n",
              "      <td>0</td>\n",
              "      <td>Room_Type 1</td>\n",
              "      <td>0.476298</td>\n",
              "      <td>0.363636</td>\n",
              "      <td>0.633333</td>\n",
              "      <td>Online</td>\n",
              "      <td>0</td>\n",
              "      <td>0.0</td>\n",
              "      <td>0.0</td>\n",
              "      <td>0.185185</td>\n",
              "      <td>0.0</td>\n",
              "      <td>Canceled</td>\n",
              "    </tr>\n",
              "    <tr>\n",
              "      <th>4</th>\n",
              "      <td>0.50</td>\n",
              "      <td>0.0</td>\n",
              "      <td>0.142857</td>\n",
              "      <td>0.058824</td>\n",
              "      <td>Not Selected</td>\n",
              "      <td>0</td>\n",
              "      <td>Room_Type 1</td>\n",
              "      <td>0.108352</td>\n",
              "      <td>0.272727</td>\n",
              "      <td>0.333333</td>\n",
              "      <td>Online</td>\n",
              "      <td>0</td>\n",
              "      <td>0.0</td>\n",
              "      <td>0.0</td>\n",
              "      <td>0.175000</td>\n",
              "      <td>0.0</td>\n",
              "      <td>Canceled</td>\n",
              "    </tr>\n",
              "    <tr>\n",
              "      <th>5</th>\n",
              "      <td>0.50</td>\n",
              "      <td>0.0</td>\n",
              "      <td>0.000000</td>\n",
              "      <td>0.117647</td>\n",
              "      <td>Meal Plan 2</td>\n",
              "      <td>0</td>\n",
              "      <td>Room_Type 1</td>\n",
              "      <td>0.781038</td>\n",
              "      <td>0.727273</td>\n",
              "      <td>0.400000</td>\n",
              "      <td>Online</td>\n",
              "      <td>0</td>\n",
              "      <td>0.0</td>\n",
              "      <td>0.0</td>\n",
              "      <td>0.212963</td>\n",
              "      <td>0.2</td>\n",
              "      <td>Canceled</td>\n",
              "    </tr>\n",
              "    <tr>\n",
              "      <th>6</th>\n",
              "      <td>0.50</td>\n",
              "      <td>0.0</td>\n",
              "      <td>0.142857</td>\n",
              "      <td>0.176471</td>\n",
              "      <td>Meal Plan 1</td>\n",
              "      <td>0</td>\n",
              "      <td>Room_Type 1</td>\n",
              "      <td>0.076749</td>\n",
              "      <td>0.818182</td>\n",
              "      <td>0.466667</td>\n",
              "      <td>Online</td>\n",
              "      <td>0</td>\n",
              "      <td>0.0</td>\n",
              "      <td>0.0</td>\n",
              "      <td>0.199167</td>\n",
              "      <td>0.2</td>\n",
              "      <td>Not_Canceled</td>\n",
              "    </tr>\n",
              "    <tr>\n",
              "      <th>7</th>\n",
              "      <td>0.50</td>\n",
              "      <td>0.0</td>\n",
              "      <td>0.142857</td>\n",
              "      <td>0.176471</td>\n",
              "      <td>Meal Plan 1</td>\n",
              "      <td>0</td>\n",
              "      <td>Room_Type 4</td>\n",
              "      <td>0.187359</td>\n",
              "      <td>1.000000</td>\n",
              "      <td>0.833333</td>\n",
              "      <td>Online</td>\n",
              "      <td>0</td>\n",
              "      <td>0.0</td>\n",
              "      <td>0.0</td>\n",
              "      <td>0.195574</td>\n",
              "      <td>0.2</td>\n",
              "      <td>Not_Canceled</td>\n",
              "    </tr>\n",
              "    <tr>\n",
              "      <th>8</th>\n",
              "      <td>0.75</td>\n",
              "      <td>0.0</td>\n",
              "      <td>0.000000</td>\n",
              "      <td>0.235294</td>\n",
              "      <td>Meal Plan 1</td>\n",
              "      <td>0</td>\n",
              "      <td>Room_Type 1</td>\n",
              "      <td>0.273138</td>\n",
              "      <td>0.545455</td>\n",
              "      <td>0.166667</td>\n",
              "      <td>Offline</td>\n",
              "      <td>0</td>\n",
              "      <td>0.0</td>\n",
              "      <td>0.0</td>\n",
              "      <td>0.179444</td>\n",
              "      <td>0.2</td>\n",
              "      <td>Not_Canceled</td>\n",
              "    </tr>\n",
              "    <tr>\n",
              "      <th>9</th>\n",
              "      <td>0.50</td>\n",
              "      <td>0.0</td>\n",
              "      <td>0.000000</td>\n",
              "      <td>0.294118</td>\n",
              "      <td>Meal Plan 1</td>\n",
              "      <td>0</td>\n",
              "      <td>Room_Type 4</td>\n",
              "      <td>0.099323</td>\n",
              "      <td>0.818182</td>\n",
              "      <td>0.566667</td>\n",
              "      <td>Online</td>\n",
              "      <td>0</td>\n",
              "      <td>0.0</td>\n",
              "      <td>0.0</td>\n",
              "      <td>0.247111</td>\n",
              "      <td>0.6</td>\n",
              "      <td>Not_Canceled</td>\n",
              "    </tr>\n",
              "    <tr>\n",
              "      <th>10</th>\n",
              "      <td>0.25</td>\n",
              "      <td>0.0</td>\n",
              "      <td>0.142857</td>\n",
              "      <td>0.000000</td>\n",
              "      <td>Not Selected</td>\n",
              "      <td>0</td>\n",
              "      <td>Room_Type 1</td>\n",
              "      <td>0.000000</td>\n",
              "      <td>0.727273</td>\n",
              "      <td>0.333333</td>\n",
              "      <td>Online</td>\n",
              "      <td>0</td>\n",
              "      <td>0.0</td>\n",
              "      <td>0.0</td>\n",
              "      <td>0.157463</td>\n",
              "      <td>0.0</td>\n",
              "      <td>Not_Canceled</td>\n",
              "    </tr>\n",
              "    <tr>\n",
              "      <th>11</th>\n",
              "      <td>0.25</td>\n",
              "      <td>0.0</td>\n",
              "      <td>0.285714</td>\n",
              "      <td>0.058824</td>\n",
              "      <td>Meal Plan 1</td>\n",
              "      <td>0</td>\n",
              "      <td>Room_Type 4</td>\n",
              "      <td>0.079007</td>\n",
              "      <td>0.272727</td>\n",
              "      <td>0.966667</td>\n",
              "      <td>Online</td>\n",
              "      <td>0</td>\n",
              "      <td>0.0</td>\n",
              "      <td>0.0</td>\n",
              "      <td>0.260000</td>\n",
              "      <td>0.2</td>\n",
              "      <td>Not_Canceled</td>\n",
              "    </tr>\n",
              "    <tr>\n",
              "      <th>12</th>\n",
              "      <td>0.50</td>\n",
              "      <td>0.0</td>\n",
              "      <td>0.285714</td>\n",
              "      <td>0.058824</td>\n",
              "      <td>Not Selected</td>\n",
              "      <td>0</td>\n",
              "      <td>Room_Type 1</td>\n",
              "      <td>0.067720</td>\n",
              "      <td>0.909091</td>\n",
              "      <td>0.833333</td>\n",
              "      <td>Online</td>\n",
              "      <td>0</td>\n",
              "      <td>0.0</td>\n",
              "      <td>0.0</td>\n",
              "      <td>0.162963</td>\n",
              "      <td>0.0</td>\n",
              "      <td>Canceled</td>\n",
              "    </tr>\n",
              "    <tr>\n",
              "      <th>13</th>\n",
              "      <td>0.25</td>\n",
              "      <td>0.0</td>\n",
              "      <td>0.285714</td>\n",
              "      <td>0.000000</td>\n",
              "      <td>Meal Plan 1</td>\n",
              "      <td>0</td>\n",
              "      <td>Room_Type 1</td>\n",
              "      <td>0.214447</td>\n",
              "      <td>0.909091</td>\n",
              "      <td>0.633333</td>\n",
              "      <td>Online</td>\n",
              "      <td>0</td>\n",
              "      <td>0.0</td>\n",
              "      <td>0.0</td>\n",
              "      <td>0.166667</td>\n",
              "      <td>0.4</td>\n",
              "      <td>Canceled</td>\n",
              "    </tr>\n",
              "    <tr>\n",
              "      <th>14</th>\n",
              "      <td>0.50</td>\n",
              "      <td>0.0</td>\n",
              "      <td>0.000000</td>\n",
              "      <td>0.117647</td>\n",
              "      <td>Meal Plan 1</td>\n",
              "      <td>0</td>\n",
              "      <td>Room_Type 1</td>\n",
              "      <td>0.106095</td>\n",
              "      <td>0.818182</td>\n",
              "      <td>0.633333</td>\n",
              "      <td>Online</td>\n",
              "      <td>0</td>\n",
              "      <td>0.0</td>\n",
              "      <td>0.0</td>\n",
              "      <td>0.175000</td>\n",
              "      <td>0.4</td>\n",
              "      <td>Not_Canceled</td>\n",
              "    </tr>\n",
              "  </tbody>\n",
              "</table>\n",
              "</div>\n",
              "      <button class=\"colab-df-convert\" onclick=\"convertToInteractive('df-ad53b302-8fb4-4762-830e-94aab605bfde')\"\n",
              "              title=\"Convert this dataframe to an interactive table.\"\n",
              "              style=\"display:none;\">\n",
              "        \n",
              "  <svg xmlns=\"http://www.w3.org/2000/svg\" height=\"24px\"viewBox=\"0 0 24 24\"\n",
              "       width=\"24px\">\n",
              "    <path d=\"M0 0h24v24H0V0z\" fill=\"none\"/>\n",
              "    <path d=\"M18.56 5.44l.94 2.06.94-2.06 2.06-.94-2.06-.94-.94-2.06-.94 2.06-2.06.94zm-11 1L8.5 8.5l.94-2.06 2.06-.94-2.06-.94L8.5 2.5l-.94 2.06-2.06.94zm10 10l.94 2.06.94-2.06 2.06-.94-2.06-.94-.94-2.06-.94 2.06-2.06.94z\"/><path d=\"M17.41 7.96l-1.37-1.37c-.4-.4-.92-.59-1.43-.59-.52 0-1.04.2-1.43.59L10.3 9.45l-7.72 7.72c-.78.78-.78 2.05 0 2.83L4 21.41c.39.39.9.59 1.41.59.51 0 1.02-.2 1.41-.59l7.78-7.78 2.81-2.81c.8-.78.8-2.07 0-2.86zM5.41 20L4 18.59l7.72-7.72 1.47 1.35L5.41 20z\"/>\n",
              "  </svg>\n",
              "      </button>\n",
              "      \n",
              "  <style>\n",
              "    .colab-df-container {\n",
              "      display:flex;\n",
              "      flex-wrap:wrap;\n",
              "      gap: 12px;\n",
              "    }\n",
              "\n",
              "    .colab-df-convert {\n",
              "      background-color: #E8F0FE;\n",
              "      border: none;\n",
              "      border-radius: 50%;\n",
              "      cursor: pointer;\n",
              "      display: none;\n",
              "      fill: #1967D2;\n",
              "      height: 32px;\n",
              "      padding: 0 0 0 0;\n",
              "      width: 32px;\n",
              "    }\n",
              "\n",
              "    .colab-df-convert:hover {\n",
              "      background-color: #E2EBFA;\n",
              "      box-shadow: 0px 1px 2px rgba(60, 64, 67, 0.3), 0px 1px 3px 1px rgba(60, 64, 67, 0.15);\n",
              "      fill: #174EA6;\n",
              "    }\n",
              "\n",
              "    [theme=dark] .colab-df-convert {\n",
              "      background-color: #3B4455;\n",
              "      fill: #D2E3FC;\n",
              "    }\n",
              "\n",
              "    [theme=dark] .colab-df-convert:hover {\n",
              "      background-color: #434B5C;\n",
              "      box-shadow: 0px 1px 3px 1px rgba(0, 0, 0, 0.15);\n",
              "      filter: drop-shadow(0px 1px 2px rgba(0, 0, 0, 0.3));\n",
              "      fill: #FFFFFF;\n",
              "    }\n",
              "  </style>\n",
              "\n",
              "      <script>\n",
              "        const buttonEl =\n",
              "          document.querySelector('#df-ad53b302-8fb4-4762-830e-94aab605bfde button.colab-df-convert');\n",
              "        buttonEl.style.display =\n",
              "          google.colab.kernel.accessAllowed ? 'block' : 'none';\n",
              "\n",
              "        async function convertToInteractive(key) {\n",
              "          const element = document.querySelector('#df-ad53b302-8fb4-4762-830e-94aab605bfde');\n",
              "          const dataTable =\n",
              "            await google.colab.kernel.invokeFunction('convertToInteractive',\n",
              "                                                     [key], {});\n",
              "          if (!dataTable) return;\n",
              "\n",
              "          const docLinkHtml = 'Like what you see? Visit the ' +\n",
              "            '<a target=\"_blank\" href=https://colab.research.google.com/notebooks/data_table.ipynb>data table notebook</a>'\n",
              "            + ' to learn more about interactive tables.';\n",
              "          element.innerHTML = '';\n",
              "          dataTable['output_type'] = 'display_data';\n",
              "          await google.colab.output.renderOutput(dataTable, element);\n",
              "          const docLink = document.createElement('div');\n",
              "          docLink.innerHTML = docLinkHtml;\n",
              "          element.appendChild(docLink);\n",
              "        }\n",
              "      </script>\n",
              "    </div>\n",
              "  </div>\n",
              "  "
            ]
          },
          "metadata": {},
          "execution_count": 10
        }
      ],
      "source": [
        "# aplica normalização min-max nas colunas\n",
        "for col in quant:\n",
        "    data[col] = (data[col] - data[col].min()) / (data[col].max() - data[col].min()) \n",
        "\n",
        "data.head(15)  \n",
        "  "
      ]
    },
    {
      "cell_type": "markdown",
      "metadata": {
        "id": "XrqSh1p2xsJv"
      },
      "source": [
        "### Codificação dos  dados categóricos\n",
        "\n",
        "\n",
        "\n",
        "Os dados categóricos assumem valores de strings que podem variar entre valores definidos. Essa forma de representação não é facilmente aplicável em algoritimos de classificação, onde dados numéricos são preferíveis, portanto uma forma de solucionar esta questão é transformar cada categori em uma coluna e o seu valor assume 0 nas entradas que não pertencem àquela classe e 1 para as que pertencem. Dessa forma eles assumem valores numéricos que mantêm a semantica alterando apenas a forma de representação dessas informações.\n",
        "\n"
      ]
    },
    {
      "cell_type": "code",
      "execution_count": null,
      "metadata": {
        "id": "y1ca-3iupSAg",
        "colab": {
          "base_uri": "https://localhost:8080/"
        },
        "outputId": "5f46c7e1-512f-4c4e-db52-0f964d2b73f2"
      },
      "outputs": [
        {
          "output_type": "execute_result",
          "data": {
            "text/plain": [
              "no_of_adults                               5\n",
              "no_of_children                             6\n",
              "no_of_weekend_nights                       8\n",
              "no_of_week_nights                         18\n",
              "required_car_parking_space                 2\n",
              "lead_time                                352\n",
              "arrival_month                             12\n",
              "arrival_date                              31\n",
              "repeated_guest                             2\n",
              "no_of_previous_cancellations               9\n",
              "no_of_previous_bookings_not_canceled      59\n",
              "avg_price_per_room                      3930\n",
              "no_of_special_requests                     6\n",
              "Meal Plan 1                                2\n",
              "Meal Plan 2                                2\n",
              "Meal Plan 3                                2\n",
              "Not Selected                               2\n",
              "Room_Type 1                                2\n",
              "Room_Type 2                                2\n",
              "Room_Type 3                                2\n",
              "Room_Type 4                                2\n",
              "Room_Type 5                                2\n",
              "Room_Type 6                                2\n",
              "Room_Type 7                                2\n",
              "Aviation                                   2\n",
              "Complementary                              2\n",
              "Corporate                                  2\n",
              "Offline                                    2\n",
              "Online                                     2\n",
              "Canceled                                   2\n",
              "dtype: int64"
            ]
          },
          "metadata": {},
          "execution_count": 11
        }
      ],
      "source": [
        "for col in categ + target:\n",
        "  dummy_vars = pd.get_dummies(data[col])\n",
        "  data = pd.concat([data, dummy_vars], axis=1, sort=False)\n",
        "  data = data.drop(columns=[col])\n",
        "\n",
        "# A coluna complementar á coluna alvo é descartada\n",
        "data = data.drop(columns=['Not_Canceled'])\n",
        "data.nunique()"
      ]
    },
    {
      "cell_type": "code",
      "execution_count": null,
      "metadata": {
        "id": "Gk2Hs4N3qjpZ"
      },
      "outputs": [],
      "source": [
        "target = ['Canceled']\n",
        "categ = [item for item in [*data.columns] if item not in target and item not in quant]"
      ]
    },
    {
      "cell_type": "markdown",
      "metadata": {
        "id": "GQOBs7d374oD"
      },
      "source": [
        "### Correlação entre atributos categóricos"
      ]
    },
    {
      "cell_type": "code",
      "execution_count": null,
      "metadata": {
        "id": "mWTB7HqWs9JT",
        "colab": {
          "base_uri": "https://localhost:8080/"
        },
        "outputId": "9972bc1b-a7e9-447b-c746-dcd8c13f2984"
      },
      "outputs": [
        {
          "output_type": "stream",
          "name": "stdout",
          "text": [
            "Atributos categóricos com alta correlação:\n",
            "['Room_Type 4', 'Online']\n"
          ]
        }
      ],
      "source": [
        "corr = data[categ].corr()\n",
        "\n",
        "matrizSuperior = np.triu(np.ones(corr.shape), k=1).astype(bool)\n",
        "correlacaoSuperior = corr.where(matrizSuperior)\n",
        "\n",
        "atributos = [col for col in correlacaoSuperior.columns if any(abs(correlacaoSuperior[col]) >= max_corr)]\n",
        "print(\"Atributos categóricos com alta correlação:\")\n",
        "print(atributos)\n",
        "\n",
        "categ = [col for col in categ if col not in atributos]\n",
        "data = data.drop(columns=atributos)"
      ]
    },
    {
      "cell_type": "markdown",
      "metadata": {
        "id": "K8ibUgCC79s7"
      },
      "source": [
        "O atributo **Room_Type 4** possui uma correlação de -0.832023 com o atributo **Room_Type 1** e o atributo **Online** possui uma correlação de 0.852504 com o atributo **Offline** portanto **Room_Type 4** e **Online** serão removidos. Os demais atributos categóricos possuem uma correlação abaixo da correlação máxima estipulada de 0.8"
      ]
    },
    {
      "cell_type": "code",
      "execution_count": null,
      "metadata": {
        "id": "DEjw74fu_4LK"
      },
      "outputs": [],
      "source": [
        "kf = KFold(n_splits=20, shuffle=True)"
      ]
    },
    {
      "cell_type": "code",
      "execution_count": null,
      "metadata": {
        "colab": {
          "base_uri": "https://localhost:8080/"
        },
        "id": "qnztgCiUhTYR",
        "outputId": "08bc9bed-8b10-493e-bd00-c0773978682b"
      },
      "outputs": [
        {
          "output_type": "stream",
          "name": "stdout",
          "text": [
            "[17853 19602]\n"
          ]
        }
      ],
      "source": [
        "X = data[categ + quant]\n",
        "y = data[target].to_numpy().reshape((len(data), ))\n",
        "\n",
        "# Geração de entradas para a classe menos dominante\n",
        "smote_enn = SMOTEENN(random_state=42)\n",
        "X_r, y_r = smote_enn.fit_resample(X, y)\n",
        "\n",
        "(unique, counts) = np.unique(y_r, return_counts=True)\n",
        "print(counts)"
      ]
    },
    {
      "cell_type": "markdown",
      "metadata": {
        "id": "uPgEM7wKCAUI"
      },
      "source": [
        "---\n",
        "## **2. Descrição das técnicas utilizadas**\n",
        "\n",
        "A tarefa pode ser abordada como um problema de classificação, onde a partir das informações de uma determinada reserva um algoritimo é treinado para definir se aquela reserva será ou não cancelada. A classe de saída é interpretada como tendo o valor **0 para as reservas não canceladas** e **1 para as reservas canceladas**. Os dados possuem tanto atributos quantitativos quanto categóricos (transformados em classes binárias). Apesar de ter sido realizado um balanceamento na quantidade dos atributos alvo, os demais atributos categóricos possuem uma certa quantidade de desbalanceamento que podem interferir negativamente nos algoritimos selecionados."
      ]
    },
    {
      "cell_type": "markdown",
      "metadata": {
        "id": "y_hRB3GrLTsX"
      },
      "source": [
        "**1. KNN** - O algorítimo de K-Nearest Kneighbour foi escolhido pois é uma técnica simples porém eficaz de classificação que classifica os dados em conjuntos baseados na distância entre os atributos e os centróides escolhidos aleatoriamente e atualizados a cada iteração. O número de conjuntos k nos quais os dados serão separados é um parâmetro importante pois define a qualidade agrupamento que será realizado. Serão testados diferentes valors de k, sendo eles 1, 2, 3, 11 e 20."
      ]
    },
    {
      "cell_type": "code",
      "execution_count": null,
      "metadata": {
        "colab": {
          "base_uri": "https://localhost:8080/"
        },
        "id": "MoAov5VvCCgw",
        "outputId": "e9ea4dfd-abf7-4abe-c400-794d584385d8"
      },
      "outputs": [
        {
          "output_type": "stream",
          "name": "stdout",
          "text": [
            "Dados desbalanceados - Acurácia com 1 K-NN: 0.8544 +/- 0.0082\n",
            "Dados balanceados - Acurácia com 1 K-NN: 0.9957 +/- 0.0019\n",
            "------------------------------\n",
            "Dados desbalanceados - Acurácia com 2 K-NN: 0.8556 +/- 0.0072\n",
            "Dados balanceados - Acurácia com 2 K-NN: 0.9934 +/- 0.0015\n",
            "------------------------------\n",
            "Dados desbalanceados - Acurácia com 3 K-NN: 0.8532 +/- 0.0077\n",
            "Dados balanceados - Acurácia com 3 K-NN: 0.9893 +/- 0.0026\n",
            "------------------------------\n",
            "Dados desbalanceados - Acurácia com 11 K-NN: 0.8455 +/- 0.0069\n",
            "Dados balanceados - Acurácia com 11 K-NN: 0.9530 +/- 0.0050\n",
            "------------------------------\n",
            "Dados desbalanceados - Acurácia com 20 K-NN: 0.8423 +/- 0.0059\n",
            "Dados balanceados - Acurácia com 20 K-NN: 0.9333 +/- 0.0079\n",
            "------------------------------\n"
          ]
        }
      ],
      "source": [
        "k_values = [1, 2, 3, 11, 20]\n",
        "for k in k_values:\n",
        "  knn = KNeighborsClassifier(n_neighbors=k)\n",
        "  scores = cross_val_score(knn, X, y, cv=kf)\n",
        "  scores_b = cross_val_score(knn, X_r, y_r, cv=kf)\n",
        "  print('Dados desbalanceados - Acurácia com', k, 'K-NN: %0.4f +/- %0.4f' % (scores.mean(), scores.std()))\n",
        "  print('Dados balanceados - Acurácia com', k, 'K-NN: %0.4f +/- %0.4f' % (scores_b.mean(), scores_b.std()))\n",
        "  print('------------------------------')"
      ]
    },
    {
      "cell_type": "markdown",
      "metadata": {
        "id": "IYa7zGOcTIti"
      },
      "source": [
        "**2. Máquina de Vetores de Suporte com polinômio de grau N** - Essa técnica consiste em separar os pontos que pertencem à classes diferentes encontrando os hiperparâmetros que melhor descrevem um hiperplano de grau N separando os dados. A separação pode ser linear ou não linear. Devido à quantidade de atributos sendo avaliados à fim de determinar se uma reserva será cancelada, foi escolhida a máquina que descreve separações não lineares, dando um poder maior de representação desse domínio mais complexo da aplicação, que talvez fosse prejudicado por uma separação linear. Apesar disso o grau 1 foi utilizado testando também a possibilidade linear. Os graus sendo testados serão 1, 2 e 5"
      ]
    },
    {
      "cell_type": "code",
      "execution_count": null,
      "metadata": {
        "id": "UMMJhKvDTx1b",
        "colab": {
          "base_uri": "https://localhost:8080/"
        },
        "outputId": "03895987-6ff0-4cb5-e54a-4f36345d110b"
      },
      "outputs": [
        {
          "output_type": "stream",
          "name": "stdout",
          "text": [
            "Dados desbalanceados - Acurácia com SVM Poly grau  1 : 0.8003 +/- 0.0102\n",
            "Dados balanceados - Acurácia com SVM Poly grau  1 : 0.8412 +/- 0.0083\n",
            "------------------------------\n",
            "Dados desbalanceados - Acurácia com SVM Poly grau  2 : 0.8129 +/- 0.0100\n",
            "Dados balanceados - Acurácia com SVM Poly grau  2 : 0.8690 +/- 0.0077\n",
            "------------------------------\n",
            "Dados desbalanceados - Acurácia com SVM Poly grau  5 : 0.8285 +/- 0.0079\n",
            "Dados balanceados - Acurácia com SVM Poly grau  5 : 0.8955 +/- 0.0072\n",
            "------------------------------\n"
          ]
        }
      ],
      "source": [
        "degree = [1, 2, 5]\n",
        "for deg in degree:\n",
        "  svm = SVC(kernel='poly', degree=deg)\n",
        "  scores = cross_val_score(svm, X, y, cv=kf)\n",
        "  scores_b = cross_val_score(svm, X_r, y_r, cv=kf)\n",
        "  print('Dados desbalanceados - Acurácia com SVM Poly grau ', deg, ': %0.4f +/- %0.4f' % (scores.mean(), scores.std()))\n",
        "  print('Dados balanceados - Acurácia com SVM Poly grau ', deg, ': %0.4f +/- %0.4f' % (scores_b.mean(), scores_b.std()))\n",
        "  print('------------------------------')"
      ]
    },
    {
      "cell_type": "markdown",
      "metadata": {
        "id": "dw9bv8PdUksN"
      },
      "source": [
        "**3. Random Forest** - É um método de Bagging baseado em árvores de decisão que se utiliza de N árvores em paralelo treinadas com sunconjuntos do conjunto de treino, facilitando a identificaçõa de relacionamentos entre as variáveis. Os números de árvores na forest para cada teste foi definido como 10, 20,50 e 100, o critério de avaliaçõ do split foi o Gini para todos os testes e a profundidade máxima foi definida como sendo metade do número de atributos dos dados de entrada."
      ]
    },
    {
      "cell_type": "code",
      "execution_count": null,
      "metadata": {
        "id": "FUR-ZjwjVW_2",
        "colab": {
          "base_uri": "https://localhost:8080/"
        },
        "outputId": "c2c41f05-69e2-4bdd-a841-8147ad6e41cf"
      },
      "outputs": [
        {
          "output_type": "stream",
          "name": "stdout",
          "text": [
            "Dados desbalanceados - Acurácia Random Forest 10 estimadores: 0.8774 +/- 0.0052\n",
            "Dados balanceados - Acurácia Random Forest 10 estimadores: 0.9504 +/- 0.0068\n",
            "------------------------------\n",
            "Dados desbalanceados - Acurácia Random Forest 20 estimadores: 0.8813 +/- 0.0071\n",
            "Dados balanceados - Acurácia Random Forest 20 estimadores: 0.9552 +/- 0.0063\n",
            "------------------------------\n",
            "Dados desbalanceados - Acurácia Random Forest 50 estimadores: 0.8828 +/- 0.0073\n",
            "Dados balanceados - Acurácia Random Forest 50 estimadores: 0.9561 +/- 0.0036\n",
            "------------------------------\n",
            "Dados desbalanceados - Acurácia Random Forest 100 estimadores: 0.8817 +/- 0.0059\n",
            "Dados balanceados - Acurácia Random Forest 100 estimadores: 0.9557 +/- 0.0050\n",
            "------------------------------\n"
          ]
        }
      ],
      "source": [
        "estimators = [10, 20, 50 ,100]\n",
        "for n_e in estimators:\n",
        "  rf = RandomForestClassifier(n_estimators=n_e, criterion='gini', max_depth=int(len(X_r.columns)/2))\n",
        "  scores = cross_val_score(rf, X, y, cv=kf)\n",
        "  scores_b = cross_val_score(rf, X_r, y_r, cv=kf)\n",
        "  print('Dados desbalanceados - Acurácia Random Forest', n_e, 'estimadores: %0.4f +/- %0.4f' % (scores.mean(), scores.std())) \n",
        "  print('Dados balanceados - Acurácia Random Forest', n_e, 'estimadores: %0.4f +/- %0.4f' % (scores_b.mean(), scores_b.std()))\n",
        "  print('------------------------------')"
      ]
    },
    {
      "cell_type": "markdown",
      "source": [
        "**4. Multi-layer Perceptron (MLP)** - É uma técnica que consiste em acplar sequencialmente conjuntos de Perceptorns a fim de criar um aproximadpr de funções não linear. Através de operações com paramêtros ajustáveis chamados pesos e bias os dados de entrada são transformados em uma saída que é uma predição do atributo alvo, em seguida o erro entre o valor real e apredição é calculado e à partir desse erro é calculado o gradiente negativo (pois o objetivo é reduzir o erro) para cada parãmetro ajustávele os ajustes são aplicados. O modelo escolhido é um modelo simples com 3 camadas, sendo a primeira e a ultima as camas de entrada e saída respectivamente, portanto o número de elementos em cada uma é o número de atributos de entrada ou o número de atributos sendo classificados e número de elementos na camada oculta de cada modelo de teste foi respectivamente 10, 20, 50 e 100"
      ],
      "metadata": {
        "id": "p-jNMCUAkFDB"
      }
    },
    {
      "cell_type": "code",
      "source": [
        "hidden_units = [10, 20, 50 ,100]\n",
        "for h_u in hidden_units:\n",
        "  mlp = MLPClassifier(h_u, max_iter=1000)\n",
        "  scores = cross_val_score(mlp, X, y, cv=kf)\n",
        "  scores_b = cross_val_score(mlp, X_r, y_r, cv=kf)\n",
        "  print('Dados desbalanceados - Acurácia MLP', h_u, 'hidden units: %0.4f +/- %0.4f' % (scores.mean(), scores.std())) \n",
        "  print('Dados balanceados - Acurácia MLP', h_u, 'hidden units: %0.4f +/- %0.4f' % (scores_b.mean(), scores_b.std()))\n",
        "  print('------------------------------')"
      ],
      "metadata": {
        "colab": {
          "base_uri": "https://localhost:8080/"
        },
        "id": "M8_5HpdQjio-",
        "outputId": "1d6aa4e6-4efb-4a12-fe0e-beb7dcf507f8"
      },
      "execution_count": null,
      "outputs": [
        {
          "output_type": "stream",
          "name": "stdout",
          "text": [
            "Dados desbalanceados - Acurácia MLP 10 hidden units: 0.8188 +/- 0.0157\n",
            "Dados balanceados - Acurácia MLP 10 hidden units: 0.8773 +/- 0.0129\n",
            "------------------------------\n",
            "Dados desbalanceados - Acurácia MLP 20 hidden units: 0.8261 +/- 0.0104\n",
            "Dados balanceados - Acurácia MLP 20 hidden units: 0.8917 +/- 0.0083\n",
            "------------------------------\n",
            "Dados desbalanceados - Acurácia MLP 50 hidden units: 0.8426 +/- 0.0090\n",
            "Dados balanceados - Acurácia MLP 50 hidden units: 0.9125 +/- 0.0074\n",
            "------------------------------\n",
            "Dados desbalanceados - Acurácia MLP 100 hidden units: 0.8495 +/- 0.0066\n",
            "Dados balanceados - Acurácia MLP 100 hidden units: 0.9271 +/- 0.0064\n",
            "------------------------------\n"
          ]
        }
      ]
    },
    {
      "cell_type": "markdown",
      "metadata": {
        "id": "v7nnhtLpWO7C"
      },
      "source": [
        "---\n",
        "## **3. Interpretação dos resultados obtidos**\n",
        "\n",
        "Dentre os métodos utlizados para analisar os dados de reservas de hospedagem e prever a possibilidade de cancelamento da reserva, o que obteve a maior acurácia calculada por cross_validation foi o KNN com número de vizinhos igual a 1, apresentando 99% de acurácia seguido pelo KNN com k = 2. A técnica de Random Forest obteve 95 % de acurácia e o MLP obteve, na sua melhor versão, 92% de acurácia e por fim a técnica de SVM obteve acuracias inferiores à 80%. \n",
        "\n",
        "O método de KNN pode ter sido mais efetivo pois é menos afetado pela grande quantidade de atributos e pelo desbalanceamento de alguns atributos categóricos, uma vez que não há treinamento e o algoritimo se ajusta aos dados, a esparsidade não afeta tão significativamente o resultado final pois estes não contribuem de forma significativa com a distância entre os dados. Os métodos de Random Forest e MLP alcançaram resultados próximos O método de SVM pode ter obtido os piores resultados por conta do grau baixo da função responsável por gerar o hiperplano, com o aumento do grau é possível observar que a acuracia aumentou porém o tempo necessário e o espaço necessário também aumentam deixando o algoritimo significativamente mais lento que os demais."
      ]
    },
    {
      "cell_type": "markdown",
      "metadata": {
        "id": "bHRAQSL4gQPs"
      },
      "source": [
        "---\n",
        "##  **4. Conclusão**\n",
        "\n",
        "Os resultados obtidos experimentando diferentes configurações dos métodos de KNN, SVM e Random Forest permitem concluir que apesar de ser mais símples o método do KNN se mostrou mais efetivo, mostrando que a complexidade do método não está diretamente relacionado à sua eficácia. Outra observação importante é o efeito do balanceamento dos dados, que melhoraram significativamente a acurácia de todos os métodos, provavelmente devido ao overfitting que pode ocorrer com o favorecimento da predição em direção à classe dominante."
      ]
    },
    {
      "cell_type": "markdown",
      "metadata": {
        "id": "eq7Yv5hMsNhF"
      },
      "source": [
        "---\n",
        "## **5. Apêndice (descrição das técnicas de Classificação apresentadas pelos colegas durante os seminários)**"
      ]
    },
    {
      "cell_type": "markdown",
      "metadata": {
        "id": "YzeVlj4W73nB"
      },
      "source": [
        "### **1. Novo método de detecção de água envenenada usando tecnologia Wi-Fi incorporada a smartphone e algoritimos de aprendizado de máquina.**\n",
        "\n",
        "* **Descrição:** Amostras de água foram submetidas a um sinal Wi-Fi e o comportamento do sinal foi observado a fim de medir, através das características do sinal recebido, se a água está contaminada ou não.\n",
        "\n",
        "* **Pipeline do experimento:** Roteador -> Transmite sinal Wi-Fi através da amostra de água -> Smartphone recebe sinal -> Remoção de ruído do sinal -> Extração de CSI (Channel-State-Information) do sinal limpo de ruído -> Seleção de features a serem analisadas -> Alimentação do algoritimo de classificação -> Classificação de amostras entre contaminada ou não contaminada.\n",
        "\n",
        "* **Algoritimos utilizados:**\n",
        "  * **SVM** - kernel Linear e Gausiano apresentaram os melhores resutados.\n",
        "  * **KNN** - k=1 foi a melhor opção.\n",
        "  * **LSTM** - Dados foram normalizados através do z-score, duas camadas ocultas com 200 e 100 nós, dropout e softmax nas camadas.\n",
        "  * **Ensembles** - utilizado o AdaBoost realizado de forma sequencial e com 30 iterações.\n",
        "\n",
        "* **Métricas de avaliação:**\n",
        "  * **AUC** - Área abaixo da curva ROC\n",
        "  * **TPR** - taxa de posotivos verdadeiros\n",
        "  * **TNR** - taxa de negativo verdadeiro\n",
        "  * **F1-Score** - Combinação de precisão e TPR\n",
        "  * **Acurácia** - Quantidade de acertos sobre o número total de predições\n",
        "\n",
        "* **Resultados:**\n",
        "  * água contaminada com 100mg/l e água limpa - pior método foi o KNN e o melhor foi o LSTM.\n",
        "  * água contaminada com 1000mg/l e água limpa - taxa de acerto de 100% para todos os algoritimos.\n",
        "  * água conatminada com 100mg/l, água contaminada com 1000mg/l e água limpa - AdaBoost obteve a maior acurácia e KNN obteve a pior.\n",
        "\n",
        "\n",
        "* **Conclusão:**\n",
        "  * Houve pouca diversidade em relação à toxina e às quantidades diluídas.\n",
        "  * Os hiperparâmetros das redes não foram divulgados.\n",
        "  * O experimento onde todos os modelos obtiveram 100% de acurácia deve ser mais analisado pois esse resultado distoa da prática encontrada na área.\n",
        "\n",
        "\n",
        "### **2. Predição da Recidiva de Câncer usando técnicas de aprendizado de máquina.**\n",
        "\n",
        "* **Objetivo:** Realizar a predição da possibilidade de Recidiva de Cãncer à partir de features binárias relacionadas principalmente à presença de determinados tratamentos.\n",
        "\n",
        "* Dataset muito desbalanceado - Apenas 9% das instância possuiam o rótulo de recidiva positiva.\n",
        "\n",
        "* Para lidar com o desbalancemento foi utilizado K-Fold durante treino/teste, a fim de remover viés de sorte e SMOTE para realizar a geração de dados sintéticos para a classe com menos rótulos a fim de balancear os dados e evitar overfitting.\n",
        "\n",
        "* **Modelos utilizados:**\n",
        "  * Naive Bayes com BernoulliNB pois os atributos são binários e a distribuição de Bernoulli é utilizada para modelar problemas em que a resposta é binária.\n",
        "  * SVM para encontrar fronteiras de decisão que melhor sepra as classes.\n",
        "\n",
        "* **Resultados:**\n",
        "  * O modelo Naive Bayes sofreu overfitting com os dados desbalanceados e houve um decrescimento das métricas ao ser ajustado com os dados balanceados.\n",
        "  * O SVM apresentou um resultado melhor que o método de Naive Bayes porém também houve uma queda nas métricas com os dados balanceados. Além disso esse modelo possui pouca explicabilidade em relação ao resultado da classificação.\n",
        "\n",
        "* **Conclusão:**\n",
        "  * Trabalhos da área de saúde geralmente possuem um alto desbalanceamento, uma vez que medições saudáveis são mais abundantes que medições com não saudáveis.\n",
        "  * O uso da sobreamostragem se provou bastante vantajoso nesse caso pois previniu o overfitting do modelo.\n",
        "\n",
        "\n",
        "### **3. CatBoost**\n",
        "* A maioria dos algoritmos de ML trabalha melhor com atributos numéricos, portanto, a solução solução mais comum é transformar cada uma das colunas categóricas em uma colunas binárias para cada classe daquela categoria, indicando o pertencimento ou não da entrada àquela classe, porém para um número muito extenso de dados essa abordagem pode aumentar muito a dimensão e a disperssão dos dados.\n",
        "\n",
        "* CatBoosting (Categorical Boosting) é uma técnica que lida com atributos categóricos sem pré-processamento. Ensemble do tipo Boosting onde os modelos utilizados são árvores de decisão.\n",
        "\n",
        "* **Modelos utilizados para comparação:**\n",
        "  * KNN\n",
        "  * Random Forest\n",
        "  * Naive Bayes\n",
        "  * SVM\n",
        "  * CatBoost\n",
        "\n",
        "* Vantagens: \n",
        "  * Maior desempenho com dados desbalanceados ou com alta dimensionalidade.\n",
        "  * Lida bem com dados categóricos\n",
        "  * Maior velocidade de treinamento \n",
        "\n",
        "* Desvantagens:\n",
        "  * Baixa interpretabilidade - Black Box\n",
        "  * Seleção de hiperparametros pode ser complexa"
      ]
    }
  ],
  "metadata": {
    "colab": {
      "provenance": []
    },
    "kernelspec": {
      "display_name": "Python 3",
      "language": "python",
      "name": "python3"
    },
    "language_info": {
      "codemirror_mode": {
        "name": "ipython",
        "version": 3
      },
      "file_extension": ".py",
      "mimetype": "text/x-python",
      "name": "python",
      "nbconvert_exporter": "python",
      "pygments_lexer": "ipython3",
      "version": "3.10.10"
    }
  },
  "nbformat": 4,
  "nbformat_minor": 0
}