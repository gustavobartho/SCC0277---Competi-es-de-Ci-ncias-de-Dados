{
  "cells": [
    {
      "cell_type": "markdown",
      "metadata": {
        "id": "9MMwObzqwKlO"
      },
      "source": [
        "# **Desafio de Regressão:**\n",
        "\n",
        "**Nome:** Gustavo Bartholomeu Trad Souza\n",
        "\n",
        "**Nº USP:** 11219216\n",
        "\n",
        "**Disciplina:** SCC0277 - Competições de Ciências de Dados\n",
        "\n",
        "**Docente:** Fernando Pereira dos Santos\n",
        "\n",
        "**Universidade de São Paulo (USP)**\n",
        "\n",
        "Utilizando a metodologia básica de um projeto para ciência de dados, implemente possíveis soluções para o seguinte estudo de caso (https://www.kaggle.com/datasets/podsyp/sales-in-craft-beer-bar). Desenvolva e implemente métodos que se propõem a estimar a variável de saída.\n",
        "\n",
        "Em seu projeto deverá constar uma análise detalhada do dataset e descrição das transformações de dados realizadas com suas respectivas justificativas. Adicionalmente, crie um baseline com as técnicas contidas nesta aula. Como forma de superar este baseline, pesquise por métodos e técnicas mais complexas. Você deverá entregar um relatório com os seguintes itens:\n",
        "\n",
        "1. Descrição do problema e análise dos dados\n",
        "2. Descrição das técnicas utilizadas\n",
        "3. Interpretação dos resultados obtidos\n",
        "4. Conclusão\n",
        "5. Apêndice (descrição das técnicas de Regressão apresentadas pelos colegas durante os seminários)"
      ]
    },
    {
      "cell_type": "code",
      "execution_count": null,
      "metadata": {
        "id": "3iTFD5yMwgpg"
      },
      "outputs": [],
      "source": [
        "# Importação das bibliotecas\n",
        "\n",
        "import pandas as pd\n",
        "import matplotlib.pyplot as plt\n",
        "import numpy as np\n",
        "\n",
        "from sklearn.model_selection import  train_test_split\n",
        "from sklearn.metrics import mean_squared_error, r2_score\n",
        "from sklearn.linear_model import LinearRegression, Ridge, Lasso, ElasticNet\n",
        "from sklearn.ensemble import RandomForestRegressor, BaggingRegressor, AdaBoostRegressor\n",
        "from sklearn.svm import LinearSVR, SVR\n",
        "from sklearn.neural_network import MLPRegressor\n",
        "from sklearn import tree\n",
        "from sklearn.tree import DecisionTreeRegressor\n",
        "\n",
        "\n",
        "import math\n",
        "\n",
        "np.random.seed(seed=42)\n",
        "prod_code =  'Product_code'"
      ]
    },
    {
      "cell_type": "markdown",
      "metadata": {
        "id": "XVtArJuHx0XK"
      },
      "source": [
        "# **1. Descrição do problema e análise dos dados** \n",
        "\n",
        "O conjunto de dados fornecido apresenta informações sobre produtos que são geralmente vendidos em bares e restaurantes, com informações relacionadas à fabricação, composição e venda por parte do fornecedor e também informações sobre vendas relaizadas em um estabelecimento russo chamado **Nelson Sauvin Bar** com os ítens presentes no primeiro dataset. Com essas informações é possível a realização da tarefa de regressão nos dados a fim de predizer a quantidade de vendas ou o lucro que seria obtido de um determinado produto, que está presente na base de produtos mas que não era comercializado na loja, dadas algumas informaçãoes sobre esse produto. \n",
        "\n"
      ]
    },
    {
      "cell_type": "markdown",
      "metadata": {
        "id": "qjx0FLOCehSt"
      },
      "source": [
        "## **1.1. Descrição dos dados**\n",
        "O dataset é composto de duas tabelas com informações sobre produtos oferecidos e o histórico de vendas de um bar russo chamado **Nelson Sauvin Bar**.\n",
        "\n",
        "\\\n",
        "O arquivo **Product_range.csv** contém dados sobre o conjunto de todos os tipos de produtos (cerveja, salgadinhos, refrigerantes e etc.) oferecidos aos clientes pelo Nelson Sauvin Bar. Este conjunto de produtos pode ser mais ou menos especializado ou genérico e deve corresponder às expectativas do mercado-alvo da empresa. Os produtos são descritos nas seguintes 8 colunas:\n",
        "  * **Product_code**: Código único de identificação de cada produto.\n",
        "  * **Vendor_code**: Código único que identifica o vendedor do produto.\n",
        "  * **Name**: Nome da SKU produto.\n",
        "  * **Retail_price**: Preço de varejo do produto.\n",
        "  * **Base_unit**: Únidade base de venda do produto (litros, peças, etc...).\n",
        "  * **Country_of_Origin**: País de fabricação do produto.\n",
        "  * **Size**: Tamanho do produto.\n",
        "  * **ABV (Alcohol by Volume)**: Porcentágem de álcool por volume do produto - relevante para as bebidas alcóolicas.\n",
        "\n",
        "\\\n",
        "O arquivo **Transactions.csv** contém dados sobre a venda de cerveja artesanal do bar. Este tipo de cerveja é tipicamente fabricado em pequenos lotes, usando métodos tradicionais e ingredientes de alta qualidade. Os bares de cerveja artesanal normalmente oferecem uma ampla seleção de cervejas artesanais de cervejarias locais e regionais, bem como de outras partes do mundo. As 8 colunas do dataset são:\n",
        "  * **Date_and_time_of_unloading**: Data e hora da compra.\n",
        "  * **Product_code**: Código único de identificação de cada produto.\n",
        "  * **Amount**: O número de unidades vendidas.\n",
        "  * **Sale_amount**: Quantia total de dinheiro que a empresa ganhou com a venda.\n",
        "  * **Discount_amount**: Quantia de dinheiro deduzida do preço original de um produto.\n",
        "  * **Profit**: Diferença entre a receita que a empresa obtém e os custos associados à produção e venda de seus produtos.\n",
        "  * **Percentage_markup**: Valor pelo qual o custo de um produto é aumentado para determinar o preço de venda.\n",
        "  * **Discount_percentage**: Porcentagem de desconto concedido a um produto.\n",
        "\n",
        "\\\n"
      ]
    },
    {
      "cell_type": "code",
      "execution_count": null,
      "metadata": {
        "colab": {
          "base_uri": "https://localhost:8080/"
        },
        "id": "47bq-WWMx8p7",
        "outputId": "efdd309a-164c-4027-fc55-ef6181f8cca5"
      },
      "outputs": [
        {
          "output_type": "stream",
          "name": "stdout",
          "text": [
            "<class 'pandas.core.frame.DataFrame'>\n",
            "Int64Index: 5314 entries, 0 to 5313\n",
            "Data columns (total 8 columns):\n",
            " #   Column             Non-Null Count  Dtype  \n",
            "---  ------             --------------  -----  \n",
            " 0   Product_code       5314 non-null   int64  \n",
            " 1   Vendor_code        4288 non-null   object \n",
            " 2   Name               5314 non-null   object \n",
            " 3   Retail_price       4878 non-null   float64\n",
            " 4   Base_unit          4910 non-null   object \n",
            " 5   Country_of_Origin  4205 non-null   object \n",
            " 6   Size               4626 non-null   float64\n",
            " 7   ABV                4622 non-null   float64\n",
            "dtypes: float64(3), int64(1), object(4)\n",
            "memory usage: 373.6+ KB\n"
          ]
        }
      ],
      "source": [
        "# Carregamento do dataset de produtos\n",
        "product_df = pd.read_csv('Product_range.csv')\n",
        "\n",
        "# remove as linhas com Product_code nulo\n",
        "product_df = product_df[product_df[prod_code].notna()]\n",
        "\n",
        "product_df.info()"
      ]
    },
    {
      "cell_type": "code",
      "execution_count": null,
      "metadata": {
        "colab": {
          "base_uri": "https://localhost:8080/"
        },
        "id": "bnmLVPCwT70j",
        "outputId": "556fad47-953d-4536-d115-312821b70f30"
      },
      "outputs": [
        {
          "output_type": "stream",
          "name": "stdout",
          "text": [
            "<class 'pandas.core.frame.DataFrame'>\n",
            "Int64Index: 18016 entries, 0 to 18015\n",
            "Data columns (total 8 columns):\n",
            " #   Column                      Non-Null Count  Dtype  \n",
            "---  ------                      --------------  -----  \n",
            " 0   Date_and_time_of_unloading  18016 non-null  object \n",
            " 1   Product_code                18016 non-null  int64  \n",
            " 2   Amount                      18016 non-null  float64\n",
            " 3   Sale_amount                 17990 non-null  float64\n",
            " 4   Discount_amount             13723 non-null  float64\n",
            " 5   Profit                      18013 non-null  float64\n",
            " 6   Percentage_markup           17294 non-null  float64\n",
            " 7   Discount_percentage         13723 non-null  float64\n",
            "dtypes: float64(6), int64(1), object(1)\n",
            "memory usage: 1.2+ MB\n"
          ]
        }
      ],
      "source": [
        "# Carregamento do dataset de transações\n",
        "transaction_df = pd.read_csv('Transactions.csv')\n",
        "\n",
        "# remove as linhas com Product_code nulo\n",
        "transaction_df = transaction_df[transaction_df[prod_code].notna()]\n",
        "\n",
        "transaction_df.info()"
      ]
    },
    {
      "cell_type": "markdown",
      "metadata": {
        "id": "MJwP99sMLb-E"
      },
      "source": [
        "## **1.2. Preparação do dataset**"
      ]
    },
    {
      "cell_type": "markdown",
      "metadata": {
        "id": "2yiaAuWeGbqs"
      },
      "source": [
        "As colunas **Product_code** e **Name** serão removidas para os algorítimos de regressão pois, além de possuíream a mesma semantica, ambas identificam univocadamente cada produto, portanto não são interessantes para a tarefa de regressão."
      ]
    },
    {
      "cell_type": "code",
      "execution_count": null,
      "metadata": {
        "id": "fF1Bdvys7iY_"
      },
      "outputs": [],
      "source": [
        "product_df = product_df.drop(['Name'], axis=1)"
      ]
    },
    {
      "cell_type": "markdown",
      "metadata": {
        "id": "U5_GxhXGTxzt"
      },
      "source": [
        "Em seguida o dataset com as transações será preparado de forma que todas as informações acerca de um determinado produto sejam condensada em apenas uma linha. Para isso, inicialmente, serão  mantidas as colunas referentes à quantidade de produtos vendidos (**Amount**) e o lucro total obtido com as vendas de cada produto (**Profit**). Em seguida esses valores serão somados de acordo com o id do produto para que seja calculado o total de vendas, o total de dinheiro adquirido com o produto e o lucro total do produto."
      ]
    },
    {
      "cell_type": "code",
      "execution_count": null,
      "metadata": {
        "colab": {
          "base_uri": "https://localhost:8080/"
        },
        "id": "BZU710cHdhFd",
        "outputId": "d3bfdc56-ad2d-4c5b-b8f7-d1fdcd10c629"
      },
      "outputs": [
        {
          "output_type": "stream",
          "name": "stdout",
          "text": [
            "<class 'pandas.core.frame.DataFrame'>\n",
            "Int64Index: 18016 entries, 0 to 18015\n",
            "Data columns (total 3 columns):\n",
            " #   Column        Non-Null Count  Dtype  \n",
            "---  ------        --------------  -----  \n",
            " 0   Product_code  18016 non-null  int64  \n",
            " 1   Amount        18016 non-null  float64\n",
            " 2   Profit        18013 non-null  float64\n",
            "dtypes: float64(2), int64(1)\n",
            "memory usage: 563.0 KB\n"
          ]
        }
      ],
      "source": [
        "transaction_df = transaction_df[[prod_code, 'Amount',  'Profit']]\n",
        "transaction_df.info()"
      ]
    },
    {
      "cell_type": "markdown",
      "metadata": {
        "id": "itdWfP1eV95Q"
      },
      "source": [
        "## **1.3. Atributos quantitativos**\n",
        "\n",
        "As colunas presentes nos datasets finais com uma semântica quantitativa são: \n",
        "**Retail_price**, **Size**, **ABV** no dataset com as informações de cada produto e as colunas: **Amount**, **Sale_amount** e **Profit** no dataset de transações."
      ]
    },
    {
      "cell_type": "code",
      "execution_count": null,
      "metadata": {
        "id": "N8-owQ3hp-gO"
      },
      "outputs": [],
      "source": [
        "quant_cols_prod = ['Retail_price', 'Size', 'ABV']\n",
        "quant_cols_trans = ['Amount', 'Profit']"
      ]
    },
    {
      "cell_type": "markdown",
      "metadata": {
        "id": "uH4J9VQaSdnq"
      },
      "source": [
        "### **1.3.1. Substituição dos valores faltantes**\n",
        "\n",
        "O preenchimento dos dados faltantes no caso dos atributos quantitatiovos será realizado através do calculo do valor médio dos valores contidos no atributo."
      ]
    },
    {
      "cell_type": "code",
      "execution_count": null,
      "metadata": {
        "colab": {
          "base_uri": "https://localhost:8080/"
        },
        "id": "PsEoAIAUqPHE",
        "outputId": "04ee54be-5529-43bd-b243-0e954dc52626"
      },
      "outputs": [
        {
          "output_type": "stream",
          "name": "stdout",
          "text": [
            "Retail_price    436\n",
            "Size            688\n",
            "ABV             692\n",
            "dtype: int64\n"
          ]
        }
      ],
      "source": [
        "def print_null_prod(df, cols):\n",
        "  print(df[cols].isnull().sum())\n",
        "\n",
        "print_null_prod(product_df, quant_cols_prod)"
      ]
    },
    {
      "cell_type": "code",
      "execution_count": null,
      "metadata": {
        "colab": {
          "base_uri": "https://localhost:8080/"
        },
        "id": "mFVBvuKssgR-",
        "outputId": "f95f0bb1-23be-46a9-93e7-f0f7cd9f75a3"
      },
      "outputs": [
        {
          "output_type": "stream",
          "name": "stdout",
          "text": [
            "Retail_price    0\n",
            "Size            0\n",
            "ABV             0\n",
            "dtype: int64\n"
          ]
        }
      ],
      "source": [
        "for col in quant_cols_prod:\n",
        "  #calcula a média da coluna\n",
        "  mean_value = product_df[col].mean()\n",
        "  # substitui os valores faltantes pela média calculada\n",
        "  product_df[col].fillna(value=mean_value, inplace=True)\n",
        "\n",
        "print_null_prod(product_df, quant_cols_prod)"
      ]
    },
    {
      "cell_type": "markdown",
      "metadata": {
        "id": "76IvQJBlurfJ"
      },
      "source": [
        "No dataset de transações as entradas com valores faltantes também serão substituidas pela média da coluna, dessa forma será possível realizar a soma dos valores totais de cada produto."
      ]
    },
    {
      "cell_type": "code",
      "execution_count": null,
      "metadata": {
        "colab": {
          "base_uri": "https://localhost:8080/"
        },
        "id": "eb_fqg2NnIAr",
        "outputId": "501ef786-5112-4602-b7a7-5a10f4259248"
      },
      "outputs": [
        {
          "output_type": "stream",
          "name": "stdout",
          "text": [
            "Amount    0\n",
            "Profit    3\n",
            "dtype: int64\n"
          ]
        }
      ],
      "source": [
        "print_null_prod(transaction_df, quant_cols_trans)"
      ]
    },
    {
      "cell_type": "code",
      "execution_count": null,
      "metadata": {
        "colab": {
          "base_uri": "https://localhost:8080/"
        },
        "id": "RAd5FCUSpHql",
        "outputId": "24403ab6-d108-405a-ce7e-442ec088ba32"
      },
      "outputs": [
        {
          "output_type": "stream",
          "name": "stdout",
          "text": [
            "Amount    0\n",
            "Profit    0\n",
            "dtype: int64\n"
          ]
        }
      ],
      "source": [
        "# preenche as demias colunas com a média da coluna\n",
        "transaction_df[quant_cols_trans] = transaction_df[quant_cols_trans].fillna(transaction_df[quant_cols_trans].mean())\n",
        "\n",
        "print_null_prod(transaction_df, quant_cols_trans)"
      ]
    },
    {
      "cell_type": "markdown",
      "metadata": {
        "id": "7PER9iJkr2XZ"
      },
      "source": [
        "### **1.3.2. Normalização dos dados**\n",
        "\n",
        "Será aplicada a normalização min-max nas colunas quantitativas da tabela de produtos de forma que os valores ficarão entre 0 e 1. Na tabela de transações será realizada a soma dos valores quantitativos portanto não será realizada a normalização desses valores."
      ]
    },
    {
      "cell_type": "code",
      "execution_count": null,
      "metadata": {
        "id": "kMfInYArr8yI"
      },
      "outputs": [],
      "source": [
        "# aplica normalização min-max nas colunas da tabela de produtos\n",
        "for col in quant_cols_prod: product_df[col] = (product_df[col] - product_df[col].min()) / (product_df[col].max() - product_df[col].min()) "
      ]
    },
    {
      "cell_type": "markdown",
      "metadata": {
        "id": "bpfuF2wR9vt1"
      },
      "source": [
        "## **1.4. Atributos categóricos**\n",
        "\n",
        "OApenas o dataset de produtos possui colunas categóricas. Os atributos categóricos nesse dataset são: **Vendor_code**, **Base_unit**, **Country_of_Origin**. "
      ]
    },
    {
      "cell_type": "code",
      "execution_count": null,
      "metadata": {
        "id": "Fs9AUmrFdk4I"
      },
      "outputs": [],
      "source": [
        "cat_cols = ['Base_unit', 'Country_of_Origin', 'Vendor_code']"
      ]
    },
    {
      "cell_type": "markdown",
      "metadata": {
        "id": "t3n45ZhTgxRj"
      },
      "source": [
        "### **1.4.1. Substituição dos valores faltantes**\n",
        "\n",
        "Não será realizada a substituição dos valores faltantes para os atributos categóricos visto que a substituição pela moda pode desbalancear o dataset, portanto as linhas com valores faltantes serão removidas do dataset, evitando um aumento no desbalanceamento."
      ]
    },
    {
      "cell_type": "code",
      "execution_count": null,
      "metadata": {
        "colab": {
          "base_uri": "https://localhost:8080/"
        },
        "id": "Idm-JpZTgxBW",
        "outputId": "b00525f1-a45a-443f-d9d7-5bba011b3666"
      },
      "outputs": [
        {
          "output_type": "stream",
          "name": "stdout",
          "text": [
            "Base_unit             404\n",
            "Country_of_Origin    1109\n",
            "Vendor_code          1026\n",
            "dtype: int64\n"
          ]
        }
      ],
      "source": [
        "print_null_prod(product_df,  cat_cols)"
      ]
    },
    {
      "cell_type": "code",
      "execution_count": null,
      "metadata": {
        "colab": {
          "base_uri": "https://localhost:8080/"
        },
        "id": "I3U-iMvRVUvY",
        "outputId": "40ab029f-c788-4b80-8952-f9d0d0b782ae"
      },
      "outputs": [
        {
          "output_type": "stream",
          "name": "stdout",
          "text": [
            "Base_unit            0\n",
            "Country_of_Origin    0\n",
            "Vendor_code          0\n",
            "dtype: int64\n"
          ]
        }
      ],
      "source": [
        "#for col in cat_cols: product_df[col] = product_df[col].fillna('Unknown_' + col)\n",
        "product_df = product_df.dropna()\n",
        "\n",
        "print_null_prod(product_df,  cat_cols)"
      ]
    },
    {
      "cell_type": "code",
      "execution_count": null,
      "metadata": {
        "colab": {
          "base_uri": "https://localhost:8080/",
          "height": 359
        },
        "id": "WfVUwYSLUYC1",
        "outputId": "423f3d3d-8b61-4a00-9086-fccf75a0a919"
      },
      "outputs": [
        {
          "output_type": "display_data",
          "data": {
            "text/plain": [
              "<Figure size 2000x700 with 4 Axes>"
            ],
            "image/png": "[encoded data removed]"
          },
          "metadata": {}
        }
      ],
      "source": [
        "lin = math.ceil(math.sqrt(len(cat_cols)))\n",
        "col = math.ceil(math.sqrt(len(cat_cols)))\n",
        "\n",
        "fig, axs = plt.subplots(lin, col, figsize=(20, 7))\n",
        "axs = axs.ravel() \n",
        "fig.suptitle('Histograma dos atributos categóricos')\n",
        "for i, col in enumerate(cat_cols):\n",
        "    axs[i].hist(product_df[col])\n",
        "    axs[i].set_title(col)"
      ]
    },
    {
      "cell_type": "markdown",
      "metadata": {
        "id": "3VreFFmkilfe"
      },
      "source": [
        "### **1.4.2. Codificação dos dado**\n",
        "\n",
        "As colunas categóricas possuem as seguintes quantidades de valores únicos (classes) em cada:"
      ]
    },
    {
      "cell_type": "code",
      "execution_count": null,
      "metadata": {
        "colab": {
          "base_uri": "https://localhost:8080/"
        },
        "id": "5NHN2NaCiubC",
        "outputId": "4f7ae31b-57de-43ec-9e6b-621a7e8de90d"
      },
      "outputs": [
        {
          "output_type": "stream",
          "name": "stdout",
          "text": [
            "Base_unit : 3\n",
            "Country_of_Origin : 27\n",
            "Vendor_code : 260\n"
          ]
        }
      ],
      "source": [
        "for col in cat_cols: print(col, ':', product_df[col].nunique())"
      ]
    },
    {
      "cell_type": "markdown",
      "metadata": {
        "id": "CX7cXL-HkhzN"
      },
      "source": [
        "Após o preenchimento dos dados faltantes é realizada a conversão dos atributos categóricos de classes de forma que esses possam assumir valores numéricos (strings ou inteiros com semântica de classe não podem ser passados para os algoritimos de aprendizado), para isso será criada uma coluna para cada classe presente nas colunas categóricas e essa nova coluna irá receber o valor 1 caso a entrada possuisse aquela classe na coluna original e 0 caso contrário. O dataset final de produtos possui 310 colunas e 5314 linhas."
      ]
    },
    {
      "cell_type": "code",
      "execution_count": null,
      "metadata": {
        "colab": {
          "base_uri": "https://localhost:8080/"
        },
        "id": "hSCeqQjvlEe6",
        "outputId": "36c613d0-ba7d-4473-f67c-d7c3c6ce671c"
      },
      "outputs": [
        {
          "output_type": "stream",
          "name": "stdout",
          "text": [
            "<class 'pandas.core.frame.DataFrame'>\n",
            "Int64Index: 4021 entries, 14 to 5312\n",
            "Columns: 294 entries, Product_code to de Blaugies\n",
            "dtypes: float64(3), int64(1), uint8(290)\n",
            "memory usage: 1.3 MB\n"
          ]
        }
      ],
      "source": [
        "for col in cat_cols:\n",
        "  dummy_vars = pd.get_dummies(product_df[col])\n",
        "  product_df = pd.concat([product_df, dummy_vars], axis=1, sort=False)\n",
        "  product_df = product_df.drop(columns=[col])\n",
        "\n",
        "product_df.info()"
      ]
    },
    {
      "cell_type": "markdown",
      "metadata": {
        "id": "dMmgKpK9udBb"
      },
      "source": [
        "## **1.5. Correlação entre os dados**\n",
        "\n",
        "Foi definida uma correlação máxima de 0.7, á partir da qual um dos elementos da correlação será removido. O dataset de transações não terá sua correlação medida pois os valores que ela apresenta serão os valores alvo da regressão e calculados separadamente, com o objetivo de testar qual deles pode ser melhor descrito pelas informações do produto."
      ]
    },
    {
      "cell_type": "code",
      "execution_count": null,
      "metadata": {
        "colab": {
          "base_uri": "https://localhost:8080/"
        },
        "id": "jN9qRqhTukuQ",
        "outputId": "f58eafef-b8fc-4ea3-9d9d-6cc01cbd2555"
      },
      "outputs": [
        {
          "output_type": "stream",
          "name": "stdout",
          "text": [
            "Atributos alta correlação:\n",
            "['Pieces', 'Netherlands', 'Arpus', 'Axiom', 'Bevog', 'Brasserie des Franches-Montagnes', 'BrewDog', 'Chang', 'CoolHead Brew', 'Dogma', 'Hitachino NEST', 'Lervig', 'Naparbier', 'Netherlands', 'Pohjala', 'Shimeji Beer', 'Snacks', 'Tempest Brewing', 'The Garage Brewery', 'To Ol', 'White Hag']\n"
          ]
        }
      ],
      "source": [
        "max_corr = 0.7\n",
        "corr = product_df.corr()\n",
        "\n",
        "matrizSuperior = np.triu(np.ones(corr.shape), k=1).astype(bool)\n",
        "correlacaoSuperior = corr.where(matrizSuperior)\n",
        "\n",
        "atributos = [col for col in correlacaoSuperior.columns if any(abs(correlacaoSuperior[col]) >= max_corr)]\n",
        "print(\"Atributos alta correlação:\")\n",
        "print(atributos)\n"
      ]
    },
    {
      "cell_type": "code",
      "execution_count": null,
      "metadata": {
        "colab": {
          "base_uri": "https://localhost:8080/"
        },
        "id": "XtVwsN-hzdGX",
        "outputId": "c92cd5dc-6a10-427e-b1d1-96ba8d76208f"
      },
      "outputs": [
        {
          "output_type": "stream",
          "name": "stdout",
          "text": [
            "<class 'pandas.core.frame.DataFrame'>\n",
            "Int64Index: 4021 entries, 14 to 5312\n",
            "Columns: 273 entries, Product_code to de Blaugies\n",
            "dtypes: float64(3), int64(1), uint8(269)\n",
            "memory usage: 1.2 MB\n"
          ]
        }
      ],
      "source": [
        "product_df = product_df.drop(columns=atributos)\n",
        "product_df.info()\n"
      ]
    },
    {
      "cell_type": "markdown",
      "metadata": {
        "id": "2XC71QFQde0y"
      },
      "source": [
        "## **1.6. Dataset final**\n",
        "\n",
        "Para a criaçaõ dos datasets finais, inicialmente haverá a separação do dataset de produtos entre os produtos presentes no dataset de transações e os produtos que não estão. Essa separação permite que o algoritimo seja treinado e avaliado com os produtos oferecidos pelo bar e em seguida com o outro dataset é possível utilizar o algoritimo treinado para prever os lucros do bar com produtos que nao são comercializados por ele."
      ]
    },
    {
      "cell_type": "code",
      "execution_count": null,
      "metadata": {
        "colab": {
          "base_uri": "https://localhost:8080/"
        },
        "id": "TnK2MD9UxLkE",
        "outputId": "c840acab-3400-441d-e5e0-3826bc5723d6"
      },
      "outputs": [
        {
          "output_type": "stream",
          "name": "stdout",
          "text": [
            "Num de produtos em Transactions.csv que não estão em Product_range.csv:  248\n",
            "Num de produtos em Product_range.csv que não estão em Transactions.csv:  2890\n",
            "\n",
            "------------------------------\n",
            "\n",
            "Dataset de predição\n",
            "<class 'pandas.core.frame.DataFrame'>\n",
            "RangeIndex: 2890 entries, 0 to 2889\n",
            "Columns: 274 entries, index to de Blaugies\n",
            "dtypes: float64(3), int64(2), uint8(269)\n",
            "memory usage: 872.2 KB\n",
            "None\n",
            "\n",
            "------------------------------\n",
            "\n",
            "Dataset de treino\n",
            "<class 'pandas.core.frame.DataFrame'>\n",
            "RangeIndex: 1131 entries, 0 to 1130\n",
            "Columns: 274 entries, index to de Blaugies\n",
            "dtypes: float64(3), int64(2), uint8(269)\n",
            "memory usage: 341.4 KB\n",
            "None\n"
          ]
        }
      ],
      "source": [
        "all_prods = product_df[prod_code].unique()\n",
        "store_prods = transaction_df[prod_code].unique()\n",
        "\n",
        "not_in_store_prods = [prod for prod in all_prods if prod not in store_prods]\n",
        "not_in_all_prods = [prod for prod in store_prods if prod not in all_prods]\n",
        "\n",
        "print('Num de produtos em Transactions.csv que não estão em Product_range.csv: ', len(not_in_all_prods))\n",
        "print('Num de produtos em Product_range.csv que não estão em Transactions.csv: ', len(not_in_store_prods))\n",
        "print('\\n------------------------------\\n')\n",
        "#separação do dataset entre predição (que não estão no transaction) e treino (que estão no transaction)\n",
        "to_predict = product_df.loc[product_df[prod_code].isin(not_in_store_prods)].copy().reset_index()\n",
        "to_train = product_df.loc[product_df[prod_code].isin(store_prods) & product_df[prod_code].isin(all_prods)].copy().reset_index()\n",
        "print('Dataset de predição')\n",
        "print(to_predict.info())\n",
        "print('\\n------------------------------\\n')\n",
        "print('Dataset de treino')\n",
        "print(to_train.info())"
      ]
    },
    {
      "cell_type": "markdown",
      "metadata": {
        "id": "NVRcBjf8yBV8"
      },
      "source": [
        "O numero de produtos distintos no primeiro dataset é de 5314 e o número de produtos distintos envolvidos nas transações descritas pelo segundo dataset é de 2509 e todos os produtos vendidos pelo bar estão descritos no dataset de produtos, portanto há 2805 produtos que não são vendidos pelo **Nelson Sauvin Bar** e que poderiam ser vendidos caso se mostrassem vantajosos.\n",
        "Para isso inicialmente o dataset **Product_range.csv** será separado em um dataset dos produtos contidos no **Transactions.csv** e outro com as informações dos produtos que não estão contidos nas transações. Em seguida o dataset de treino e o de transações será unido pela coluna de **Product_code**.\n",
        "\n",
        "\n"
      ]
    },
    {
      "cell_type": "code",
      "execution_count": null,
      "metadata": {
        "colab": {
          "base_uri": "https://localhost:8080/"
        },
        "id": "U9QTVnxV3szG",
        "outputId": "dbf2d910-9ebc-43fe-a33b-6138564590a3"
      },
      "outputs": [
        {
          "output_type": "stream",
          "name": "stdout",
          "text": [
            "<class 'pandas.core.frame.DataFrame'>\n",
            "RangeIndex: 1131 entries, 0 to 1130\n",
            "Columns: 274 entries, Retail_price to Profit\n",
            "dtypes: float64(5), uint8(269)\n",
            "memory usage: 341.4 KB\n"
          ]
        }
      ],
      "source": [
        "sum_df = transaction_df.groupby(prod_code, as_index=False).sum()\n",
        "final_df = pd.merge(to_train, sum_df, on=prod_code).reset_index()\n",
        "final_df = final_df.drop(['level_0', 'index', 'Product_code'], axis=1)\n",
        "\n",
        "final_df.info()\n"
      ]
    },
    {
      "cell_type": "markdown",
      "metadata": {
        "id": "vcbMNhUf6zPj"
      },
      "source": [
        "Dessa forma o dataset final possui 2509 linhas, cada uma contendo informações de um produto distinto e 299 colunas, sendo 3 delas as colunas alvo que deverão ser preditas pelos algoritimos de regressão."
      ]
    },
    {
      "cell_type": "code",
      "execution_count": null,
      "metadata": {
        "id": "mqzA2PG17CKf"
      },
      "outputs": [],
      "source": [
        "Y_cols = ['Amount', 'Profit']\n",
        "X_cols = [col for col in final_df.columns if col not in Y_cols]\n",
        "\n",
        "X_train, X_test, y_train, y_test = train_test_split(final_df[X_cols], final_df[Y_cols], test_size=0.2)\n",
        "\n",
        "y_train_amount = y_train['Amount']\n",
        "y_train_profit = y_train['Profit']\n",
        "\n",
        "y_test_amount = y_test['Amount']\n",
        "y_test_profit = y_test['Profit']"
      ]
    },
    {
      "cell_type": "code",
      "execution_count": null,
      "metadata": {
        "colab": {
          "base_uri": "https://localhost:8080/",
          "height": 317
        },
        "id": "X39Zw29JEk1C",
        "outputId": "4aa2c17a-d415-4e64-80a4-5b434e3350f3"
      },
      "outputs": [
        {
          "output_type": "execute_result",
          "data": {
            "text/plain": [
              "   Retail_price      Size       ABV  100g  Liters  ???  Austria  Belgium  \\\n",
              "0      0.100072  0.007538  0.268293     0       0    0        0        1   \n",
              "1      0.111860  0.007538  0.219512     0       0    0        0        1   \n",
              "2      0.188476  0.020101  0.234146     0       0    0        0        1   \n",
              "3      0.294560  0.020101  0.268293     0       0    0        0        1   \n",
              "4      0.176689  0.007538  0.239024     0       0    0        0        1   \n",
              "\n",
              "   Brazil  Canada  ...  Wild Lab  WildBeer  WildLab  XP Brew  Yablodar  \\\n",
              "0       0       0  ...         0         0        0        0         0   \n",
              "1       0       0  ...         0         0        0        0         0   \n",
              "2       0       0  ...         0         0        0        0         0   \n",
              "3       0       0  ...         0         0        0        0         0   \n",
              "4       0       0  ...         0         0        0        0         0   \n",
              "\n",
              "   Zagovor  Zavod  de Blaugies  Amount  Profit  \n",
              "0        0      0            0     4.0 -216.93  \n",
              "1        0      0            0     3.0  863.00  \n",
              "2        0      0            0     2.0  932.00  \n",
              "3        0      0            0     2.0  615.06  \n",
              "4        0      0            0     1.0  612.00  \n",
              "\n",
              "[5 rows x 274 columns]"
            ],
            "text/html": [
              "\n",
              "  <div id=\"df-7a9d2872-0f66-4be4-a20e-32c870dbd428\">\n",
              "    <div class=\"colab-df-container\">\n",
              "      <div>\n",
              "<style scoped>\n",
              "    .dataframe tbody tr th:only-of-type {\n",
              "        vertical-align: middle;\n",
              "    }\n",
              "\n",
              "    .dataframe tbody tr th {\n",
              "        vertical-align: top;\n",
              "    }\n",
              "\n",
              "    .dataframe thead th {\n",
              "        text-align: right;\n",
              "    }\n",
              "</style>\n",
              "<table border=\"1\" class=\"dataframe\">\n",
              "  <thead>\n",
              "    <tr style=\"text-align: right;\">\n",
              "      <th></th>\n",
              "      <th>Retail_price</th>\n",
              "      <th>Size</th>\n",
              "      <th>ABV</th>\n",
              "      <th>100g</th>\n",
              "      <th>Liters</th>\n",
              "      <th>???</th>\n",
              "      <th>Austria</th>\n",
              "      <th>Belgium</th>\n",
              "      <th>Brazil</th>\n",
              "      <th>Canada</th>\n",
              "      <th>...</th>\n",
              "      <th>Wild Lab</th>\n",
              "      <th>WildBeer</th>\n",
              "      <th>WildLab</th>\n",
              "      <th>XP Brew</th>\n",
              "      <th>Yablodar</th>\n",
              "      <th>Zagovor</th>\n",
              "      <th>Zavod</th>\n",
              "      <th>de Blaugies</th>\n",
              "      <th>Amount</th>\n",
              "      <th>Profit</th>\n",
              "    </tr>\n",
              "  </thead>\n",
              "  <tbody>\n",
              "    <tr>\n",
              "      <th>0</th>\n",
              "      <td>0.100072</td>\n",
              "      <td>0.007538</td>\n",
              "      <td>0.268293</td>\n",
              "      <td>0</td>\n",
              "      <td>0</td>\n",
              "      <td>0</td>\n",
              "      <td>0</td>\n",
              "      <td>1</td>\n",
              "      <td>0</td>\n",
              "      <td>0</td>\n",
              "      <td>...</td>\n",
              "      <td>0</td>\n",
              "      <td>0</td>\n",
              "      <td>0</td>\n",
              "      <td>0</td>\n",
              "      <td>0</td>\n",
              "      <td>0</td>\n",
              "      <td>0</td>\n",
              "      <td>0</td>\n",
              "      <td>4.0</td>\n",
              "      <td>-216.93</td>\n",
              "    </tr>\n",
              "    <tr>\n",
              "      <th>1</th>\n",
              "      <td>0.111860</td>\n",
              "      <td>0.007538</td>\n",
              "      <td>0.219512</td>\n",
              "      <td>0</td>\n",
              "      <td>0</td>\n",
              "      <td>0</td>\n",
              "      <td>0</td>\n",
              "      <td>1</td>\n",
              "      <td>0</td>\n",
              "      <td>0</td>\n",
              "      <td>...</td>\n",
              "      <td>0</td>\n",
              "      <td>0</td>\n",
              "      <td>0</td>\n",
              "      <td>0</td>\n",
              "      <td>0</td>\n",
              "      <td>0</td>\n",
              "      <td>0</td>\n",
              "      <td>0</td>\n",
              "      <td>3.0</td>\n",
              "      <td>863.00</td>\n",
              "    </tr>\n",
              "    <tr>\n",
              "      <th>2</th>\n",
              "      <td>0.188476</td>\n",
              "      <td>0.020101</td>\n",
              "      <td>0.234146</td>\n",
              "      <td>0</td>\n",
              "      <td>0</td>\n",
              "      <td>0</td>\n",
              "      <td>0</td>\n",
              "      <td>1</td>\n",
              "      <td>0</td>\n",
              "      <td>0</td>\n",
              "      <td>...</td>\n",
              "      <td>0</td>\n",
              "      <td>0</td>\n",
              "      <td>0</td>\n",
              "      <td>0</td>\n",
              "      <td>0</td>\n",
              "      <td>0</td>\n",
              "      <td>0</td>\n",
              "      <td>0</td>\n",
              "      <td>2.0</td>\n",
              "      <td>932.00</td>\n",
              "    </tr>\n",
              "    <tr>\n",
              "      <th>3</th>\n",
              "      <td>0.294560</td>\n",
              "      <td>0.020101</td>\n",
              "      <td>0.268293</td>\n",
              "      <td>0</td>\n",
              "      <td>0</td>\n",
              "      <td>0</td>\n",
              "      <td>0</td>\n",
              "      <td>1</td>\n",
              "      <td>0</td>\n",
              "      <td>0</td>\n",
              "      <td>...</td>\n",
              "      <td>0</td>\n",
              "      <td>0</td>\n",
              "      <td>0</td>\n",
              "      <td>0</td>\n",
              "      <td>0</td>\n",
              "      <td>0</td>\n",
              "      <td>0</td>\n",
              "      <td>0</td>\n",
              "      <td>2.0</td>\n",
              "      <td>615.06</td>\n",
              "    </tr>\n",
              "    <tr>\n",
              "      <th>4</th>\n",
              "      <td>0.176689</td>\n",
              "      <td>0.007538</td>\n",
              "      <td>0.239024</td>\n",
              "      <td>0</td>\n",
              "      <td>0</td>\n",
              "      <td>0</td>\n",
              "      <td>0</td>\n",
              "      <td>1</td>\n",
              "      <td>0</td>\n",
              "      <td>0</td>\n",
              "      <td>...</td>\n",
              "      <td>0</td>\n",
              "      <td>0</td>\n",
              "      <td>0</td>\n",
              "      <td>0</td>\n",
              "      <td>0</td>\n",
              "      <td>0</td>\n",
              "      <td>0</td>\n",
              "      <td>0</td>\n",
              "      <td>1.0</td>\n",
              "      <td>612.00</td>\n",
              "    </tr>\n",
              "  </tbody>\n",
              "</table>\n",
              "<p>5 rows × 274 columns</p>\n",
              "</div>\n",
              "      <button class=\"colab-df-convert\" onclick=\"convertToInteractive('df-7a9d2872-0f66-4be4-a20e-32c870dbd428')\"\n",
              "              title=\"Convert this dataframe to an interactive table.\"\n",
              "              style=\"display:none;\">\n",
              "        \n",
              "  <svg xmlns=\"http://www.w3.org/2000/svg\" height=\"24px\"viewBox=\"0 0 24 24\"\n",
              "       width=\"24px\">\n",
              "    <path d=\"M0 0h24v24H0V0z\" fill=\"none\"/>\n",
              "    <path d=\"M18.56 5.44l.94 2.06.94-2.06 2.06-.94-2.06-.94-.94-2.06-.94 2.06-2.06.94zm-11 1L8.5 8.5l.94-2.06 2.06-.94-2.06-.94L8.5 2.5l-.94 2.06-2.06.94zm10 10l.94 2.06.94-2.06 2.06-.94-2.06-.94-.94-2.06-.94 2.06-2.06.94z\"/><path d=\"M17.41 7.96l-1.37-1.37c-.4-.4-.92-.59-1.43-.59-.52 0-1.04.2-1.43.59L10.3 9.45l-7.72 7.72c-.78.78-.78 2.05 0 2.83L4 21.41c.39.39.9.59 1.41.59.51 0 1.02-.2 1.41-.59l7.78-7.78 2.81-2.81c.8-.78.8-2.07 0-2.86zM5.41 20L4 18.59l7.72-7.72 1.47 1.35L5.41 20z\"/>\n",
              "  </svg>\n",
              "      </button>\n",
              "      \n",
              "  <style>\n",
              "    .colab-df-container {\n",
              "      display:flex;\n",
              "      flex-wrap:wrap;\n",
              "      gap: 12px;\n",
              "    }\n",
              "\n",
              "    .colab-df-convert {\n",
              "      background-color: #E8F0FE;\n",
              "      border: none;\n",
              "      border-radius: 50%;\n",
              "      cursor: pointer;\n",
              "      display: none;\n",
              "      fill: #1967D2;\n",
              "      height: 32px;\n",
              "      padding: 0 0 0 0;\n",
              "      width: 32px;\n",
              "    }\n",
              "\n",
              "    .colab-df-convert:hover {\n",
              "      background-color: #E2EBFA;\n",
              "      box-shadow: 0px 1px 2px rgba(60, 64, 67, 0.3), 0px 1px 3px 1px rgba(60, 64, 67, 0.15);\n",
              "      fill: #174EA6;\n",
              "    }\n",
              "\n",
              "    [theme=dark] .colab-df-convert {\n",
              "      background-color: #3B4455;\n",
              "      fill: #D2E3FC;\n",
              "    }\n",
              "\n",
              "    [theme=dark] .colab-df-convert:hover {\n",
              "      background-color: #434B5C;\n",
              "      box-shadow: 0px 1px 3px 1px rgba(0, 0, 0, 0.15);\n",
              "      filter: drop-shadow(0px 1px 2px rgba(0, 0, 0, 0.3));\n",
              "      fill: #FFFFFF;\n",
              "    }\n",
              "  </style>\n",
              "\n",
              "      <script>\n",
              "        const buttonEl =\n",
              "          document.querySelector('#df-7a9d2872-0f66-4be4-a20e-32c870dbd428 button.colab-df-convert');\n",
              "        buttonEl.style.display =\n",
              "          google.colab.kernel.accessAllowed ? 'block' : 'none';\n",
              "\n",
              "        async function convertToInteractive(key) {\n",
              "          const element = document.querySelector('#df-7a9d2872-0f66-4be4-a20e-32c870dbd428');\n",
              "          const dataTable =\n",
              "            await google.colab.kernel.invokeFunction('convertToInteractive',\n",
              "                                                     [key], {});\n",
              "          if (!dataTable) return;\n",
              "\n",
              "          const docLinkHtml = 'Like what you see? Visit the ' +\n",
              "            '<a target=\"_blank\" href=https://colab.research.google.com/notebooks/data_table.ipynb>data table notebook</a>'\n",
              "            + ' to learn more about interactive tables.';\n",
              "          element.innerHTML = '';\n",
              "          dataTable['output_type'] = 'display_data';\n",
              "          await google.colab.output.renderOutput(dataTable, element);\n",
              "          const docLink = document.createElement('div');\n",
              "          docLink.innerHTML = docLinkHtml;\n",
              "          element.appendChild(docLink);\n",
              "        }\n",
              "      </script>\n",
              "    </div>\n",
              "  </div>\n",
              "  "
            ]
          },
          "metadata": {},
          "execution_count": 81
        }
      ],
      "source": [
        "final_df.head()"
      ]
    },
    {
      "cell_type": "markdown",
      "metadata": {
        "id": "D2xgHUHN8Qeb"
      },
      "source": [
        "---\n",
        "# **2. Descrição das técnicas utilizadas** \n",
        "\n",
        "Os algoritimos de regressão deverão receber como entrada os dados dos produtos, sendo esses distribuidos em 296 colunas, e deverão prever um valor de saída. Para cada técnica serão utilizados três valores diferentes para Y, a quantidade de unidades vendidas e olucro total obtido com essas vendas."
      ]
    },
    {
      "cell_type": "code",
      "source": [
        "MSE_vals_amount = {}\n",
        "RScore_vals_amount = {}\n",
        "MSE_vals_profit = {}\n",
        "RScore_vals_profit = {}"
      ],
      "metadata": {
        "id": "gkhepEwOvHYl"
      },
      "execution_count": null,
      "outputs": []
    },
    {
      "cell_type": "markdown",
      "metadata": {
        "id": "Q6YJqYvR8IY-"
      },
      "source": [
        "## **2.1. Regressão Multipla**\n",
        "\n",
        "O primeiro conjunto de métodos a sr utilizado é a regressão multipla. Esse método consiste em utilizar várias variáveis simultaneamente para encontrar a saída desejada, e esses coeficientes são ajustados a fim de minimizar a soma dos quadrados residuais entre os valores alvos e os valores preditos. Serão utilizadas duas variantes desse método, uma delas sendo a regressão Linear e a outra a Regressão Ridge com diferentes valores para o parãmetro alfa."
      ]
    },
    {
      "cell_type": "code",
      "execution_count": null,
      "metadata": {
        "id": "BfxQLzLv8l2x"
      },
      "outputs": [],
      "source": [
        "alpha_values = [0, 0.5, 1, 5, 15]\n",
        "\n",
        "def test_linear_regression(y_train, y_test, data_type):\n",
        "  key = 'Linear'\n",
        "  #regressão com todos os atributos disponíveis\n",
        "  regr = LinearRegression().fit(X_train, y_train)\n",
        "  y_pred = regr.predict(X_test)\n",
        "\n",
        "  mse = mean_squared_error(y_test, y_pred)\n",
        "  r2 = r2_score(y_test, y_pred)\n",
        "\n",
        "  if data_type == 'amount':\n",
        "    MSE_vals_amount[key] = mse\n",
        "    RScore_vals_amount[key] = r2\n",
        "  else:\n",
        "    MSE_vals_profit[key] = mse\n",
        "    RScore_vals_profit[key] = r2\n",
        "\n",
        "  print('------------------------')\n",
        "  print( key + \" - MSE: %.2f\" % mse)\n",
        "  print(\"R Score: %.2f\" % r2)\n",
        "\n",
        "  for alpha in alpha_values:\n",
        "    key = \"Ridge alpha = \" + str(alpha)\n",
        "\n",
        "    regRidge = Ridge(alpha=alpha).fit(X_train, y_train)\n",
        "    y_pred = regRidge.predict(X_test)\n",
        "\n",
        "    mse = mean_squared_error(y_test, y_pred)\n",
        "    r2 = r2_score(y_test, y_pred)\n",
        "\n",
        "    if data_type == 'amount':\n",
        "      MSE_vals_amount[key] = mse\n",
        "      RScore_vals_amount[key] = r2\n",
        "    else:\n",
        "      MSE_vals_profit[key] = mse\n",
        "      RScore_vals_profit[key] = r2\n",
        "\n",
        "    print('------------------------')\n",
        "    print( key + \" - MSE: %.2f\" % mse)\n",
        "    print(\"R Score: %.2f\" % r2)"
      ]
    },
    {
      "cell_type": "code",
      "execution_count": null,
      "metadata": {
        "colab": {
          "base_uri": "https://localhost:8080/"
        },
        "id": "K-hVyhu2jGos",
        "outputId": "2a69311b-e78d-4ba6-be91-7438b722b8dc"
      },
      "outputs": [
        {
          "output_type": "stream",
          "name": "stdout",
          "text": [
            "Prediçáo da quantidade de produtos vendidos\n",
            "\n",
            "------------------------\n",
            "Linear - MSE: 32829384611439798613180416.00\n",
            "R Score: -4047064813849089671168.00\n",
            "------------------------\n",
            "Ridge alpha = 0 - MSE: 321672262763417596949944409784320.00\n",
            "R Score: -39654367927670750961341562880.00\n",
            "------------------------\n",
            "Ridge alpha = 0.5 - MSE: 6134.26\n",
            "R Score: 0.24\n",
            "------------------------\n",
            "Ridge alpha = 1 - MSE: 6129.50\n",
            "R Score: 0.24\n",
            "------------------------\n",
            "Ridge alpha = 5 - MSE: 6245.22\n",
            "R Score: 0.23\n",
            "------------------------\n",
            "Ridge alpha = 15 - MSE: 6493.06\n",
            "R Score: 0.20\n"
          ]
        }
      ],
      "source": [
        "print('Prediçáo da quantidade de produtos vendidos\\n')\n",
        "test_linear_regression(y_train_amount, y_test_amount, 'amount')"
      ]
    },
    {
      "cell_type": "code",
      "execution_count": null,
      "metadata": {
        "colab": {
          "base_uri": "https://localhost:8080/"
        },
        "id": "ioSLrQrd4bsW",
        "outputId": "0c6e1fcd-a091-465c-f327-75a3a0d3a730"
      },
      "outputs": [
        {
          "output_type": "stream",
          "name": "stdout",
          "text": [
            "Prediçáo dos lucros obtidos por produto\n",
            "\n",
            "------------------------\n",
            "Linear - MSE: 9928414451794768867470356774912.00\n",
            "R Score: -31683397819614195875840.00\n",
            "------------------------\n",
            "Ridge alpha = 0 - MSE: 26130388737824104124233380849277468672.00\n",
            "R Score: -83386879705851460484455202816.00\n",
            "------------------------\n",
            "Ridge alpha = 0.5 - MSE: 261278794.80\n",
            "R Score: 0.17\n",
            "------------------------\n",
            "Ridge alpha = 1 - MSE: 259794092.61\n",
            "R Score: 0.17\n",
            "------------------------\n",
            "Ridge alpha = 5 - MSE: 259187101.74\n",
            "R Score: 0.17\n",
            "------------------------\n",
            "Ridge alpha = 15 - MSE: 262554851.61\n",
            "R Score: 0.16\n"
          ]
        }
      ],
      "source": [
        "print('Prediçáo dos lucros obtidos por produto\\n')\n",
        "test_linear_regression(y_train_profit, y_test_profit, 'profit')"
      ]
    },
    {
      "cell_type": "markdown",
      "metadata": {
        "id": "rMzqvJurHYwA"
      },
      "source": [
        "## **2.2. Máquina de Vetor de Suporte para Regressão (SVR)**\n",
        "Ao invés de ajustar as margens para separar as classes, a idéia do SVR é ajustar a maior quantidade de exemplos entre as margens, sendo controlada por um hiperparâmetro epsilon"
      ]
    },
    {
      "cell_type": "code",
      "execution_count": null,
      "metadata": {
        "id": "PglOiWvtDAcP"
      },
      "outputs": [],
      "source": [
        "epsilon_values = [0, 0.5, 1, 5, 20]\n",
        "\n",
        "def test_svm(y_train, y_test, data_type):\n",
        "  for epsilon in epsilon_values:\n",
        "    key = \"SVM - alpha = \" + str(epsilon)\n",
        "    regSVM = LinearSVR(epsilon=epsilon).fit(X_train, y_train)\n",
        "    y_pred = regSVM.predict(X_test)\n",
        "\n",
        "    mse = mean_squared_error(y_test, y_pred)\n",
        "    r2 = r2_score(y_test, y_pred)\n",
        "\n",
        "    if data_type == 'amount':\n",
        "      MSE_vals_amount[key] = mse\n",
        "      RScore_vals_amount[key] = r2\n",
        "    else:\n",
        "      MSE_vals_profit[key] = mse\n",
        "      RScore_vals_profit[key] = r2\n",
        "\n",
        "    print('------------------------')\n",
        "    print( key + \" - MSE: %.2f\" % mse)\n",
        "    print(\"R Score: %.2f\" % r2)"
      ]
    },
    {
      "cell_type": "code",
      "execution_count": null,
      "metadata": {
        "colab": {
          "base_uri": "https://localhost:8080/"
        },
        "id": "LfVhRwwkjJKe",
        "outputId": "bb2073df-2c3b-4763-af20-3e68255e27d8"
      },
      "outputs": [
        {
          "output_type": "stream",
          "name": "stdout",
          "text": [
            "Prediçáo da quantidade de produtos vendidos\n",
            "\n",
            "------------------------\n",
            "SVM - alpha = 0 - MSE: 8210.61\n",
            "R Score: -0.01\n",
            "------------------------\n",
            "SVM - alpha = 0.5 - MSE: 8204.29\n",
            "R Score: -0.01\n",
            "------------------------\n",
            "SVM - alpha = 1 - MSE: 8204.14\n",
            "R Score: -0.01\n",
            "------------------------\n",
            "SVM - alpha = 5 - MSE: 8195.26\n",
            "R Score: -0.01\n",
            "------------------------\n",
            "SVM - alpha = 20 - MSE: 7895.11\n",
            "R Score: 0.03\n"
          ]
        }
      ],
      "source": [
        "print('Prediçáo da quantidade de produtos vendidos\\n')\n",
        "test_svm(y_train_amount, y_test_amount, 'amount')"
      ]
    },
    {
      "cell_type": "code",
      "execution_count": null,
      "metadata": {
        "colab": {
          "base_uri": "https://localhost:8080/"
        },
        "id": "1nS6PCwCjPDf",
        "outputId": "9be4b946-ebfe-480b-9d6d-28ac1f9c5176"
      },
      "outputs": [
        {
          "output_type": "stream",
          "name": "stdout",
          "text": [
            "Prediçáo dos lucros obtidos por produto\n",
            "\n",
            "------------------------\n",
            "SVM - alpha = 0 - MSE: 353297609.38\n",
            "R Score: -0.13\n",
            "------------------------\n",
            "SVM - alpha = 0.5 - MSE: 353320215.00\n",
            "R Score: -0.13\n",
            "------------------------\n",
            "SVM - alpha = 1 - MSE: 353318951.66\n",
            "R Score: -0.13\n",
            "------------------------\n",
            "SVM - alpha = 5 - MSE: 353288074.61\n",
            "R Score: -0.13\n",
            "------------------------\n",
            "SVM - alpha = 20 - MSE: 353268270.43\n",
            "R Score: -0.13\n"
          ]
        }
      ],
      "source": [
        "print('Prediçáo dos lucros obtidos por produto\\n')\n",
        "test_svm(y_train_profit, y_test_profit, 'profit')"
      ]
    },
    {
      "cell_type": "markdown",
      "metadata": {
        "id": "FGF6Z_iA70YM"
      },
      "source": [
        "## **2.3. Árvores de Regressão**\n",
        "\n",
        "Assim como no método para classificação, a Árvore de Decisão para Regressão objetiva predizer um valor. Contudo, neste caso, é uma variável quantitativa."
      ]
    },
    {
      "cell_type": "code",
      "execution_count": null,
      "metadata": {
        "id": "Zmtk0veq7-x2"
      },
      "outputs": [],
      "source": [
        "depths = [2, 5, 10, 20, 50, 100]\n",
        "\n",
        "def test_dtr(y_train, y_test, data_type):\n",
        "  for d in depths:\n",
        "    key = \"Decision Tree - max_depth = \" + str(d)\n",
        "    y_pred = DecisionTreeRegressor(max_depth=d).fit(X_train,y_train).predict(X_test)\n",
        "\n",
        "    mse = mean_squared_error(y_test, y_pred)\n",
        "    r2 = r2_score(y_test, y_pred)\n",
        "\n",
        "    if data_type == 'amount':\n",
        "      MSE_vals_amount[key] = mse\n",
        "      RScore_vals_amount[key] = r2\n",
        "    else:\n",
        "      MSE_vals_profit[key] = mse\n",
        "      RScore_vals_profit[key] = r2\n",
        "\n",
        "    print('------------------------')\n",
        "    print( key + \" - MSE: %.2f\" % mse)\n",
        "    print(\"R Score: %.2f\" % r2)"
      ]
    },
    {
      "cell_type": "code",
      "execution_count": null,
      "metadata": {
        "colab": {
          "base_uri": "https://localhost:8080/"
        },
        "id": "e-eH1sH_-sMp",
        "outputId": "9f8d1691-fbe8-4b01-8753-d97d58e74ccc"
      },
      "outputs": [
        {
          "output_type": "stream",
          "name": "stdout",
          "text": [
            "Prediçáo da quantidade de produtos vendidos\n",
            "\n",
            "------------------------\n",
            "Decision Tree - max_depth = 2 - MSE: 6670.59\n",
            "R Score: 0.18\n",
            "------------------------\n",
            "Decision Tree - max_depth = 5 - MSE: 8636.89\n",
            "R Score: -0.06\n",
            "------------------------\n",
            "Decision Tree - max_depth = 10 - MSE: 10082.88\n",
            "R Score: -0.24\n",
            "------------------------\n",
            "Decision Tree - max_depth = 20 - MSE: 9291.37\n",
            "R Score: -0.15\n",
            "------------------------\n",
            "Decision Tree - max_depth = 50 - MSE: 9642.63\n",
            "R Score: -0.19\n",
            "------------------------\n",
            "Decision Tree - max_depth = 100 - MSE: 10542.70\n",
            "R Score: -0.30\n"
          ]
        }
      ],
      "source": [
        "print('Prediçáo da quantidade de produtos vendidos\\n')\n",
        "test_dtr(y_train_amount, y_test_amount, 'amount')"
      ]
    },
    {
      "cell_type": "code",
      "execution_count": null,
      "metadata": {
        "colab": {
          "base_uri": "https://localhost:8080/"
        },
        "id": "0RUHttAM-vBy",
        "outputId": "95efc7f5-6ee5-4757-d3a8-45863175eb86"
      },
      "outputs": [
        {
          "output_type": "stream",
          "name": "stdout",
          "text": [
            "Prediçáo dos lucros obtidos por produto\n",
            "\n",
            "------------------------\n",
            "Decision Tree - max_depth = 2 - MSE: 289035009.16\n",
            "R Score: 0.08\n",
            "------------------------\n",
            "Decision Tree - max_depth = 5 - MSE: 272123033.23\n",
            "R Score: 0.13\n",
            "------------------------\n",
            "Decision Tree - max_depth = 10 - MSE: 449118378.22\n",
            "R Score: -0.43\n",
            "------------------------\n",
            "Decision Tree - max_depth = 20 - MSE: 448878627.48\n",
            "R Score: -0.43\n",
            "------------------------\n",
            "Decision Tree - max_depth = 50 - MSE: 463761329.02\n",
            "R Score: -0.48\n",
            "------------------------\n",
            "Decision Tree - max_depth = 100 - MSE: 431010306.14\n",
            "R Score: -0.38\n"
          ]
        }
      ],
      "source": [
        "print('Prediçáo dos lucros obtidos por produto\\n')\n",
        "test_dtr(y_train_profit, y_test_profit, 'profit')"
      ]
    },
    {
      "cell_type": "markdown",
      "metadata": {
        "id": "imyzJgGYHQM3"
      },
      "source": [
        "## **2.4. Ensembles**\n",
        "\n",
        "### **2.4.1. Bagging (Bootstrap AGGregatION)**\n",
        "\n",
        "Utiliza **múltiplas versões do conjunto de treinamento**, cada um sendo criado selecionando $n' < n$ exemplos a partir de $D$ **com reposição**. Cada um dos subconjuntos formados é utilizado para **treinar um modelo paralelo** e, ao final, **o resultado final é composto pela média dos valores**. \n",
        "\n",
        "Geralmente, o modelo é exatamente o mesmo (árvores de decisão, SVMs, ou outro qualquer).\n",
        "\n"
      ]
    },
    {
      "cell_type": "code",
      "execution_count": null,
      "metadata": {
        "id": "iQ51L0P-HQiA"
      },
      "outputs": [],
      "source": [
        "n_est = [5, 10, 50, 100]\n",
        "\n",
        "def test_bagging(y_train, y_test, data_type):\n",
        "  for n in n_est:\n",
        "    key = \"Bagging - n_estimators = \" + str(n)\n",
        "    y_pred = BaggingRegressor(estimator=SVR(), n_estimators=n).fit(X_train,y_train).predict(X_test)\n",
        "\n",
        "    mse = mean_squared_error(y_test, y_pred)\n",
        "    r2 = r2_score(y_test, y_pred)\n",
        "\n",
        "    if data_type == 'amount':\n",
        "      MSE_vals_amount[key] = mse\n",
        "      RScore_vals_amount[key] = r2\n",
        "    else:\n",
        "      MSE_vals_profit[key] = mse\n",
        "      RScore_vals_profit[key] = r2\n",
        "\n",
        "    print('------------------------')\n",
        "    print( key + \" - MSE: %.2f\" % mse)\n",
        "    print(\"R Score: %.2f\" % r2)"
      ]
    },
    {
      "cell_type": "code",
      "execution_count": null,
      "metadata": {
        "colab": {
          "base_uri": "https://localhost:8080/"
        },
        "id": "Y9ZUChDBIN60",
        "outputId": "794d7a27-6166-41ec-91a3-4fbb9de91396"
      },
      "outputs": [
        {
          "output_type": "stream",
          "name": "stdout",
          "text": [
            "Prediçáo da quantidade de produtos vendidos\n",
            "\n",
            "------------------------\n",
            "Bagging - n_estimators = 5 - MSE: 8278.56\n",
            "R Score: -0.02\n",
            "------------------------\n",
            "Bagging - n_estimators = 10 - MSE: 8278.33\n",
            "R Score: -0.02\n",
            "------------------------\n",
            "Bagging - n_estimators = 50 - MSE: 8285.50\n",
            "R Score: -0.02\n",
            "------------------------\n",
            "Bagging - n_estimators = 100 - MSE: 8293.48\n",
            "R Score: -0.02\n"
          ]
        }
      ],
      "source": [
        "print('Prediçáo da quantidade de produtos vendidos\\n')\n",
        "test_bagging(y_train_amount, y_test_amount, 'amount')"
      ]
    },
    {
      "cell_type": "code",
      "execution_count": null,
      "metadata": {
        "colab": {
          "base_uri": "https://localhost:8080/"
        },
        "id": "lSYrpV9jIU0-",
        "outputId": "08292122-0541-48dd-d2ae-8b7beeb7d3f4"
      },
      "outputs": [
        {
          "output_type": "stream",
          "name": "stdout",
          "text": [
            "Prediçáo dos lucros obtidos por produto\n",
            "\n",
            "------------------------\n",
            "Bagging - n_estimators = 5 - MSE: 338210060.56\n",
            "R Score: -0.08\n",
            "------------------------\n",
            "Bagging - n_estimators = 10 - MSE: 338038174.95\n",
            "R Score: -0.08\n",
            "------------------------\n",
            "Bagging - n_estimators = 50 - MSE: 338300053.90\n",
            "R Score: -0.08\n",
            "------------------------\n",
            "Bagging - n_estimators = 100 - MSE: 338292027.89\n",
            "R Score: -0.08\n"
          ]
        }
      ],
      "source": [
        "print('Prediçáo dos lucros obtidos por produto\\n')\n",
        "test_bagging(y_train_profit, y_test_profit, 'profit')"
      ]
    },
    {
      "cell_type": "markdown",
      "metadata": {
        "id": "udw-fM6IHkUZ"
      },
      "source": [
        "### **2.4.2. Random Forest**\n",
        "\n",
        "**Random Forest** é o método de Bagging mais conhecido e utilizado, sendo baseado em Árvores de Decisão, mas que possui algumas particularidades:\n",
        "- A execução do boostrap busca criar subconjuntos descorrelacionados entre si;\n",
        "- Calcula a média dos resultados."
      ]
    },
    {
      "cell_type": "code",
      "execution_count": null,
      "metadata": {
        "id": "h2yFi0RoHlHR"
      },
      "outputs": [],
      "source": [
        "n_est = [2, 10, 50]\n",
        "max_d = [2, 10, 50]\n",
        "\n",
        "def test_random_forest(y_train, y_test, data_type):\n",
        "  for n in n_est:\n",
        "    for d in max_d:\n",
        "      key = \"Random Forest - n_estimators = \" + str(n) + \", max_depth = \" + str(d)\n",
        "      y_pred = RandomForestRegressor(n_estimators=n, max_depth=d).fit(X_train,y_train).predict(X_test)\n",
        "\n",
        "      mse = mean_squared_error(y_test, y_pred)\n",
        "      r2 = r2_score(y_test, y_pred)\n",
        "\n",
        "      if data_type == 'amount':\n",
        "        MSE_vals_amount[key] = mse\n",
        "        RScore_vals_amount[key] = r2\n",
        "      else:\n",
        "        MSE_vals_profit[key] = mse\n",
        "        RScore_vals_profit[key] = r2\n",
        "\n",
        "      print('------------------------')\n",
        "      print( key + \" - MSE: %.2f\" % mse)\n",
        "      print(\"R Score: %.2f\" % r2)\n",
        "        "
      ]
    },
    {
      "cell_type": "code",
      "execution_count": null,
      "metadata": {
        "colab": {
          "base_uri": "https://localhost:8080/"
        },
        "id": "QT4jhFAhKeCL",
        "outputId": "2931d257-edf3-4368-8960-fca71267df5c"
      },
      "outputs": [
        {
          "output_type": "stream",
          "name": "stdout",
          "text": [
            "Prediçáo da quantidade de produtos vendidos\n",
            "\n",
            "------------------------\n",
            "Random Forest - n_estimators = 2, max_depth = 2 - MSE: 6071.79\n",
            "R Score: 0.25\n",
            "------------------------\n",
            "Random Forest - n_estimators = 2, max_depth = 10 - MSE: 5234.37\n",
            "R Score: 0.35\n",
            "------------------------\n",
            "Random Forest - n_estimators = 2, max_depth = 50 - MSE: 8358.94\n",
            "R Score: -0.03\n",
            "------------------------\n",
            "Random Forest - n_estimators = 10, max_depth = 2 - MSE: 6074.31\n",
            "R Score: 0.25\n",
            "------------------------\n",
            "Random Forest - n_estimators = 10, max_depth = 10 - MSE: 4898.72\n",
            "R Score: 0.40\n",
            "------------------------\n",
            "Random Forest - n_estimators = 10, max_depth = 50 - MSE: 6749.81\n",
            "R Score: 0.17\n",
            "------------------------\n",
            "Random Forest - n_estimators = 50, max_depth = 2 - MSE: 6403.60\n",
            "R Score: 0.21\n",
            "------------------------\n",
            "Random Forest - n_estimators = 50, max_depth = 10 - MSE: 4519.32\n",
            "R Score: 0.44\n",
            "------------------------\n",
            "Random Forest - n_estimators = 50, max_depth = 50 - MSE: 5188.25\n",
            "R Score: 0.36\n"
          ]
        }
      ],
      "source": [
        "print('Prediçáo da quantidade de produtos vendidos\\n')\n",
        "test_random_forest(y_train_amount, y_test_amount, 'amount')"
      ]
    },
    {
      "cell_type": "code",
      "execution_count": null,
      "metadata": {
        "colab": {
          "base_uri": "https://localhost:8080/"
        },
        "id": "LH6pZX2GKg2f",
        "outputId": "4d9e3d36-f725-408a-9577-908aa0e1dd73"
      },
      "outputs": [
        {
          "output_type": "stream",
          "name": "stdout",
          "text": [
            "Prediçáo dos lucros obtidos por produto\n",
            "\n",
            "------------------------\n",
            "Random Forest - n_estimators = 2, max_depth = 2 - MSE: 284892939.70\n",
            "R Score: 0.09\n",
            "------------------------\n",
            "Random Forest - n_estimators = 2, max_depth = 10 - MSE: 277262474.07\n",
            "R Score: 0.12\n",
            "------------------------\n",
            "Random Forest - n_estimators = 2, max_depth = 50 - MSE: 348003942.14\n",
            "R Score: -0.11\n",
            "------------------------\n",
            "Random Forest - n_estimators = 10, max_depth = 2 - MSE: 287745897.26\n",
            "R Score: 0.08\n",
            "------------------------\n",
            "Random Forest - n_estimators = 10, max_depth = 10 - MSE: 356659467.77\n",
            "R Score: -0.14\n",
            "------------------------\n",
            "Random Forest - n_estimators = 10, max_depth = 50 - MSE: 383786800.96\n",
            "R Score: -0.22\n",
            "------------------------\n",
            "Random Forest - n_estimators = 50, max_depth = 2 - MSE: 286018408.13\n",
            "R Score: 0.09\n",
            "------------------------\n",
            "Random Forest - n_estimators = 50, max_depth = 10 - MSE: 323713736.90\n",
            "R Score: -0.03\n",
            "------------------------\n",
            "Random Forest - n_estimators = 50, max_depth = 50 - MSE: 327059566.79\n",
            "R Score: -0.04\n"
          ]
        }
      ],
      "source": [
        "print('Prediçáo dos lucros obtidos por produto\\n')\n",
        "test_random_forest(y_train_profit, y_test_profit, 'profit')"
      ]
    },
    {
      "cell_type": "markdown",
      "metadata": {
        "id": "lsUNH8P6J239"
      },
      "source": [
        "### **2.4.3. AdaBoost (Adaptive Boosting)**\n",
        "\n",
        "A ideia de **Boosting** é criar um regressor base e ir adicionando novos regressores para fortalecer este primeiro, aumentando sua performance."
      ]
    },
    {
      "cell_type": "code",
      "execution_count": null,
      "metadata": {
        "id": "BAMNmo9UJ4Xq"
      },
      "outputs": [],
      "source": [
        "n_est = [2, 10, 50, 100]\n",
        "def test_boosting(y_train, y_test, data_type):\n",
        "  for n in n_est:\n",
        "    key = \"AdaBoost - n_estimators = \" + str(n)\n",
        "    y_pred = AdaBoostRegressor(n_estimators=n).fit(X_train,y_train).predict(X_test)\n",
        "    mse = mean_squared_error(y_test, y_pred)\n",
        "    r2 = r2_score(y_test, y_pred)\n",
        "\n",
        "    if data_type == 'amount':\n",
        "      MSE_vals_amount[key] = mse\n",
        "      RScore_vals_amount[key] = r2\n",
        "    else:\n",
        "      MSE_vals_profit[key] = mse\n",
        "      RScore_vals_profit[key] = r2\n",
        "\n",
        "    print('------------------------')\n",
        "    print( key + \" - MSE: %.2f\" % mse)\n",
        "    print(\"R Score: %.2f\" % r2)"
      ]
    },
    {
      "cell_type": "code",
      "source": [
        "print('Prediçáo da quantidade de produtos vendidos\\n')\n",
        "test_boosting(y_train_amount, y_test_amount, 'amount')"
      ],
      "metadata": {
        "colab": {
          "base_uri": "https://localhost:8080/"
        },
        "id": "LHs2yQrvebvc",
        "outputId": "386ae190-bc79-4d31-d4c9-3537d1f06f14"
      },
      "execution_count": null,
      "outputs": [
        {
          "output_type": "stream",
          "name": "stdout",
          "text": [
            "Prediçáo da quantidade de produtos vendidos\n",
            "\n",
            "------------------------\n",
            "AdaBoost - n_estimators = 2 - MSE: 6060.60\n",
            "R Score: 0.25\n",
            "------------------------\n",
            "AdaBoost - n_estimators = 10 - MSE: 5458.94\n",
            "R Score: 0.33\n",
            "------------------------\n",
            "AdaBoost - n_estimators = 50 - MSE: 7309.74\n",
            "R Score: 0.10\n",
            "------------------------\n",
            "AdaBoost - n_estimators = 100 - MSE: 7177.58\n",
            "R Score: 0.12\n"
          ]
        }
      ]
    },
    {
      "cell_type": "code",
      "source": [
        "print('Prediçáo dos lucros obtidos por produto\\n')\n",
        "test_boosting(y_train_profit, y_test_profit, 'profit')"
      ],
      "metadata": {
        "colab": {
          "base_uri": "https://localhost:8080/"
        },
        "id": "A7MHQn5Oebxi",
        "outputId": "9af6e2bb-bd37-4765-8d75-4cc3b4e16a14"
      },
      "execution_count": null,
      "outputs": [
        {
          "output_type": "stream",
          "name": "stdout",
          "text": [
            "Prediçáo dos lucros obtidos por produto\n",
            "\n",
            "------------------------\n",
            "AdaBoost - n_estimators = 2 - MSE: 302178681.81\n",
            "R Score: 0.04\n",
            "------------------------\n",
            "AdaBoost - n_estimators = 10 - MSE: 371407273.02\n",
            "R Score: -0.19\n",
            "------------------------\n",
            "AdaBoost - n_estimators = 50 - MSE: 347701165.31\n",
            "R Score: -0.11\n",
            "------------------------\n",
            "AdaBoost - n_estimators = 100 - MSE: 357768952.97\n",
            "R Score: -0.14\n"
          ]
        }
      ]
    },
    {
      "cell_type": "markdown",
      "source": [
        "## **2.5. Multi-layer Perceptron (MLP)**\n",
        "É uma técnica que consiste em acplar sequencialmente conjuntos de Perceptorns a fim de criar um aproximadpr de funções não linear. Através de operações com paramêtros ajustáveis chamados pesos e bias os dados de entrada são transformados em uma saída que é uma predição do atributo alvo, em seguida o erro entre o valor real e apredição é calculado e à partir desse erro é calculado o gradiente negativo (pois o objetivo é reduzir o erro) para cada parãmetro ajustávele os ajustes são aplicados."
      ],
      "metadata": {
        "id": "yTbNQ7IDhfzK"
      }
    },
    {
      "cell_type": "code",
      "source": [
        "hidden_units = [100, (100, 50), (100, 100), (50, 50, 50)]\n",
        "activations = ['logistic', 'relu']\n",
        "\n",
        "def test_mlp(y_train, y_test, data_type):\n",
        "  for h_u in hidden_units:\n",
        "    for act in activations:\n",
        "      key = \"MLP - hidden_units = \" + str(h_u) + \", activation = \" + act\n",
        "      y_pred = MLPRegressor(hidden_layer_sizes=h_u, activation=act, max_iter=1000).fit(X_train,y_train).predict(X_test)\n",
        "      \n",
        "      mse = mean_squared_error(y_test, y_pred)\n",
        "      r2 = r2_score(y_test, y_pred)\n",
        "\n",
        "      if data_type == 'amount':\n",
        "        MSE_vals_amount[key] = mse\n",
        "        RScore_vals_amount[key] = r2\n",
        "      else:\n",
        "        MSE_vals_profit[key] = mse\n",
        "        RScore_vals_profit[key] = r2\n",
        "\n",
        "      print('------------------------')\n",
        "      print( key + \" - MSE: %.2f\" % mse)\n",
        "      print(\"R Score: %.2f\" % r2)"
      ],
      "metadata": {
        "id": "UyQYhhZHZhYt"
      },
      "execution_count": null,
      "outputs": []
    },
    {
      "cell_type": "code",
      "source": [
        "print('Prediçáo da quantidade de produtos vendidos\\n')\n",
        "test_mlp(y_train_amount, y_test_amount, 'amount')"
      ],
      "metadata": {
        "colab": {
          "base_uri": "https://localhost:8080/"
        },
        "id": "Yg8i8VVobNra",
        "outputId": "19eb7159-4431-4c0f-e4ce-7323c1507df5"
      },
      "execution_count": null,
      "outputs": [
        {
          "output_type": "stream",
          "name": "stdout",
          "text": [
            "Prediçáo da quantidade de produtos vendidos\n",
            "\n"
          ]
        },
        {
          "output_type": "stream",
          "name": "stderr",
          "text": [
            "/usr/local/lib/python3.10/dist-packages/sklearn/neural_network/_multilayer_perceptron.py:686: ConvergenceWarning: Stochastic Optimizer: Maximum iterations (1000) reached and the optimization hasn't converged yet.\n",
            "  warnings.warn(\n"
          ]
        },
        {
          "output_type": "stream",
          "name": "stdout",
          "text": [
            "------------------------\n",
            "MLP - hidden_units = 100, activation = logistic - MSE: 6081.31\n",
            "R Score: 0.25\n"
          ]
        },
        {
          "output_type": "stream",
          "name": "stderr",
          "text": [
            "/usr/local/lib/python3.10/dist-packages/sklearn/neural_network/_multilayer_perceptron.py:686: ConvergenceWarning: Stochastic Optimizer: Maximum iterations (1000) reached and the optimization hasn't converged yet.\n",
            "  warnings.warn(\n"
          ]
        },
        {
          "output_type": "stream",
          "name": "stdout",
          "text": [
            "------------------------\n",
            "MLP - hidden_units = 100, activation = relu - MSE: 6151.78\n",
            "R Score: 0.24\n"
          ]
        },
        {
          "output_type": "stream",
          "name": "stderr",
          "text": [
            "/usr/local/lib/python3.10/dist-packages/sklearn/neural_network/_multilayer_perceptron.py:686: ConvergenceWarning: Stochastic Optimizer: Maximum iterations (1000) reached and the optimization hasn't converged yet.\n",
            "  warnings.warn(\n"
          ]
        },
        {
          "output_type": "stream",
          "name": "stdout",
          "text": [
            "------------------------\n",
            "MLP - hidden_units = (100, 50), activation = logistic - MSE: 6375.85\n",
            "R Score: 0.21\n"
          ]
        },
        {
          "output_type": "stream",
          "name": "stderr",
          "text": [
            "/usr/local/lib/python3.10/dist-packages/sklearn/neural_network/_multilayer_perceptron.py:686: ConvergenceWarning: Stochastic Optimizer: Maximum iterations (1000) reached and the optimization hasn't converged yet.\n",
            "  warnings.warn(\n"
          ]
        },
        {
          "output_type": "stream",
          "name": "stdout",
          "text": [
            "------------------------\n",
            "MLP - hidden_units = (100, 50), activation = relu - MSE: 6191.92\n",
            "R Score: 0.24\n"
          ]
        },
        {
          "output_type": "stream",
          "name": "stderr",
          "text": [
            "/usr/local/lib/python3.10/dist-packages/sklearn/neural_network/_multilayer_perceptron.py:686: ConvergenceWarning: Stochastic Optimizer: Maximum iterations (1000) reached and the optimization hasn't converged yet.\n",
            "  warnings.warn(\n"
          ]
        },
        {
          "output_type": "stream",
          "name": "stdout",
          "text": [
            "------------------------\n",
            "MLP - hidden_units = (100, 100), activation = logistic - MSE: 6060.44\n",
            "R Score: 0.25\n"
          ]
        },
        {
          "output_type": "stream",
          "name": "stderr",
          "text": [
            "/usr/local/lib/python3.10/dist-packages/sklearn/neural_network/_multilayer_perceptron.py:686: ConvergenceWarning: Stochastic Optimizer: Maximum iterations (1000) reached and the optimization hasn't converged yet.\n",
            "  warnings.warn(\n"
          ]
        },
        {
          "output_type": "stream",
          "name": "stdout",
          "text": [
            "------------------------\n",
            "MLP - hidden_units = (100, 100), activation = relu - MSE: 6289.00\n",
            "R Score: 0.22\n"
          ]
        },
        {
          "output_type": "stream",
          "name": "stderr",
          "text": [
            "/usr/local/lib/python3.10/dist-packages/sklearn/neural_network/_multilayer_perceptron.py:686: ConvergenceWarning: Stochastic Optimizer: Maximum iterations (1000) reached and the optimization hasn't converged yet.\n",
            "  warnings.warn(\n"
          ]
        },
        {
          "output_type": "stream",
          "name": "stdout",
          "text": [
            "------------------------\n",
            "MLP - hidden_units = (50, 50, 50), activation = logistic - MSE: 6349.22\n",
            "R Score: 0.22\n",
            "------------------------\n",
            "MLP - hidden_units = (50, 50, 50), activation = relu - MSE: 6089.28\n",
            "R Score: 0.25\n"
          ]
        }
      ]
    },
    {
      "cell_type": "code",
      "source": [
        "print('Prediçáo dos lucros obtidos por produto\\n')\n",
        "test_mlp(y_train_profit, y_test_profit, 'profit')"
      ],
      "metadata": {
        "colab": {
          "base_uri": "https://localhost:8080/"
        },
        "id": "-VrRjHtTbNyQ",
        "outputId": "b960c3df-87f1-4cc4-aba8-b9c9505403cc"
      },
      "execution_count": null,
      "outputs": [
        {
          "output_type": "stream",
          "name": "stdout",
          "text": [
            "Prediçáo dos lucros obtidos por produto\n",
            "\n"
          ]
        },
        {
          "output_type": "stream",
          "name": "stderr",
          "text": [
            "/usr/local/lib/python3.10/dist-packages/sklearn/neural_network/_multilayer_perceptron.py:686: ConvergenceWarning: Stochastic Optimizer: Maximum iterations (1000) reached and the optimization hasn't converged yet.\n",
            "  warnings.warn(\n"
          ]
        },
        {
          "output_type": "stream",
          "name": "stdout",
          "text": [
            "------------------------\n",
            "MLP - hidden_units = 100, activation = logistic - MSE: 356743795.75\n",
            "R Score: -0.14\n"
          ]
        },
        {
          "output_type": "stream",
          "name": "stderr",
          "text": [
            "/usr/local/lib/python3.10/dist-packages/sklearn/neural_network/_multilayer_perceptron.py:686: ConvergenceWarning: Stochastic Optimizer: Maximum iterations (1000) reached and the optimization hasn't converged yet.\n",
            "  warnings.warn(\n"
          ]
        },
        {
          "output_type": "stream",
          "name": "stdout",
          "text": [
            "------------------------\n",
            "MLP - hidden_units = 100, activation = relu - MSE: 297199108.36\n",
            "R Score: 0.05\n"
          ]
        },
        {
          "output_type": "stream",
          "name": "stderr",
          "text": [
            "/usr/local/lib/python3.10/dist-packages/sklearn/neural_network/_multilayer_perceptron.py:686: ConvergenceWarning: Stochastic Optimizer: Maximum iterations (1000) reached and the optimization hasn't converged yet.\n",
            "  warnings.warn(\n"
          ]
        },
        {
          "output_type": "stream",
          "name": "stdout",
          "text": [
            "------------------------\n",
            "MLP - hidden_units = (100, 50), activation = logistic - MSE: 360714131.22\n",
            "R Score: -0.15\n"
          ]
        },
        {
          "output_type": "stream",
          "name": "stderr",
          "text": [
            "/usr/local/lib/python3.10/dist-packages/sklearn/neural_network/_multilayer_perceptron.py:686: ConvergenceWarning: Stochastic Optimizer: Maximum iterations (1000) reached and the optimization hasn't converged yet.\n",
            "  warnings.warn(\n"
          ]
        },
        {
          "output_type": "stream",
          "name": "stdout",
          "text": [
            "------------------------\n",
            "MLP - hidden_units = (100, 50), activation = relu - MSE: 257834969.95\n",
            "R Score: 0.18\n"
          ]
        },
        {
          "output_type": "stream",
          "name": "stderr",
          "text": [
            "/usr/local/lib/python3.10/dist-packages/sklearn/neural_network/_multilayer_perceptron.py:686: ConvergenceWarning: Stochastic Optimizer: Maximum iterations (1000) reached and the optimization hasn't converged yet.\n",
            "  warnings.warn(\n"
          ]
        },
        {
          "output_type": "stream",
          "name": "stdout",
          "text": [
            "------------------------\n",
            "MLP - hidden_units = (100, 100), activation = logistic - MSE: 357566852.26\n",
            "R Score: -0.14\n"
          ]
        },
        {
          "output_type": "stream",
          "name": "stderr",
          "text": [
            "/usr/local/lib/python3.10/dist-packages/sklearn/neural_network/_multilayer_perceptron.py:686: ConvergenceWarning: Stochastic Optimizer: Maximum iterations (1000) reached and the optimization hasn't converged yet.\n",
            "  warnings.warn(\n"
          ]
        },
        {
          "output_type": "stream",
          "name": "stdout",
          "text": [
            "------------------------\n",
            "MLP - hidden_units = (100, 100), activation = relu - MSE: 262103023.56\n",
            "R Score: 0.16\n"
          ]
        },
        {
          "output_type": "stream",
          "name": "stderr",
          "text": [
            "/usr/local/lib/python3.10/dist-packages/sklearn/neural_network/_multilayer_perceptron.py:686: ConvergenceWarning: Stochastic Optimizer: Maximum iterations (1000) reached and the optimization hasn't converged yet.\n",
            "  warnings.warn(\n"
          ]
        },
        {
          "output_type": "stream",
          "name": "stdout",
          "text": [
            "------------------------\n",
            "MLP - hidden_units = (50, 50, 50), activation = logistic - MSE: 360719842.67\n",
            "R Score: -0.15\n",
            "------------------------\n",
            "MLP - hidden_units = (50, 50, 50), activation = relu - MSE: 270825152.92\n",
            "R Score: 0.14\n"
          ]
        },
        {
          "output_type": "stream",
          "name": "stderr",
          "text": [
            "/usr/local/lib/python3.10/dist-packages/sklearn/neural_network/_multilayer_perceptron.py:686: ConvergenceWarning: Stochastic Optimizer: Maximum iterations (1000) reached and the optimization hasn't converged yet.\n",
            "  warnings.warn(\n"
          ]
        }
      ]
    },
    {
      "cell_type": "markdown",
      "source": [
        "# **3. Interpretação dos resultados obtidos**\n",
        "\n",
        "Dentre os modelos experimentados, aqueles que obteveram os melhores resultados para a predição da quantidade de vendas de um determinado produto foi:\n",
        "\n"
      ],
      "metadata": {
        "id": "03LyOZxWlL1x"
      }
    },
    {
      "cell_type": "code",
      "source": [
        "MSE_vals_amount = dict(sorted(MSE_vals_amount.items(), key=lambda item: item[1]))\n",
        "print('Menor MSE = ' + str(MSE_vals_amount[list(MSE_vals_amount)[0]]) + ' -> ' + list(MSE_vals_amount)[0])\n",
        "RScore_vals_amount = dict(sorted(RScore_vals_amount.items(), key=lambda item: item[1]))\n",
        "print('Maior R2 = ' + str(RScore_vals_amount[list(RScore_vals_amount)[-1]]) + ' -> ' + list(RScore_vals_amount)[-1])"
      ],
      "metadata": {
        "colab": {
          "base_uri": "https://localhost:8080/"
        },
        "id": "1Nr7gcujZnef",
        "outputId": "216899b6-8a4a-4ade-c7fd-19e9e5633f7d"
      },
      "execution_count": null,
      "outputs": [
        {
          "output_type": "stream",
          "name": "stdout",
          "text": [
            "Menor MSE = 4519.323495901773 -> Random Forest - n_estimators = 50, max_depth = 10\n",
            "Maior R2 = 0.44287730887614163 -> Random Forest - n_estimators = 50, max_depth = 10\n"
          ]
        }
      ]
    },
    {
      "cell_type": "markdown",
      "source": [
        "E os que obtiveram os melhores resultados na predição do lucro total obtido com um determinado produto foram: "
      ],
      "metadata": {
        "id": "r1gr-tM70hg3"
      }
    },
    {
      "cell_type": "code",
      "source": [
        "MSE_vals_profit = dict(sorted(MSE_vals_profit.items(), key=lambda item: item[1]))\n",
        "print('Menor MSE = ' + str(MSE_vals_profit[list(MSE_vals_profit)[0]]) + ' -> ' + list(MSE_vals_profit)[0])\n",
        "RScore_vals_profit = dict(sorted(RScore_vals_profit.items(), key=lambda item: item[1]))\n",
        "print('Maior R2 = ' + str(RScore_vals_profit[list(RScore_vals_profit)[-1]]) + ' -> ' + list(RScore_vals_profit)[-1])"
      ],
      "metadata": {
        "colab": {
          "base_uri": "https://localhost:8080/"
        },
        "id": "NZdLjsPS0q6o",
        "outputId": "98cedec6-04ab-4c5d-bd93-7a7a24f5c1db"
      },
      "execution_count": null,
      "outputs": [
        {
          "output_type": "stream",
          "name": "stdout",
          "text": [
            "Menor MSE = 257834969.95084238 -> MLP - hidden_units = (100, 50), activation = relu\n",
            "Maior R2 = 0.1772011568993197 -> MLP - hidden_units = (100, 50), activation = relu\n"
          ]
        }
      ]
    },
    {
      "cell_type": "markdown",
      "source": [
        "Esse resultado demonstra que o algoritimo a ser escolhido é bastante influenciado pela variável que está sendo predita, uma vez que com os mesmos dados de entrada, diferentes algoritimos se ajustaram melhor à diferentes tarefas.."
      ],
      "metadata": {
        "id": "b3JTVNCE2igV"
      }
    },
    {
      "cell_type": "code",
      "source": [
        "rf = RandomForestRegressor(n_estimators=10, max_depth=50).fit(X_train, y_train_amount)\n",
        "dt = DecisionTreeRegressor(max_depth=5).fit(X_train, y_train_profit)"
      ],
      "metadata": {
        "id": "0681-G9zEHLz"
      },
      "execution_count": null,
      "outputs": []
    },
    {
      "cell_type": "code",
      "source": [
        "prod_codes = to_predict[prod_code]\n",
        "prod_codes = [code for code in prod_codes]\n",
        "to_predict = to_predict.drop(['index', prod_code], axis=1)\n",
        "to_predict.head()"
      ],
      "metadata": {
        "colab": {
          "base_uri": "https://localhost:8080/",
          "height": 334
        },
        "id": "Nup0rImKFecK",
        "outputId": "7a71a6f2-f4fb-4a04-94b1-a8ec221d9c5e"
      },
      "execution_count": null,
      "outputs": [
        {
          "output_type": "execute_result",
          "data": {
            "text/plain": [
              "   Retail_price      Size       ABV  100g  Liters  ???  Austria  Belgium  \\\n",
              "0      0.388856  0.020101  0.268293     0       0    0        0        1   \n",
              "1      0.176689  0.020101  0.268293     0       0    0        0        1   \n",
              "2      0.129540  0.007538  0.297561     0       0    0        0        1   \n",
              "3      0.129540  0.007538  0.234146     0       0    0        0        1   \n",
              "4      0.182582  0.007538  0.278049     0       0    0        0        1   \n",
              "\n",
              "   Brazil  Canada  ...  Welde Braumanufaktur  Westvleteren Abdij St. Sixtus  \\\n",
              "0       0       0  ...                     0                              0   \n",
              "1       0       0  ...                     0                              0   \n",
              "2       0       0  ...                     0                              0   \n",
              "3       0       0  ...                     0                              0   \n",
              "4       0       0  ...                     0                              0   \n",
              "\n",
              "   Wild Lab  WildBeer  WildLab  XP Brew  Yablodar  Zagovor  Zavod  de Blaugies  \n",
              "0         0         0        0        0         0        0      0            0  \n",
              "1         0         0        0        0         0        0      0            0  \n",
              "2         0         0        0        0         0        0      0            0  \n",
              "3         0         0        0        0         0        0      0            0  \n",
              "4         0         0        0        0         0        0      0            0  \n",
              "\n",
              "[5 rows x 272 columns]"
            ],
            "text/html": [
              "\n",
              "  <div id=\"df-ba1d9cfb-874d-4690-84d2-340a7475dff7\">\n",
              "    <div class=\"colab-df-container\">\n",
              "      <div>\n",
              "<style scoped>\n",
              "    .dataframe tbody tr th:only-of-type {\n",
              "        vertical-align: middle;\n",
              "    }\n",
              "\n",
              "    .dataframe tbody tr th {\n",
              "        vertical-align: top;\n",
              "    }\n",
              "\n",
              "    .dataframe thead th {\n",
              "        text-align: right;\n",
              "    }\n",
              "</style>\n",
              "<table border=\"1\" class=\"dataframe\">\n",
              "  <thead>\n",
              "    <tr style=\"text-align: right;\">\n",
              "      <th></th>\n",
              "      <th>Retail_price</th>\n",
              "      <th>Size</th>\n",
              "      <th>ABV</th>\n",
              "      <th>100g</th>\n",
              "      <th>Liters</th>\n",
              "      <th>???</th>\n",
              "      <th>Austria</th>\n",
              "      <th>Belgium</th>\n",
              "      <th>Brazil</th>\n",
              "      <th>Canada</th>\n",
              "      <th>...</th>\n",
              "      <th>Welde Braumanufaktur</th>\n",
              "      <th>Westvleteren Abdij St. Sixtus</th>\n",
              "      <th>Wild Lab</th>\n",
              "      <th>WildBeer</th>\n",
              "      <th>WildLab</th>\n",
              "      <th>XP Brew</th>\n",
              "      <th>Yablodar</th>\n",
              "      <th>Zagovor</th>\n",
              "      <th>Zavod</th>\n",
              "      <th>de Blaugies</th>\n",
              "    </tr>\n",
              "  </thead>\n",
              "  <tbody>\n",
              "    <tr>\n",
              "      <th>0</th>\n",
              "      <td>0.388856</td>\n",
              "      <td>0.020101</td>\n",
              "      <td>0.268293</td>\n",
              "      <td>0</td>\n",
              "      <td>0</td>\n",
              "      <td>0</td>\n",
              "      <td>0</td>\n",
              "      <td>1</td>\n",
              "      <td>0</td>\n",
              "      <td>0</td>\n",
              "      <td>...</td>\n",
              "      <td>0</td>\n",
              "      <td>0</td>\n",
              "      <td>0</td>\n",
              "      <td>0</td>\n",
              "      <td>0</td>\n",
              "      <td>0</td>\n",
              "      <td>0</td>\n",
              "      <td>0</td>\n",
              "      <td>0</td>\n",
              "      <td>0</td>\n",
              "    </tr>\n",
              "    <tr>\n",
              "      <th>1</th>\n",
              "      <td>0.176689</td>\n",
              "      <td>0.020101</td>\n",
              "      <td>0.268293</td>\n",
              "      <td>0</td>\n",
              "      <td>0</td>\n",
              "      <td>0</td>\n",
              "      <td>0</td>\n",
              "      <td>1</td>\n",
              "      <td>0</td>\n",
              "      <td>0</td>\n",
              "      <td>...</td>\n",
              "      <td>0</td>\n",
              "      <td>0</td>\n",
              "      <td>0</td>\n",
              "      <td>0</td>\n",
              "      <td>0</td>\n",
              "      <td>0</td>\n",
              "      <td>0</td>\n",
              "      <td>0</td>\n",
              "      <td>0</td>\n",
              "      <td>0</td>\n",
              "    </tr>\n",
              "    <tr>\n",
              "      <th>2</th>\n",
              "      <td>0.129540</td>\n",
              "      <td>0.007538</td>\n",
              "      <td>0.297561</td>\n",
              "      <td>0</td>\n",
              "      <td>0</td>\n",
              "      <td>0</td>\n",
              "      <td>0</td>\n",
              "      <td>1</td>\n",
              "      <td>0</td>\n",
              "      <td>0</td>\n",
              "      <td>...</td>\n",
              "      <td>0</td>\n",
              "      <td>0</td>\n",
              "      <td>0</td>\n",
              "      <td>0</td>\n",
              "      <td>0</td>\n",
              "      <td>0</td>\n",
              "      <td>0</td>\n",
              "      <td>0</td>\n",
              "      <td>0</td>\n",
              "      <td>0</td>\n",
              "    </tr>\n",
              "    <tr>\n",
              "      <th>3</th>\n",
              "      <td>0.129540</td>\n",
              "      <td>0.007538</td>\n",
              "      <td>0.234146</td>\n",
              "      <td>0</td>\n",
              "      <td>0</td>\n",
              "      <td>0</td>\n",
              "      <td>0</td>\n",
              "      <td>1</td>\n",
              "      <td>0</td>\n",
              "      <td>0</td>\n",
              "      <td>...</td>\n",
              "      <td>0</td>\n",
              "      <td>0</td>\n",
              "      <td>0</td>\n",
              "      <td>0</td>\n",
              "      <td>0</td>\n",
              "      <td>0</td>\n",
              "      <td>0</td>\n",
              "      <td>0</td>\n",
              "      <td>0</td>\n",
              "      <td>0</td>\n",
              "    </tr>\n",
              "    <tr>\n",
              "      <th>4</th>\n",
              "      <td>0.182582</td>\n",
              "      <td>0.007538</td>\n",
              "      <td>0.278049</td>\n",
              "      <td>0</td>\n",
              "      <td>0</td>\n",
              "      <td>0</td>\n",
              "      <td>0</td>\n",
              "      <td>1</td>\n",
              "      <td>0</td>\n",
              "      <td>0</td>\n",
              "      <td>...</td>\n",
              "      <td>0</td>\n",
              "      <td>0</td>\n",
              "      <td>0</td>\n",
              "      <td>0</td>\n",
              "      <td>0</td>\n",
              "      <td>0</td>\n",
              "      <td>0</td>\n",
              "      <td>0</td>\n",
              "      <td>0</td>\n",
              "      <td>0</td>\n",
              "    </tr>\n",
              "  </tbody>\n",
              "</table>\n",
              "<p>5 rows × 272 columns</p>\n",
              "</div>\n",
              "      <button class=\"colab-df-convert\" onclick=\"convertToInteractive('df-ba1d9cfb-874d-4690-84d2-340a7475dff7')\"\n",
              "              title=\"Convert this dataframe to an interactive table.\"\n",
              "              style=\"display:none;\">\n",
              "        \n",
              "  <svg xmlns=\"http://www.w3.org/2000/svg\" height=\"24px\"viewBox=\"0 0 24 24\"\n",
              "       width=\"24px\">\n",
              "    <path d=\"M0 0h24v24H0V0z\" fill=\"none\"/>\n",
              "    <path d=\"M18.56 5.44l.94 2.06.94-2.06 2.06-.94-2.06-.94-.94-2.06-.94 2.06-2.06.94zm-11 1L8.5 8.5l.94-2.06 2.06-.94-2.06-.94L8.5 2.5l-.94 2.06-2.06.94zm10 10l.94 2.06.94-2.06 2.06-.94-2.06-.94-.94-2.06-.94 2.06-2.06.94z\"/><path d=\"M17.41 7.96l-1.37-1.37c-.4-.4-.92-.59-1.43-.59-.52 0-1.04.2-1.43.59L10.3 9.45l-7.72 7.72c-.78.78-.78 2.05 0 2.83L4 21.41c.39.39.9.59 1.41.59.51 0 1.02-.2 1.41-.59l7.78-7.78 2.81-2.81c.8-.78.8-2.07 0-2.86zM5.41 20L4 18.59l7.72-7.72 1.47 1.35L5.41 20z\"/>\n",
              "  </svg>\n",
              "      </button>\n",
              "      \n",
              "  <style>\n",
              "    .colab-df-container {\n",
              "      display:flex;\n",
              "      flex-wrap:wrap;\n",
              "      gap: 12px;\n",
              "    }\n",
              "\n",
              "    .colab-df-convert {\n",
              "      background-color: #E8F0FE;\n",
              "      border: none;\n",
              "      border-radius: 50%;\n",
              "      cursor: pointer;\n",
              "      display: none;\n",
              "      fill: #1967D2;\n",
              "      height: 32px;\n",
              "      padding: 0 0 0 0;\n",
              "      width: 32px;\n",
              "    }\n",
              "\n",
              "    .colab-df-convert:hover {\n",
              "      background-color: #E2EBFA;\n",
              "      box-shadow: 0px 1px 2px rgba(60, 64, 67, 0.3), 0px 1px 3px 1px rgba(60, 64, 67, 0.15);\n",
              "      fill: #174EA6;\n",
              "    }\n",
              "\n",
              "    [theme=dark] .colab-df-convert {\n",
              "      background-color: #3B4455;\n",
              "      fill: #D2E3FC;\n",
              "    }\n",
              "\n",
              "    [theme=dark] .colab-df-convert:hover {\n",
              "      background-color: #434B5C;\n",
              "      box-shadow: 0px 1px 3px 1px rgba(0, 0, 0, 0.15);\n",
              "      filter: drop-shadow(0px 1px 2px rgba(0, 0, 0, 0.3));\n",
              "      fill: #FFFFFF;\n",
              "    }\n",
              "  </style>\n",
              "\n",
              "      <script>\n",
              "        const buttonEl =\n",
              "          document.querySelector('#df-ba1d9cfb-874d-4690-84d2-340a7475dff7 button.colab-df-convert');\n",
              "        buttonEl.style.display =\n",
              "          google.colab.kernel.accessAllowed ? 'block' : 'none';\n",
              "\n",
              "        async function convertToInteractive(key) {\n",
              "          const element = document.querySelector('#df-ba1d9cfb-874d-4690-84d2-340a7475dff7');\n",
              "          const dataTable =\n",
              "            await google.colab.kernel.invokeFunction('convertToInteractive',\n",
              "                                                     [key], {});\n",
              "          if (!dataTable) return;\n",
              "\n",
              "          const docLinkHtml = 'Like what you see? Visit the ' +\n",
              "            '<a target=\"_blank\" href=https://colab.research.google.com/notebooks/data_table.ipynb>data table notebook</a>'\n",
              "            + ' to learn more about interactive tables.';\n",
              "          element.innerHTML = '';\n",
              "          dataTable['output_type'] = 'display_data';\n",
              "          await google.colab.output.renderOutput(dataTable, element);\n",
              "          const docLink = document.createElement('div');\n",
              "          docLink.innerHTML = docLinkHtml;\n",
              "          element.appendChild(docLink);\n",
              "        }\n",
              "      </script>\n",
              "    </div>\n",
              "  </div>\n",
              "  "
            ]
          },
          "metadata": {},
          "execution_count": 107
        }
      ]
    },
    {
      "cell_type": "code",
      "source": [
        "pred_amount = rf.predict(to_predict).reshape((-1, 1))\n",
        "pred_profit = dt.predict(to_predict).reshape((-1, 1))\n",
        "prod_codes = np.array(prod_codes).reshape((-1, 1))"
      ],
      "metadata": {
        "id": "im6VC8NjG16o"
      },
      "execution_count": null,
      "outputs": []
    },
    {
      "cell_type": "code",
      "source": [
        "print(np.shape(pred_amount))\n",
        "print(np.shape(prod_codes))"
      ],
      "metadata": {
        "colab": {
          "base_uri": "https://localhost:8080/"
        },
        "id": "Ur0waPXqFwkZ",
        "outputId": "9098940d-52d8-4ee9-cc56-77066a2710f5"
      },
      "execution_count": null,
      "outputs": [
        {
          "output_type": "stream",
          "name": "stdout",
          "text": [
            "(2890, 1)\n",
            "(2890, 1)\n"
          ]
        }
      ]
    },
    {
      "cell_type": "code",
      "source": [
        "best_prods = np.concatenate([pred_profit, pred_amount, prod_codes], axis=1)\n",
        "column_values = ['Profit', 'Amount', prod_code]\n",
        "result = pd.DataFrame(data = best_prods,  columns = column_values)"
      ],
      "metadata": {
        "id": "RfkYSGadU9o7"
      },
      "execution_count": null,
      "outputs": []
    },
    {
      "cell_type": "code",
      "source": [
        "result = result.merge(pd.read_csv('Product_range.csv')[[prod_code, 'Name']], on=[prod_code], how='left', indicator=False)"
      ],
      "metadata": {
        "id": "SEmG1G7aVxl_"
      },
      "execution_count": null,
      "outputs": []
    },
    {
      "cell_type": "code",
      "source": [
        "result.sort_values('Profit', ascending=False).head(3)"
      ],
      "metadata": {
        "colab": {
          "base_uri": "https://localhost:8080/",
          "height": 143
        },
        "id": "LIHiv_dUWmQ5",
        "outputId": "793396bb-bf92-47e5-a2d7-da1394fc0b9a"
      },
      "execution_count": null,
      "outputs": [
        {
          "output_type": "execute_result",
          "data": {
            "text/plain": [
              "         Profit   Amount  Product_code                       Name\n",
              "2587  305553.01  755.801        3737.0       Weihenstephaner 1516\n",
              "2593  238048.64  677.632        2961.0  Weihenstephaner Pils 5,1%\n",
              "1046  147667.33  160.650        4827.0     Duchesse Cherry Barrel"
            ],
            "text/html": [
              "\n",
              "  <div id=\"df-0a806830-8da1-415b-91bc-f3b2d5139019\">\n",
              "    <div class=\"colab-df-container\">\n",
              "      <div>\n",
              "<style scoped>\n",
              "    .dataframe tbody tr th:only-of-type {\n",
              "        vertical-align: middle;\n",
              "    }\n",
              "\n",
              "    .dataframe tbody tr th {\n",
              "        vertical-align: top;\n",
              "    }\n",
              "\n",
              "    .dataframe thead th {\n",
              "        text-align: right;\n",
              "    }\n",
              "</style>\n",
              "<table border=\"1\" class=\"dataframe\">\n",
              "  <thead>\n",
              "    <tr style=\"text-align: right;\">\n",
              "      <th></th>\n",
              "      <th>Profit</th>\n",
              "      <th>Amount</th>\n",
              "      <th>Product_code</th>\n",
              "      <th>Name</th>\n",
              "    </tr>\n",
              "  </thead>\n",
              "  <tbody>\n",
              "    <tr>\n",
              "      <th>2587</th>\n",
              "      <td>305553.01</td>\n",
              "      <td>755.801</td>\n",
              "      <td>3737.0</td>\n",
              "      <td>Weihenstephaner 1516</td>\n",
              "    </tr>\n",
              "    <tr>\n",
              "      <th>2593</th>\n",
              "      <td>238048.64</td>\n",
              "      <td>677.632</td>\n",
              "      <td>2961.0</td>\n",
              "      <td>Weihenstephaner Pils 5,1%</td>\n",
              "    </tr>\n",
              "    <tr>\n",
              "      <th>1046</th>\n",
              "      <td>147667.33</td>\n",
              "      <td>160.650</td>\n",
              "      <td>4827.0</td>\n",
              "      <td>Duchesse Cherry Barrel</td>\n",
              "    </tr>\n",
              "  </tbody>\n",
              "</table>\n",
              "</div>\n",
              "      <button class=\"colab-df-convert\" onclick=\"convertToInteractive('df-0a806830-8da1-415b-91bc-f3b2d5139019')\"\n",
              "              title=\"Convert this dataframe to an interactive table.\"\n",
              "              style=\"display:none;\">\n",
              "        \n",
              "  <svg xmlns=\"http://www.w3.org/2000/svg\" height=\"24px\"viewBox=\"0 0 24 24\"\n",
              "       width=\"24px\">\n",
              "    <path d=\"M0 0h24v24H0V0z\" fill=\"none\"/>\n",
              "    <path d=\"M18.56 5.44l.94 2.06.94-2.06 2.06-.94-2.06-.94-.94-2.06-.94 2.06-2.06.94zm-11 1L8.5 8.5l.94-2.06 2.06-.94-2.06-.94L8.5 2.5l-.94 2.06-2.06.94zm10 10l.94 2.06.94-2.06 2.06-.94-2.06-.94-.94-2.06-.94 2.06-2.06.94z\"/><path d=\"M17.41 7.96l-1.37-1.37c-.4-.4-.92-.59-1.43-.59-.52 0-1.04.2-1.43.59L10.3 9.45l-7.72 7.72c-.78.78-.78 2.05 0 2.83L4 21.41c.39.39.9.59 1.41.59.51 0 1.02-.2 1.41-.59l7.78-7.78 2.81-2.81c.8-.78.8-2.07 0-2.86zM5.41 20L4 18.59l7.72-7.72 1.47 1.35L5.41 20z\"/>\n",
              "  </svg>\n",
              "      </button>\n",
              "      \n",
              "  <style>\n",
              "    .colab-df-container {\n",
              "      display:flex;\n",
              "      flex-wrap:wrap;\n",
              "      gap: 12px;\n",
              "    }\n",
              "\n",
              "    .colab-df-convert {\n",
              "      background-color: #E8F0FE;\n",
              "      border: none;\n",
              "      border-radius: 50%;\n",
              "      cursor: pointer;\n",
              "      display: none;\n",
              "      fill: #1967D2;\n",
              "      height: 32px;\n",
              "      padding: 0 0 0 0;\n",
              "      width: 32px;\n",
              "    }\n",
              "\n",
              "    .colab-df-convert:hover {\n",
              "      background-color: #E2EBFA;\n",
              "      box-shadow: 0px 1px 2px rgba(60, 64, 67, 0.3), 0px 1px 3px 1px rgba(60, 64, 67, 0.15);\n",
              "      fill: #174EA6;\n",
              "    }\n",
              "\n",
              "    [theme=dark] .colab-df-convert {\n",
              "      background-color: #3B4455;\n",
              "      fill: #D2E3FC;\n",
              "    }\n",
              "\n",
              "    [theme=dark] .colab-df-convert:hover {\n",
              "      background-color: #434B5C;\n",
              "      box-shadow: 0px 1px 3px 1px rgba(0, 0, 0, 0.15);\n",
              "      filter: drop-shadow(0px 1px 2px rgba(0, 0, 0, 0.3));\n",
              "      fill: #FFFFFF;\n",
              "    }\n",
              "  </style>\n",
              "\n",
              "      <script>\n",
              "        const buttonEl =\n",
              "          document.querySelector('#df-0a806830-8da1-415b-91bc-f3b2d5139019 button.colab-df-convert');\n",
              "        buttonEl.style.display =\n",
              "          google.colab.kernel.accessAllowed ? 'block' : 'none';\n",
              "\n",
              "        async function convertToInteractive(key) {\n",
              "          const element = document.querySelector('#df-0a806830-8da1-415b-91bc-f3b2d5139019');\n",
              "          const dataTable =\n",
              "            await google.colab.kernel.invokeFunction('convertToInteractive',\n",
              "                                                     [key], {});\n",
              "          if (!dataTable) return;\n",
              "\n",
              "          const docLinkHtml = 'Like what you see? Visit the ' +\n",
              "            '<a target=\"_blank\" href=https://colab.research.google.com/notebooks/data_table.ipynb>data table notebook</a>'\n",
              "            + ' to learn more about interactive tables.';\n",
              "          element.innerHTML = '';\n",
              "          dataTable['output_type'] = 'display_data';\n",
              "          await google.colab.output.renderOutput(dataTable, element);\n",
              "          const docLink = document.createElement('div');\n",
              "          docLink.innerHTML = docLinkHtml;\n",
              "          element.appendChild(docLink);\n",
              "        }\n",
              "      </script>\n",
              "    </div>\n",
              "  </div>\n",
              "  "
            ]
          },
          "metadata": {},
          "execution_count": 138
        }
      ]
    },
    {
      "cell_type": "code",
      "source": [
        "result.sort_values('Amount', ascending=False).head(3)"
      ],
      "metadata": {
        "colab": {
          "base_uri": "https://localhost:8080/"
        },
        "id": "Q7Bmone7XDi9",
        "outputId": "c0e2dcf3-331b-43cc-ecc0-da85883c7bd6"
      },
      "execution_count": null,
      "outputs": [
        {
          "output_type": "execute_result",
          "data": {
            "text/plain": [
              "             Profit      Amount  Product_code  \\\n",
              "2587  305553.010000  755.801000        3737.0   \n",
              "2593  238048.640000  677.632000        2961.0   \n",
              "1466   18539.594444  620.966667        1749.0   \n",
              "\n",
              "                                                Name  \n",
              "2587                            Weihenstephaner 1516  \n",
              "2593                       Weihenstephaner Pils 5,1%  \n",
              "1466  Jaws Saison Raspberry Edition / 7.7% / 0.5 but  "
            ],
            "text/html": [
              "\n",
              "  <div id=\"df-84d8759a-7f85-4fe1-8adb-63312e7f8472\">\n",
              "    <div class=\"colab-df-container\">\n",
              "      <div>\n",
              "<style scoped>\n",
              "    .dataframe tbody tr th:only-of-type {\n",
              "        vertical-align: middle;\n",
              "    }\n",
              "\n",
              "    .dataframe tbody tr th {\n",
              "        vertical-align: top;\n",
              "    }\n",
              "\n",
              "    .dataframe thead th {\n",
              "        text-align: right;\n",
              "    }\n",
              "</style>\n",
              "<table border=\"1\" class=\"dataframe\">\n",
              "  <thead>\n",
              "    <tr style=\"text-align: right;\">\n",
              "      <th></th>\n",
              "      <th>Profit</th>\n",
              "      <th>Amount</th>\n",
              "      <th>Product_code</th>\n",
              "      <th>Name</th>\n",
              "    </tr>\n",
              "  </thead>\n",
              "  <tbody>\n",
              "    <tr>\n",
              "      <th>2587</th>\n",
              "      <td>305553.010000</td>\n",
              "      <td>755.801000</td>\n",
              "      <td>3737.0</td>\n",
              "      <td>Weihenstephaner 1516</td>\n",
              "    </tr>\n",
              "    <tr>\n",
              "      <th>2593</th>\n",
              "      <td>238048.640000</td>\n",
              "      <td>677.632000</td>\n",
              "      <td>2961.0</td>\n",
              "      <td>Weihenstephaner Pils 5,1%</td>\n",
              "    </tr>\n",
              "    <tr>\n",
              "      <th>1466</th>\n",
              "      <td>18539.594444</td>\n",
              "      <td>620.966667</td>\n",
              "      <td>1749.0</td>\n",
              "      <td>Jaws Saison Raspberry Edition / 7.7% / 0.5 but</td>\n",
              "    </tr>\n",
              "  </tbody>\n",
              "</table>\n",
              "</div>\n",
              "      <button class=\"colab-df-convert\" onclick=\"convertToInteractive('df-84d8759a-7f85-4fe1-8adb-63312e7f8472')\"\n",
              "              title=\"Convert this dataframe to an interactive table.\"\n",
              "              style=\"display:none;\">\n",
              "        \n",
              "  <svg xmlns=\"http://www.w3.org/2000/svg\" height=\"24px\"viewBox=\"0 0 24 24\"\n",
              "       width=\"24px\">\n",
              "    <path d=\"M0 0h24v24H0V0z\" fill=\"none\"/>\n",
              "    <path d=\"M18.56 5.44l.94 2.06.94-2.06 2.06-.94-2.06-.94-.94-2.06-.94 2.06-2.06.94zm-11 1L8.5 8.5l.94-2.06 2.06-.94-2.06-.94L8.5 2.5l-.94 2.06-2.06.94zm10 10l.94 2.06.94-2.06 2.06-.94-2.06-.94-.94-2.06-.94 2.06-2.06.94z\"/><path d=\"M17.41 7.96l-1.37-1.37c-.4-.4-.92-.59-1.43-.59-.52 0-1.04.2-1.43.59L10.3 9.45l-7.72 7.72c-.78.78-.78 2.05 0 2.83L4 21.41c.39.39.9.59 1.41.59.51 0 1.02-.2 1.41-.59l7.78-7.78 2.81-2.81c.8-.78.8-2.07 0-2.86zM5.41 20L4 18.59l7.72-7.72 1.47 1.35L5.41 20z\"/>\n",
              "  </svg>\n",
              "      </button>\n",
              "      \n",
              "  <style>\n",
              "    .colab-df-container {\n",
              "      display:flex;\n",
              "      flex-wrap:wrap;\n",
              "      gap: 12px;\n",
              "    }\n",
              "\n",
              "    .colab-df-convert {\n",
              "      background-color: #E8F0FE;\n",
              "      border: none;\n",
              "      border-radius: 50%;\n",
              "      cursor: pointer;\n",
              "      display: none;\n",
              "      fill: #1967D2;\n",
              "      height: 32px;\n",
              "      padding: 0 0 0 0;\n",
              "      width: 32px;\n",
              "    }\n",
              "\n",
              "    .colab-df-convert:hover {\n",
              "      background-color: #E2EBFA;\n",
              "      box-shadow: 0px 1px 2px rgba(60, 64, 67, 0.3), 0px 1px 3px 1px rgba(60, 64, 67, 0.15);\n",
              "      fill: #174EA6;\n",
              "    }\n",
              "\n",
              "    [theme=dark] .colab-df-convert {\n",
              "      background-color: #3B4455;\n",
              "      fill: #D2E3FC;\n",
              "    }\n",
              "\n",
              "    [theme=dark] .colab-df-convert:hover {\n",
              "      background-color: #434B5C;\n",
              "      box-shadow: 0px 1px 3px 1px rgba(0, 0, 0, 0.15);\n",
              "      filter: drop-shadow(0px 1px 2px rgba(0, 0, 0, 0.3));\n",
              "      fill: #FFFFFF;\n",
              "    }\n",
              "  </style>\n",
              "\n",
              "      <script>\n",
              "        const buttonEl =\n",
              "          document.querySelector('#df-84d8759a-7f85-4fe1-8adb-63312e7f8472 button.colab-df-convert');\n",
              "        buttonEl.style.display =\n",
              "          google.colab.kernel.accessAllowed ? 'block' : 'none';\n",
              "\n",
              "        async function convertToInteractive(key) {\n",
              "          const element = document.querySelector('#df-84d8759a-7f85-4fe1-8adb-63312e7f8472');\n",
              "          const dataTable =\n",
              "            await google.colab.kernel.invokeFunction('convertToInteractive',\n",
              "                                                     [key], {});\n",
              "          if (!dataTable) return;\n",
              "\n",
              "          const docLinkHtml = 'Like what you see? Visit the ' +\n",
              "            '<a target=\"_blank\" href=https://colab.research.google.com/notebooks/data_table.ipynb>data table notebook</a>'\n",
              "            + ' to learn more about interactive tables.';\n",
              "          element.innerHTML = '';\n",
              "          dataTable['output_type'] = 'display_data';\n",
              "          await google.colab.output.renderOutput(dataTable, element);\n",
              "          const docLink = document.createElement('div');\n",
              "          docLink.innerHTML = docLinkHtml;\n",
              "          element.appendChild(docLink);\n",
              "        }\n",
              "      </script>\n",
              "    </div>\n",
              "  </div>\n",
              "  "
            ]
          },
          "metadata": {},
          "execution_count": 139
        }
      ]
    },
    {
      "cell_type": "code",
      "source": [],
      "metadata": {
        "id": "9Dct5lsnX-Xt"
      },
      "execution_count": null,
      "outputs": []
    }
  ],
  "metadata": {
    "colab": {
      "provenance": [],
      "gpuType": "T4"
    },
    "kernelspec": {
      "display_name": "Python 3",
      "name": "python3"
    },
    "language_info": {
      "name": "python"
    },
    "accelerator": "GPU"
  },
  "nbformat": 4,
  "nbformat_minor": 0
}